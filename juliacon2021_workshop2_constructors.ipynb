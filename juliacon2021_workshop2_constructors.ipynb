{
 "cells": [
  {
   "cell_type": "markdown",
   "metadata": {},
   "source": [
    "# Part 2: CombinedParser Constructors"
   ]
  },
  {
   "cell_type": "code",
   "execution_count": 4,
   "metadata": {},
   "outputs": [],
   "source": [
    "using CombinedParsers                   ## JuliaCon 2021\n",
    "\n",
    "\n",
    "using TextParse"
   ]
  },
  {
   "cell_type": "markdown",
   "metadata": {},
   "source": [
    "### AnyChar"
   ]
  },
  {
   "cell_type": "code",
   "execution_count": 2,
   "metadata": {},
   "outputs": [
    {
     "data": {
      "text/markdown": [
       "```\n",
       "AnyChar(T=Char)\n",
       "```\n",
       "\n",
       "Parser matching exactly one `x::T`, returning the value.\n",
       "\n",
       "```jldoctest\n",
       "julia> AnyChar()\n",
       "re\".\"\n",
       "```\n"
      ],
      "text/plain": [
       "\u001b[36m  AnyChar(T=Char)\u001b[39m\n",
       "\n",
       "  Parser matching exactly one \u001b[36mx::T\u001b[39m, returning the value.\n",
       "\n",
       "\u001b[36m  julia> AnyChar()\u001b[39m\n",
       "\u001b[36m  re\".\"\u001b[39m"
      ]
     },
     "execution_count": 2,
     "metadata": {},
     "output_type": "execute_result"
    }
   ],
   "source": [
    "@doc AnyChar"
   ]
  },
  {
   "cell_type": "markdown",
   "metadata": {},
   "source": [
    "### ValueMatcher"
   ]
  },
  {
   "cell_type": "markdown",
   "metadata": {},
   "source": [
    "#### CharIn"
   ]
  },
  {
   "cell_type": "code",
   "execution_count": 3,
   "metadata": {},
   "outputs": [
    {
     "data": {
      "text/markdown": [
       "```\n",
       "CharIn(x)\n",
       "```\n",
       "\n",
       "Parser matching exactly one element `c` (character) in a sequence, iif [`_ismatch`](@ref)`(c,x)`.\n",
       "\n",
       "```jldoctest\n",
       "julia> a_z = CharIn('a':'z')\n",
       "re\"[a-z]\"\n",
       "\n",
       "julia> parse(a_z, \"a\")\n",
       "'a': ASCII/Unicode U+0061 (category Ll: Letter, lowercase)\n",
       "\n",
       "julia> ac = CharIn(\"ac\")\n",
       "re\"[ac]\"\n",
       "\n",
       "julia> parse(ac, \"c\")\n",
       "'c': ASCII/Unicode U+0063 (category Ll: Letter, lowercase)\n",
       "\n",
       "julia> l = CharIn(islowercase)\n",
       "[islowercase(.)] CharIn\n",
       "::Char\n",
       "\n",
       "julia> parse(l, \"c\")\n",
       "'c': ASCII/Unicode U+0063 (category Ll: Letter, lowercase)\n",
       "\n",
       "```\n",
       "\n",
       "```\n",
       "CharIn(unicode_category::Symbol...)\n",
       "```\n",
       "\n",
       "succeeds if char at cursor is in one of the unicode classes.\n",
       "\n",
       "```jldoctest\n",
       "julia> match(CharIn(:L), \"aB\")\n",
       "ParseMatch(\"a\")\n",
       "\n",
       "julia> match(CharIn(:Lu), \"aB\")\n",
       "ParseMatch(\"B\")\n",
       "\n",
       "julia> match(CharIn(:N), \"aA1\")\n",
       "ParseMatch(\"1\")\n",
       "```\n",
       "\n",
       "Respects boolean logic:\n",
       "\n",
       "```jldoctest\n",
       "julia> parse(CharIn(CharIn(\"ab\")),     \"a\")\n",
       "'a': ASCII/Unicode U+0061 (category Ll: Letter, lowercase)\n",
       "\n",
       "julia> parse(CharIn(CharNotIn(\"bc\")),  \"a\")\n",
       "'a': ASCII/Unicode U+0061 (category Ll: Letter, lowercase)\n",
       "\n",
       "julia> parse(CharNotIn(CharIn(\"bc\")),  \"a\")\n",
       "'a': ASCII/Unicode U+0061 (category Ll: Letter, lowercase)\n",
       "```\n",
       "\n",
       "See also [`CombinedParsers.unicode_classes`](@ref).\n"
      ],
      "text/plain": [
       "\u001b[36m  CharIn(x)\u001b[39m\n",
       "\n",
       "  Parser matching exactly one element \u001b[36mc\u001b[39m (character) in a sequence, iif \u001b[36m_ismatch\u001b[39m\u001b[36m(c,x)\u001b[39m.\n",
       "\n",
       "\u001b[36m  julia> a_z = CharIn('a':'z')\u001b[39m\n",
       "\u001b[36m  re\"[a-z]\"\u001b[39m\n",
       "\u001b[36m  \u001b[39m\n",
       "\u001b[36m  julia> parse(a_z, \"a\")\u001b[39m\n",
       "\u001b[36m  'a': ASCII/Unicode U+0061 (category Ll: Letter, lowercase)\u001b[39m\n",
       "\u001b[36m  \u001b[39m\n",
       "\u001b[36m  julia> ac = CharIn(\"ac\")\u001b[39m\n",
       "\u001b[36m  re\"[ac]\"\u001b[39m\n",
       "\u001b[36m  \u001b[39m\n",
       "\u001b[36m  julia> parse(ac, \"c\")\u001b[39m\n",
       "\u001b[36m  'c': ASCII/Unicode U+0063 (category Ll: Letter, lowercase)\u001b[39m\n",
       "\u001b[36m  \u001b[39m\n",
       "\u001b[36m  julia> l = CharIn(islowercase)\u001b[39m\n",
       "\u001b[36m  [islowercase(.)] CharIn\u001b[39m\n",
       "\u001b[36m  ::Char\u001b[39m\n",
       "\u001b[36m  \u001b[39m\n",
       "\u001b[36m  julia> parse(l, \"c\")\u001b[39m\n",
       "\u001b[36m  'c': ASCII/Unicode U+0063 (category Ll: Letter, lowercase)\u001b[39m\n",
       "\u001b[36m  \u001b[39m\n",
       "\n",
       "\u001b[36m  CharIn(unicode_category::Symbol...)\u001b[39m\n",
       "\n",
       "  succeeds if char at cursor is in one of the unicode classes.\n",
       "\n",
       "\u001b[36m  julia> match(CharIn(:L), \"aB\")\u001b[39m\n",
       "\u001b[36m  ParseMatch(\"a\")\u001b[39m\n",
       "\u001b[36m  \u001b[39m\n",
       "\u001b[36m  julia> match(CharIn(:Lu), \"aB\")\u001b[39m\n",
       "\u001b[36m  ParseMatch(\"B\")\u001b[39m\n",
       "\u001b[36m  \u001b[39m\n",
       "\u001b[36m  julia> match(CharIn(:N), \"aA1\")\u001b[39m\n",
       "\u001b[36m  ParseMatch(\"1\")\u001b[39m\n",
       "\n",
       "  Respects boolean logic:\n",
       "\n",
       "\u001b[36m  julia> parse(CharIn(CharIn(\"ab\")),     \"a\")\u001b[39m\n",
       "\u001b[36m  'a': ASCII/Unicode U+0061 (category Ll: Letter, lowercase)\u001b[39m\n",
       "\u001b[36m  \u001b[39m\n",
       "\u001b[36m  julia> parse(CharIn(CharNotIn(\"bc\")),  \"a\")\u001b[39m\n",
       "\u001b[36m  'a': ASCII/Unicode U+0061 (category Ll: Letter, lowercase)\u001b[39m\n",
       "\u001b[36m  \u001b[39m\n",
       "\u001b[36m  julia> parse(CharNotIn(CharIn(\"bc\")),  \"a\")\u001b[39m\n",
       "\u001b[36m  'a': ASCII/Unicode U+0061 (category Ll: Letter, lowercase)\u001b[39m\n",
       "\n",
       "  See also \u001b[36mCombinedParsers.unicode_classes\u001b[39m."
      ]
     },
     "execution_count": 3,
     "metadata": {},
     "output_type": "execute_result"
    }
   ],
   "source": [
    "@doc CharIn"
   ]
  },
  {
   "cell_type": "markdown",
   "metadata": {},
   "source": [
    "#### CharNotIn"
   ]
  },
  {
   "cell_type": "code",
   "execution_count": 4,
   "metadata": {},
   "outputs": [
    {
     "data": {
      "text/markdown": [
       "```\n",
       "CharNotIn(x)\n",
       "```\n",
       "\n",
       "Parser matching exactly one element (character) in a sequence, iif not in `x`.\n",
       "\n",
       "```jldoctest\n",
       "julia> a_z = CharNotIn('a':'z')\n",
       "re\"[^a-z]\"\n",
       "\n",
       "julia> ac = CharNotIn(\"ac\")\n",
       "re\"[^ac]\"\n",
       "\n",
       "```\n",
       "\n",
       "Respects boolean logic:\n",
       "\n",
       "```jldoctest\n",
       "julia> p = CharNotIn(CharNotIn(\"ab\"));\n",
       "\n",
       "julia> parse(p,\"a\")\n",
       "'a': ASCII/Unicode U+0061 (category Ll: Letter, lowercase)\n",
       "```\n",
       "\n",
       "```\n",
       "CharIn(unicode_classes::Symbol...)\n",
       "```\n",
       "\n",
       "succeeds if char at cursor is not in any of the `unicode_classes`.\n"
      ],
      "text/plain": [
       "\u001b[36m  CharNotIn(x)\u001b[39m\n",
       "\n",
       "  Parser matching exactly one element (character) in a sequence, iif not in \u001b[36mx\u001b[39m.\n",
       "\n",
       "\u001b[36m  julia> a_z = CharNotIn('a':'z')\u001b[39m\n",
       "\u001b[36m  re\"[^a-z]\"\u001b[39m\n",
       "\u001b[36m  \u001b[39m\n",
       "\u001b[36m  julia> ac = CharNotIn(\"ac\")\u001b[39m\n",
       "\u001b[36m  re\"[^ac]\"\u001b[39m\n",
       "\u001b[36m  \u001b[39m\n",
       "\n",
       "  Respects boolean logic:\n",
       "\n",
       "\u001b[36m  julia> p = CharNotIn(CharNotIn(\"ab\"));\u001b[39m\n",
       "\u001b[36m  \u001b[39m\n",
       "\u001b[36m  julia> parse(p,\"a\")\u001b[39m\n",
       "\u001b[36m  'a': ASCII/Unicode U+0061 (category Ll: Letter, lowercase)\u001b[39m\n",
       "\n",
       "\u001b[36m  CharIn(unicode_classes::Symbol...)\u001b[39m\n",
       "\n",
       "  succeeds if char at cursor is not in any of the \u001b[36municode_classes\u001b[39m."
      ]
     },
     "execution_count": 4,
     "metadata": {},
     "output_type": "execute_result"
    }
   ],
   "source": [
    "@doc CharNotIn"
   ]
  },
  {
   "cell_type": "markdown",
   "metadata": {},
   "source": [
    "#### Unicode classes"
   ]
  },
  {
   "cell_type": "code",
   "execution_count": 5,
   "metadata": {},
   "outputs": [
    {
     "data": {
      "text/markdown": [
       "Supported Unicode classes\n",
       "\n",
       "```jldoctest\n",
       "julia> for (k,v) in CombinedParsers.unicode_class\n",
       "         println(\":\",k, \" is a \",v[1],\", \", v[2],\".\")\n",
       "       end\n",
       ":L is a Letter, any kind of letter from any language.\n",
       ":Ll is a Lowercase Letter, a lowercase letter that has an uppercase variant.\n",
       ":Lu is a Uppercase Letter, an uppercase letter that has a lowercase variant.\n",
       ":Lt is a Titlecase Letter, a letter that appears at the start of a word when only the first letter of the word is capitalized.\n",
       ":L& is a Cased Letter, a letter that exists in lowercase and uppercase variants (combination of Ll, Lu and Lt).\n",
       ":Lm is a Modifier Letter, a special character that is used like a letter.\n",
       ":Lo is a Other Letter, a letter or ideograph that does not have lowercase and uppercase variants.\n",
       ":M is a Mark, a character intended to be combined with another character (e.g. accents, umlauts, enclosing boxes, etc.).\n",
       ":Mn is a Non Spacing Mark, a character intended to be combined with another character without taking up extra space (e.g. accents, umlauts, etc.).\n",
       ":Mc is a Spacing Combining Mark, a character intended to be combined with another character that takes up extra space (vowel signs in many Eastern languages).\n",
       ":Me is a Enclosing Mark, a character that encloses the character it is combined with (circle, square, keycap, etc.).\n",
       ":Z is a Separator, any kind of whitespace or invisible separator.\n",
       ":Zs is a Space Separator, a whitespace character that is invisible, but does take up space.\n",
       ":Zl is a Line Separator, line separator character U+2028.\n",
       ":Zp is a Paragraph Separator, paragraph separator character U+2029.\n",
       ":S is a Symbol, math symbols, currency signs, dingbats, box-drawing characters, etc..\n",
       ":Sm is a Math Symbol, any mathematical symbol.\n",
       ":Sc is a Currency Symbol, any currency sign.\n",
       ":Sk is a Modifier Symbol, a combining character (mark) as a full character on its own.\n",
       ":So is a Other Symbol, various symbols that are not math symbols, currency signs, or combining characters.\n",
       ":N is a Number, any kind of numeric character in any script.\n",
       ":Nd is a Decimal Digit Number, a digit zero through nine in any script except ideographic scripts.\n",
       ":Nl is a Letter Number, a number that looks like a letter, such as a Roman numeral.\n",
       ":No is a Other Number, a superscript or subscript digit, or a number that is not a digit 0–9 (excluding numbers from ideographic scripts).\n",
       ":P is a Punctuation, any kind of punctuation character.\n",
       ":Pc is a Connector Punctuation, a punctuation character such as an underscore that connects words.\n",
       ":Pd is a Dash Punctuation, any kind of hyphen or dash.\n",
       ":Ps is a Open Punctuation, any kind of opening bracket.\n",
       ":Pe is a Close Punctuation, any kind of closing bracket.\n",
       ":Pi is a Initial Punctuation, any kind of opening quote.\n",
       ":Pf is a Final Punctuation, any kind of closing quote.\n",
       ":Po is a Other Punctuation, any kind of punctuation character that is not a dash, bracket, quote or connector.\n",
       ":C is a Other, invisible control characters and unused code points.\n",
       ":Cc is a Control, an ASCII or Latin-1 control character: 0x00–0x1F and 0x7F–0x9F.\n",
       ":Cf is a Format, invisible formatting indicator.\n",
       ":Cs is a Surrogate, one half of a surrogate pair in UTF-16 encoding.\n",
       ":Co is a Private Use, any code point reserved for private use.\n",
       ":Cn is a Unassigned, any code point to which no character has been assigned.\n",
       "```\n"
      ],
      "text/plain": [
       "  Supported Unicode classes\n",
       "\n",
       "\u001b[36m  julia> for (k,v) in CombinedParsers.unicode_class\u001b[39m\n",
       "\u001b[36m           println(\":\",k, \" is a \",v[1],\", \", v[2],\".\")\u001b[39m\n",
       "\u001b[36m         end\u001b[39m\n",
       "\u001b[36m  :L is a Letter, any kind of letter from any language.\u001b[39m\n",
       "\u001b[36m  :Ll is a Lowercase Letter, a lowercase letter that has an uppercase variant.\u001b[39m\n",
       "\u001b[36m  :Lu is a Uppercase Letter, an uppercase letter that has a lowercase variant.\u001b[39m\n",
       "\u001b[36m  :Lt is a Titlecase Letter, a letter that appears at the start of a word when only the first letter of the word is capitalized.\u001b[39m\n",
       "\u001b[36m  :L& is a Cased Letter, a letter that exists in lowercase and uppercase variants (combination of Ll, Lu and Lt).\u001b[39m\n",
       "\u001b[36m  :Lm is a Modifier Letter, a special character that is used like a letter.\u001b[39m\n",
       "\u001b[36m  :Lo is a Other Letter, a letter or ideograph that does not have lowercase and uppercase variants.\u001b[39m\n",
       "\u001b[36m  :M is a Mark, a character intended to be combined with another character (e.g. accents, umlauts, enclosing boxes, etc.).\u001b[39m\n",
       "\u001b[36m  :Mn is a Non Spacing Mark, a character intended to be combined with another character without taking up extra space (e.g. accents, umlauts, etc.).\u001b[39m\n",
       "\u001b[36m  :Mc is a Spacing Combining Mark, a character intended to be combined with another character that takes up extra space (vowel signs in many Eastern languages).\u001b[39m\n",
       "\u001b[36m  :Me is a Enclosing Mark, a character that encloses the character it is combined with (circle, square, keycap, etc.).\u001b[39m\n",
       "\u001b[36m  :Z is a Separator, any kind of whitespace or invisible separator.\u001b[39m\n",
       "\u001b[36m  :Zs is a Space Separator, a whitespace character that is invisible, but does take up space.\u001b[39m\n",
       "\u001b[36m  :Zl is a Line Separator, line separator character U+2028.\u001b[39m\n",
       "\u001b[36m  :Zp is a Paragraph Separator, paragraph separator character U+2029.\u001b[39m\n",
       "\u001b[36m  :S is a Symbol, math symbols, currency signs, dingbats, box-drawing characters, etc..\u001b[39m\n",
       "\u001b[36m  :Sm is a Math Symbol, any mathematical symbol.\u001b[39m\n",
       "\u001b[36m  :Sc is a Currency Symbol, any currency sign.\u001b[39m\n",
       "\u001b[36m  :Sk is a Modifier Symbol, a combining character (mark) as a full character on its own.\u001b[39m\n",
       "\u001b[36m  :So is a Other Symbol, various symbols that are not math symbols, currency signs, or combining characters.\u001b[39m\n",
       "\u001b[36m  :N is a Number, any kind of numeric character in any script.\u001b[39m\n",
       "\u001b[36m  :Nd is a Decimal Digit Number, a digit zero through nine in any script except ideographic scripts.\u001b[39m\n",
       "\u001b[36m  :Nl is a Letter Number, a number that looks like a letter, such as a Roman numeral.\u001b[39m\n",
       "\u001b[36m  :No is a Other Number, a superscript or subscript digit, or a number that is not a digit 0–9 (excluding numbers from ideographic scripts).\u001b[39m\n",
       "\u001b[36m  :P is a Punctuation, any kind of punctuation character.\u001b[39m\n",
       "\u001b[36m  :Pc is a Connector Punctuation, a punctuation character such as an underscore that connects words.\u001b[39m\n",
       "\u001b[36m  :Pd is a Dash Punctuation, any kind of hyphen or dash.\u001b[39m\n",
       "\u001b[36m  :Ps is a Open Punctuation, any kind of opening bracket.\u001b[39m\n",
       "\u001b[36m  :Pe is a Close Punctuation, any kind of closing bracket.\u001b[39m\n",
       "\u001b[36m  :Pi is a Initial Punctuation, any kind of opening quote.\u001b[39m\n",
       "\u001b[36m  :Pf is a Final Punctuation, any kind of closing quote.\u001b[39m\n",
       "\u001b[36m  :Po is a Other Punctuation, any kind of punctuation character that is not a dash, bracket, quote or connector.\u001b[39m\n",
       "\u001b[36m  :C is a Other, invisible control characters and unused code points.\u001b[39m\n",
       "\u001b[36m  :Cc is a Control, an ASCII or Latin-1 control character: 0x00–0x1F and 0x7F–0x9F.\u001b[39m\n",
       "\u001b[36m  :Cf is a Format, invisible formatting indicator.\u001b[39m\n",
       "\u001b[36m  :Cs is a Surrogate, one half of a surrogate pair in UTF-16 encoding.\u001b[39m\n",
       "\u001b[36m  :Co is a Private Use, any code point reserved for private use.\u001b[39m\n",
       "\u001b[36m  :Cn is a Unassigned, any code point to which no character has been assigned.\u001b[39m"
      ]
     },
     "execution_count": 5,
     "metadata": {},
     "output_type": "execute_result"
    }
   ],
   "source": [
    "@doc CombinedParsers.unicode_classes"
   ]
  },
  {
   "cell_type": "markdown",
   "metadata": {},
   "source": [
    "#### ValueMatcher internal"
   ]
  },
  {
   "cell_type": "code",
   "execution_count": 6,
   "metadata": {},
   "outputs": [
    {
     "data": {
      "text/markdown": [
       "```\n",
       "ismatch(c::MatchingNever,p)\n",
       "```\n",
       "\n",
       "returns `false`.\n",
       "\n",
       "```\n",
       "ismatch(c,p)\n",
       "```\n",
       "\n",
       "returns [`_ismatch`](@ref)`(c, p)`\n"
      ],
      "text/plain": [
       "\u001b[36m  ismatch(c::MatchingNever,p)\u001b[39m\n",
       "\n",
       "  returns \u001b[36mfalse\u001b[39m.\n",
       "\n",
       "\u001b[36m  ismatch(c,p)\u001b[39m\n",
       "\n",
       "  returns \u001b[36m_ismatch\u001b[39m\u001b[36m(c, p)\u001b[39m"
      ]
     },
     "execution_count": 6,
     "metadata": {},
     "output_type": "execute_result"
    }
   ],
   "source": [
    "@doc CombinedParsers.ismatch"
   ]
  },
  {
   "cell_type": "markdown",
   "metadata": {},
   "source": [
    "calls"
   ]
  },
  {
   "cell_type": "code",
   "execution_count": 7,
   "metadata": {},
   "outputs": [
    {
     "data": {
      "text/markdown": [
       "```\n",
       "_ismatch(x::Char, set::Union{Tuple,Vector})::Bool\n",
       "```\n",
       "\n",
       "Return `_ismatch(x,set...)`.\n",
       "\n",
       "```\n",
       "_ismatch(x, f, r1, r...)\n",
       "```\n",
       "\n",
       "Check if `x` matches any of the options `f, r1,r...`: If `ismatch(x,f)` return `true`, otherwise return `_ismatch(x, r1, r...)`.\n",
       "\n",
       "```\n",
       "_ismatch(x)\n",
       "```\n",
       "\n",
       "returns `false` (out of options)\n",
       "\n",
       "```\n",
       "_ismatch(x, p)\n",
       "```\n",
       "\n",
       "returns `x==p`\n",
       "\n",
       "```\n",
       "_ismatch(c,p::Function)\n",
       "```\n",
       "\n",
       "returns `p(c)`\n",
       "\n",
       "```\n",
       "_ismatch(c,p::AnyChar)\n",
       "```\n",
       "\n",
       "`true`\n",
       "\n",
       "```\n",
       "_ismatch(c,p::Union{StepRange,Set})\n",
       "```\n",
       "\n",
       "returns `c in p`\n"
      ],
      "text/plain": [
       "\u001b[36m  _ismatch(x::Char, set::Union{Tuple,Vector})::Bool\u001b[39m\n",
       "\n",
       "  Return \u001b[36m_ismatch(x,set...)\u001b[39m.\n",
       "\n",
       "\u001b[36m  _ismatch(x, f, r1, r...)\u001b[39m\n",
       "\n",
       "  Check if \u001b[36mx\u001b[39m matches any of the options \u001b[36mf, r1,r...\u001b[39m: If \u001b[36mismatch(x,f)\u001b[39m return \u001b[36mtrue\u001b[39m, otherwise return \u001b[36m_ismatch(x, r1, r...)\u001b[39m.\n",
       "\n",
       "\u001b[36m  _ismatch(x)\u001b[39m\n",
       "\n",
       "  returns \u001b[36mfalse\u001b[39m (out of options)\n",
       "\n",
       "\u001b[36m  _ismatch(x, p)\u001b[39m\n",
       "\n",
       "  returns \u001b[36mx==p\u001b[39m\n",
       "\n",
       "\u001b[36m  _ismatch(c,p::Function)\u001b[39m\n",
       "\n",
       "  returns \u001b[36mp(c)\u001b[39m\n",
       "\n",
       "\u001b[36m  _ismatch(c,p::AnyChar)\u001b[39m\n",
       "\n",
       "  \u001b[36mtrue\u001b[39m\n",
       "\n",
       "\u001b[36m  _ismatch(c,p::Union{StepRange,Set})\u001b[39m\n",
       "\n",
       "  returns \u001b[36mc in p\u001b[39m"
      ]
     },
     "execution_count": 7,
     "metadata": {},
     "output_type": "execute_result"
    }
   ],
   "source": [
    "@doc CombinedParsers._ismatch"
   ]
  },
  {
   "cell_type": "markdown",
   "metadata": {},
   "source": [
    "### Repeat"
   ]
  },
  {
   "cell_type": "code",
   "execution_count": 8,
   "metadata": {},
   "outputs": [
    {
     "data": {
      "text/markdown": [
       "```\n",
       "Repeat(x)\n",
       "Repeat(x; min=0,max=Repeat_max)\n",
       "Repeat(min::Integer, x)\n",
       "Repeat(min::Integer,max::Integer, x)\n",
       "```\n",
       "\n",
       "Parser repeating pattern `x` `min:max` times.\n",
       "\n",
       "```jldoctest\n",
       "julia> Repeat(2,2,'a')\n",
       "a{2}  |> Repeat\n",
       "::Array{Char,1}\n",
       "\n",
       "\n",
       "julia> Repeat(3,'a')\n",
       "a{3,}  |> Repeat\n",
       "::Array{Char,1}\n",
       "\n",
       "```\n",
       "\n",
       "```\n",
       "Repeat(f::Function,a...)\n",
       "```\n",
       "\n",
       "Abbreviation for `map(f,Repeat(a...))`.\n"
      ],
      "text/plain": [
       "\u001b[36m  Repeat(x)\u001b[39m\n",
       "\u001b[36m  Repeat(x; min=0,max=Repeat_max)\u001b[39m\n",
       "\u001b[36m  Repeat(min::Integer, x)\u001b[39m\n",
       "\u001b[36m  Repeat(min::Integer,max::Integer, x)\u001b[39m\n",
       "\n",
       "  Parser repeating pattern \u001b[36mx\u001b[39m \u001b[36mmin:max\u001b[39m times.\n",
       "\n",
       "\u001b[36m  julia> Repeat(2,2,'a')\u001b[39m\n",
       "\u001b[36m  a{2}  |> Repeat\u001b[39m\n",
       "\u001b[36m  ::Array{Char,1}\u001b[39m\n",
       "\u001b[36m  \u001b[39m\n",
       "\u001b[36m  \u001b[39m\n",
       "\u001b[36m  julia> Repeat(3,'a')\u001b[39m\n",
       "\u001b[36m  a{3,}  |> Repeat\u001b[39m\n",
       "\u001b[36m  ::Array{Char,1}\u001b[39m\n",
       "\u001b[36m  \u001b[39m\n",
       "\n",
       "\u001b[36m  Repeat(f::Function,a...)\u001b[39m\n",
       "\n",
       "  Abbreviation for \u001b[36mmap(f,Repeat(a...))\u001b[39m."
      ]
     },
     "execution_count": 8,
     "metadata": {},
     "output_type": "execute_result"
    }
   ],
   "source": [
    "@doc Repeat"
   ]
  },
  {
   "cell_type": "markdown",
   "metadata": {},
   "source": [
    "#### Optional"
   ]
  },
  {
   "cell_type": "code",
   "execution_count": 9,
   "metadata": {},
   "outputs": [
    {
     "data": {
      "text/markdown": [
       "```\n",
       "Optional(parser;default=defaultvalue(result_type(parser)))\n",
       "```\n",
       "\n",
       "Parser that always succeeds.  If parser succeeds, return result of `parser` with curser behind match. If parser does not succeed, return `default` with curser unchanged.\n",
       "\n",
       "```jldoctest\n",
       "julia> match(r\"a?\",\"b\")\n",
       "RegexMatch(\"\")\n",
       "\n",
       "julia> parse(Optional(\"a\", default=42),\"b\")\n",
       "42\n",
       "```\n"
      ],
      "text/plain": [
       "\u001b[36m  Optional(parser;default=defaultvalue(result_type(parser)))\u001b[39m\n",
       "\n",
       "  Parser that always succeeds. If parser succeeds, return result of \u001b[36mparser\u001b[39m with curser behind match. If parser does not succeed, return \u001b[36mdefault\u001b[39m with curser\n",
       "  unchanged.\n",
       "\n",
       "\u001b[36m  julia> match(r\"a?\",\"b\")\u001b[39m\n",
       "\u001b[36m  RegexMatch(\"\")\u001b[39m\n",
       "\u001b[36m  \u001b[39m\n",
       "\u001b[36m  julia> parse(Optional(\"a\", default=42),\"b\")\u001b[39m\n",
       "\u001b[36m  42\u001b[39m"
      ]
     },
     "execution_count": 9,
     "metadata": {},
     "output_type": "execute_result"
    }
   ],
   "source": [
    "@doc Optional"
   ]
  },
  {
   "cell_type": "markdown",
   "metadata": {},
   "source": [
    "#### Lazy"
   ]
  },
  {
   "cell_type": "code",
   "execution_count": 10,
   "metadata": {},
   "outputs": [
    {
     "data": {
      "text/markdown": [
       "```\n",
       "Lazy(x::Repeat)\n",
       "Lazy(x::Optional)\n",
       "```\n",
       "\n",
       "Lazy `x` repetition matching (instead of default greedy).\n",
       "\n",
       "```jldoctest\n",
       "julia> german_street_address = !Lazy(Repeat(AnyChar())) * Repeat1(' ') * TextParse.Numeric(Int)\n",
       "🗄 Sequence\n",
       "├─ .* AnyChar |> Repeat |> !\n",
       "├─ \\  \n",
       "└─ Int64\n",
       "Tuple{SubString,Char,Int64}\n",
       "\n",
       "julia> german_street_address\"Konrad Adenauer Allee    42\"\n",
       "(\"Some Avenue\", ' ', 42)\n",
       "```\n",
       "\n",
       "!!! note\n",
       "    PCRE `@re_str`\n",
       "\n",
       "    ```jldoctest\n",
       "    julia> re\"a+?\"\n",
       "    a+?  |> Repeat |> Lazy\n",
       "    ::Array{Char,1}\n",
       "\n",
       "    julia> re\"a??\"\n",
       "    a?? |missing |> Lazy\n",
       "    ::Union{Missing, Char}\n",
       "    ```\n",
       "\n"
      ],
      "text/plain": [
       "\u001b[36m  Lazy(x::Repeat)\u001b[39m\n",
       "\u001b[36m  Lazy(x::Optional)\u001b[39m\n",
       "\n",
       "  Lazy \u001b[36mx\u001b[39m repetition matching (instead of default greedy).\n",
       "\n",
       "\u001b[36m  julia> german_street_address = !Lazy(Repeat(AnyChar())) * Repeat1(' ') * TextParse.Numeric(Int)\u001b[39m\n",
       "\u001b[36m  🗄 Sequence\u001b[39m\n",
       "\u001b[36m  ├─ .* AnyChar |> Repeat |> !\u001b[39m\n",
       "\u001b[36m  ├─ \\  \u001b[39m\n",
       "\u001b[36m  └─ Int64\u001b[39m\n",
       "\u001b[36m  Tuple{SubString,Char,Int64}\u001b[39m\n",
       "\u001b[36m  \u001b[39m\n",
       "\u001b[36m  julia> german_street_address\"Konrad Adenauer Allee    42\"\u001b[39m\n",
       "\u001b[36m  (\"Some Avenue\", ' ', 42)\u001b[39m\n",
       "\n",
       "\u001b[36m\u001b[1m  │ \u001b[22m\u001b[39m\u001b[36m\u001b[1mNote\u001b[22m\u001b[39m\n",
       "\u001b[36m\u001b[1m  │\u001b[22m\u001b[39m\n",
       "\u001b[36m\u001b[1m  │\u001b[22m\u001b[39m  PCRE \u001b[36m@re_str\u001b[39m\n",
       "\u001b[36m\u001b[1m  │\u001b[22m\u001b[39m\n",
       "\u001b[36m\u001b[1m  │\u001b[22m\u001b[39m\u001b[36m  julia> re\"a+?\"\u001b[39m\n",
       "\u001b[36m\u001b[1m  │\u001b[22m\u001b[39m\u001b[36m  a+?  |> Repeat |> Lazy\u001b[39m\n",
       "\u001b[36m\u001b[1m  │\u001b[22m\u001b[39m\u001b[36m  ::Array{Char,1}\u001b[39m\n",
       "\u001b[36m\u001b[1m  │\u001b[22m\u001b[39m\u001b[36m  \u001b[39m\n",
       "\u001b[36m\u001b[1m  │\u001b[22m\u001b[39m\u001b[36m  julia> re\"a??\"\u001b[39m\n",
       "\u001b[36m\u001b[1m  │\u001b[22m\u001b[39m\u001b[36m  a?? |missing |> Lazy\u001b[39m\n",
       "\u001b[36m\u001b[1m  │\u001b[22m\u001b[39m\u001b[36m  ::Union{Missing, Char}\u001b[39m"
      ]
     },
     "execution_count": 10,
     "metadata": {},
     "output_type": "execute_result"
    }
   ],
   "source": [
    "@doc Lazy"
   ]
  },
  {
   "cell_type": "markdown",
   "metadata": {},
   "source": [
    "#### Repeat stop\n",
    "using `NegativeLookahead`"
   ]
  },
  {
   "cell_type": "code",
   "execution_count": 11,
   "metadata": {},
   "outputs": [
    {
     "data": {
      "text/markdown": [
       "```\n",
       "Repeat_stop(p,stop)\n",
       "Repeat_stop(p,stop; min=0, max=Repeat_max)\n",
       "```\n",
       "\n",
       "Repeat `p` until `stop` (`NegativeLookahead`), not matching `stop`. Sets cursor **before** `stop`. Tries `min:max` times Returns results of `p`.\n",
       "\n",
       "```jldoctest\n",
       "julia> p = Repeat_stop(AnyChar(),'b') * AnyChar()\n",
       "🗄 Sequence\n",
       "├─ 🗄* Sequence[2] |> Repeat\n",
       "│  ├─ (?!🗄) NegativeLookahead\n",
       "│  │  └─ b\n",
       "│  └─ . AnyChar\n",
       "└─ . AnyChar\n",
       "::Tuple{Array{Char,1},Char}\n",
       "\n",
       "julia> parse(p,\"acbX\")\n",
       "(['a', 'c'], 'b')\n",
       "```\n",
       "\n",
       "See also [`NegativeLookahead`](@ref)\n"
      ],
      "text/plain": [
       "\u001b[36m  Repeat_stop(p,stop)\u001b[39m\n",
       "\u001b[36m  Repeat_stop(p,stop; min=0, max=Repeat_max)\u001b[39m\n",
       "\n",
       "  Repeat \u001b[36mp\u001b[39m until \u001b[36mstop\u001b[39m (\u001b[36mNegativeLookahead\u001b[39m), not matching \u001b[36mstop\u001b[39m. Sets cursor \u001b[1mbefore\u001b[22m \u001b[36mstop\u001b[39m. Tries \u001b[36mmin:max\u001b[39m times Returns results of \u001b[36mp\u001b[39m.\n",
       "\n",
       "\u001b[36m  julia> p = Repeat_stop(AnyChar(),'b') * AnyChar()\u001b[39m\n",
       "\u001b[36m  🗄 Sequence\u001b[39m\n",
       "\u001b[36m  ├─ 🗄* Sequence[2] |> Repeat\u001b[39m\n",
       "\u001b[36m  │  ├─ (?!🗄) NegativeLookahead\u001b[39m\n",
       "\u001b[36m  │  │  └─ b\u001b[39m\n",
       "\u001b[36m  │  └─ . AnyChar\u001b[39m\n",
       "\u001b[36m  └─ . AnyChar\u001b[39m\n",
       "\u001b[36m  ::Tuple{Array{Char,1},Char}\u001b[39m\n",
       "\u001b[36m  \u001b[39m\n",
       "\u001b[36m  julia> parse(p,\"acbX\")\u001b[39m\n",
       "\u001b[36m  (['a', 'c'], 'b')\u001b[39m\n",
       "\n",
       "  See also \u001b[36mNegativeLookahead\u001b[39m"
      ]
     },
     "execution_count": 11,
     "metadata": {},
     "output_type": "execute_result"
    }
   ],
   "source": [
    "@doc Repeat_stop"
   ]
  },
  {
   "cell_type": "markdown",
   "metadata": {},
   "source": [
    "#### Repeat until"
   ]
  },
  {
   "cell_type": "code",
   "execution_count": 12,
   "metadata": {},
   "outputs": [
    {
     "data": {
      "text/markdown": [
       "```\n",
       "Repeat_until(p,until, with_until=false; wrap=identity, min=0, max=Repeat_max)\n",
       "```\n",
       "\n",
       "Repeat `p` until `stop` (with [`Repeat_stop`](@ref)). and set point **after** `stop`.\n",
       "\n",
       "Return a `Vector{result_type(p)}` if `wrap_until==false`, otherwise a `Tuple{Vector{result_type(p)},result_type(until)}`.\n",
       "\n",
       "To transform the `Repeat_stop(p)` parser head, provide a function(::Vector{result_type(p)}) in `wrap` keyword argument, e.g.\n",
       "\n",
       "```jldoctest\n",
       "julia> p = Repeat_until(AnyChar(),'b') * AnyChar()\n",
       "🗄 Sequence\n",
       "├─ 🗄 Sequence[1]\n",
       "│  ├─ (?>🗄*) Sequence[2] |> Repeat |> Atomic\n",
       "│  │  ├─ (?!🗄) NegativeLookahead\n",
       "│  │  │  └─ b\n",
       "│  │  └─ . AnyChar\n",
       "│  └─ b\n",
       "└─ . AnyChar\n",
       "::Tuple{Array{Char,1},Char}\n",
       "\n",
       "julia> parse(p,\"acbX\")\n",
       "(['a', 'c'], 'X')\n",
       "\n",
       "julia> parse(Repeat_until(AnyChar(),'b';wrap=JoinSubstring),\"acbX\")\n",
       "\"ac\"\n",
       "```\n",
       "\n",
       "See also [`NegativeLookahead`](@ref)\n"
      ],
      "text/plain": [
       "\u001b[36m  Repeat_until(p,until, with_until=false; wrap=identity, min=0, max=Repeat_max)\u001b[39m\n",
       "\n",
       "  Repeat \u001b[36mp\u001b[39m until \u001b[36mstop\u001b[39m (with \u001b[36mRepeat_stop\u001b[39m). and set point \u001b[1mafter\u001b[22m \u001b[36mstop\u001b[39m.\n",
       "\n",
       "  Return a \u001b[36mVector{result_type(p)}\u001b[39m if \u001b[36mwrap_until==false\u001b[39m, otherwise a \u001b[36mTuple{Vector{result_type(p)},result_type(until)}\u001b[39m.\n",
       "\n",
       "  To transform the \u001b[36mRepeat_stop(p)\u001b[39m parser head, provide a function(::Vector{result_type(p)}) in \u001b[36mwrap\u001b[39m keyword argument, e.g.\n",
       "\n",
       "\u001b[36m  julia> p = Repeat_until(AnyChar(),'b') * AnyChar()\u001b[39m\n",
       "\u001b[36m  🗄 Sequence\u001b[39m\n",
       "\u001b[36m  ├─ 🗄 Sequence[1]\u001b[39m\n",
       "\u001b[36m  │  ├─ (?>🗄*) Sequence[2] |> Repeat |> Atomic\u001b[39m\n",
       "\u001b[36m  │  │  ├─ (?!🗄) NegativeLookahead\u001b[39m\n",
       "\u001b[36m  │  │  │  └─ b\u001b[39m\n",
       "\u001b[36m  │  │  └─ . AnyChar\u001b[39m\n",
       "\u001b[36m  │  └─ b\u001b[39m\n",
       "\u001b[36m  └─ . AnyChar\u001b[39m\n",
       "\u001b[36m  ::Tuple{Array{Char,1},Char}\u001b[39m\n",
       "\u001b[36m  \u001b[39m\n",
       "\u001b[36m  julia> parse(p,\"acbX\")\u001b[39m\n",
       "\u001b[36m  (['a', 'c'], 'X')\u001b[39m\n",
       "\u001b[36m  \u001b[39m\n",
       "\u001b[36m  julia> parse(Repeat_until(AnyChar(),'b';wrap=JoinSubstring),\"acbX\")\u001b[39m\n",
       "\u001b[36m  \"ac\"\u001b[39m\n",
       "\n",
       "  See also \u001b[36mNegativeLookahead\u001b[39m"
      ]
     },
     "execution_count": 12,
     "metadata": {},
     "output_type": "execute_result"
    }
   ],
   "source": [
    "@doc Repeat_until"
   ]
  },
  {
   "cell_type": "markdown",
   "metadata": {},
   "source": [
    "#### join\n",
    "Oriented at `Base.join` (keyword arg `last` not supported yet)"
   ]
  },
  {
   "cell_type": "code",
   "execution_count": 13,
   "metadata": {},
   "outputs": [
    {
     "data": {
      "text/markdown": [
       "```\n",
       "join([io::IO,] strings [, delim [, last]])\n",
       "```\n",
       "\n",
       "Join an array of `strings` into a single string, inserting the given delimiter (if any) between adjacent strings. If `last` is given, it will be used instead of `delim` between the last two strings. If `io` is given, the result is written to `io` rather than returned as as a `String`.\n",
       "\n",
       "`strings` can be any iterable over elements `x` which are convertible to strings via `print(io::IOBuffer, x)`. `strings` will be printed to `io`.\n",
       "\n",
       "# Examples\n",
       "\n",
       "```jldoctest\n",
       "julia> join([\"apples\", \"bananas\", \"pineapples\"], \", \", \" and \")\n",
       "\"apples, bananas and pineapples\"\n",
       "\n",
       "julia> join([1,2,3,4,5])\n",
       "\"12345\"\n",
       "```\n",
       "\n",
       "```\n",
       "Base.join(x::Repeat,delim, infix=:skip)\n",
       "```\n",
       "\n",
       "Parser matching repeated `x.parser` separated by `delim`.\n",
       "\n",
       "```jldoctest\n",
       "julia> parse(join(Repeat(AnyChar()),','),\"a,b,c\")\n",
       "3-element Array{Char,1}:\n",
       " 'a': ASCII/Unicode U+0061 (category Ll: Letter, lowercase)\n",
       " 'b': ASCII/Unicode U+0062 (category Ll: Letter, lowercase)\n",
       " 'c': ASCII/Unicode U+0063 (category Ll: Letter, lowercase)\n",
       "```\n",
       "\n",
       "```jldoctest\n",
       "julia> parse(join(Repeat(AnyChar()),',';infix=:prefix),\"a,b,c\")\n",
       "('a', [(',', 'b'), (',', 'c')])\n",
       "\n",
       "julia> parse(join(Repeat(AnyChar()),',';infix=:suffix),\"a,b,c\")\n",
       "([('a', ','), ('b', ',')], 'c')\n",
       "```\n",
       "\n",
       "```\n",
       "Base.join(x::CombinedParser,delim; kw...)\n",
       "```\n",
       "\n",
       "Shorthand for `join(Repeat(x),delim; kw...)`.\n",
       "\n",
       "```\n",
       "Base.join(f::Function, x::CombinedParser, delim; kw...)\n",
       "```\n",
       "\n",
       "Shorthand for `map(f,join(x,delim; kw...))`.\n"
      ],
      "text/plain": [
       "\u001b[36m  join([io::IO,] strings [, delim [, last]])\u001b[39m\n",
       "\n",
       "  Join an array of \u001b[36mstrings\u001b[39m into a single string, inserting the given delimiter (if any) between adjacent strings. If \u001b[36mlast\u001b[39m is given, it will be used instead\n",
       "  of \u001b[36mdelim\u001b[39m between the last two strings. If \u001b[36mio\u001b[39m is given, the result is written to \u001b[36mio\u001b[39m rather than returned as as a \u001b[36mString\u001b[39m.\n",
       "\n",
       "  \u001b[36mstrings\u001b[39m can be any iterable over elements \u001b[36mx\u001b[39m which are convertible to strings via \u001b[36mprint(io::IOBuffer, x)\u001b[39m. \u001b[36mstrings\u001b[39m will be printed to \u001b[36mio\u001b[39m.\n",
       "\n",
       "\u001b[1m  Examples\u001b[22m\n",
       "\u001b[1m  ≡≡≡≡≡≡≡≡≡≡\u001b[22m\n",
       "\n",
       "\u001b[36m  julia> join([\"apples\", \"bananas\", \"pineapples\"], \", \", \" and \")\u001b[39m\n",
       "\u001b[36m  \"apples, bananas and pineapples\"\u001b[39m\n",
       "\u001b[36m  \u001b[39m\n",
       "\u001b[36m  julia> join([1,2,3,4,5])\u001b[39m\n",
       "\u001b[36m  \"12345\"\u001b[39m\n",
       "\n",
       "\u001b[36m  Base.join(x::Repeat,delim, infix=:skip)\u001b[39m\n",
       "\n",
       "  Parser matching repeated \u001b[36mx.parser\u001b[39m separated by \u001b[36mdelim\u001b[39m.\n",
       "\n",
       "\u001b[36m  julia> parse(join(Repeat(AnyChar()),','),\"a,b,c\")\u001b[39m\n",
       "\u001b[36m  3-element Array{Char,1}:\u001b[39m\n",
       "\u001b[36m   'a': ASCII/Unicode U+0061 (category Ll: Letter, lowercase)\u001b[39m\n",
       "\u001b[36m   'b': ASCII/Unicode U+0062 (category Ll: Letter, lowercase)\u001b[39m\n",
       "\u001b[36m   'c': ASCII/Unicode U+0063 (category Ll: Letter, lowercase)\u001b[39m\n",
       "\n",
       "\u001b[36m  julia> parse(join(Repeat(AnyChar()),',';infix=:prefix),\"a,b,c\")\u001b[39m\n",
       "\u001b[36m  ('a', [(',', 'b'), (',', 'c')])\u001b[39m\n",
       "\u001b[36m  \u001b[39m\n",
       "\u001b[36m  julia> parse(join(Repeat(AnyChar()),',';infix=:suffix),\"a,b,c\")\u001b[39m\n",
       "\u001b[36m  ([('a', ','), ('b', ',')], 'c')\u001b[39m\n",
       "\n",
       "\u001b[36m  Base.join(x::CombinedParser,delim; kw...)\u001b[39m\n",
       "\n",
       "  Shorthand for \u001b[36mjoin(Repeat(x),delim; kw...)\u001b[39m.\n",
       "\n",
       "\u001b[36m  Base.join(f::Function, x::CombinedParser, delim; kw...)\u001b[39m\n",
       "\n",
       "  Shorthand for \u001b[36mmap(f,join(x,delim; kw...))\u001b[39m."
      ]
     },
     "execution_count": 13,
     "metadata": {},
     "output_type": "execute_result"
    }
   ],
   "source": [
    "@doc Base.join"
   ]
  },
  {
   "cell_type": "markdown",
   "metadata": {},
   "source": [
    "### Atomic"
   ]
  },
  {
   "cell_type": "code",
   "execution_count": 14,
   "metadata": {},
   "outputs": [
    {
     "data": {
      "text/markdown": [
       "```\n",
       "Atomic(x)\n",
       "```\n",
       "\n",
       "A parser matching `p`, and failing when required to backtrack (behaving like an atomic group in regular expressions).\n"
      ],
      "text/plain": [
       "\u001b[36m  Atomic(x)\u001b[39m\n",
       "\n",
       "  A parser matching \u001b[36mp\u001b[39m, and failing when required to backtrack (behaving like an atomic group in regular expressions)."
      ]
     },
     "execution_count": 14,
     "metadata": {},
     "output_type": "execute_result"
    }
   ],
   "source": [
    "@doc Atomic"
   ]
  },
  {
   "cell_type": "markdown",
   "metadata": {},
   "source": [
    "is useful to suppress iterating matches"
   ]
  },
  {
   "cell_type": "code",
   "execution_count": 15,
   "metadata": {},
   "outputs": [
    {
     "data": {
      "text/plain": [
       "6-element Array{Tuple{Array{Char,1},Array{Char,1}},1}:\n",
       " (['a', 'b'], [])\n",
       " (['a'], ['b'])\n",
       " (['a'], [])\n",
       " ([], ['a', 'b'])\n",
       " ([], ['a'])\n",
       " ([], [])"
      ]
     },
     "execution_count": 15,
     "metadata": {},
     "output_type": "execute_result"
    }
   ],
   "source": [
    "parse_all(Sequence(Repeat(AnyChar()), Repeat(AnyChar())),\"ab\") |> collect"
   ]
  },
  {
   "cell_type": "markdown",
   "metadata": {},
   "source": [
    "in this case forcing first `Repeat` to be greedy"
   ]
  },
  {
   "cell_type": "code",
   "execution_count": 16,
   "metadata": {},
   "outputs": [
    {
     "data": {
      "text/plain": [
       "1-element Array{Tuple{Array{Char,1},Array{Char,1}},1}:\n",
       " (['a', 'b'], [])"
      ]
     },
     "execution_count": 16,
     "metadata": {},
     "output_type": "execute_result"
    }
   ],
   "source": [
    "parse_all(Sequence(Atomic(Repeat(AnyChar())), Repeat(AnyChar())),\"ab\") |> collect"
   ]
  },
  {
   "cell_type": "markdown",
   "metadata": {},
   "source": [
    "### Sequence"
   ]
  },
  {
   "cell_type": "code",
   "execution_count": 17,
   "metadata": {},
   "outputs": [
    {
     "data": {
      "text/markdown": [
       "```\n",
       "Sequence{P,S,T}\n",
       "```\n",
       "\n",
       "of `parts::P`, [`sequence_state_type`](@ref)`==S` with [`sequence_result_type`](@ref)`==T`.\n",
       "\n",
       "```\n",
       "Sequence(parts::CombinedParser...; tuplestate=false)\n",
       "```\n",
       "\n",
       "of `parts`, [`sequence_state_type`](@ref)`(p; tuplestate=tuplestate)` with [`sequence_result_type`](@ref).\n",
       "\n",
       "Sequences can alternatively created with [`*`](@ref)\n",
       "\n",
       "```jldoctest\n",
       "julia> german_street_address = !Repeat(AnyChar()) * ' ' * TextParse.Numeric(Int)\n",
       "🗄 Sequence\n",
       "├─ .* AnyChar |> Repeat |> !\n",
       "├─ \\  \n",
       "└─ Int64\n",
       "Tuple{SubString,Char,Int64}\n",
       "\n",
       "julia> german_street_address\"Some Avenue 42\"\n",
       "(\"Some Avenue\", ' ', 42)\n",
       "```\n",
       "\n",
       "Indexing (transformation) can be defined with\n",
       "\n",
       "```jldoctest\n",
       "julia> @syntax german_street_in_address = Sequence(!Repeat(AnyChar()), ' ',TextParse.Numeric(Int))[1]\n",
       "🗄 Sequence\n",
       "├─ .* AnyChar |> Repeat |> !\n",
       "├─ \\  \n",
       "└─ Int64\n",
       "SubString\n",
       "\n",
       "julia> german_street_in_address\"Some Avenue 42\"\n",
       "\"Some Avenue\"\n",
       "```\n",
       "\n",
       "!!! note\n",
       "    State is managed as [`sequence_state_type`](@ref)`(parts; tuplestate)`. Overwrite to optimize state types special cases.\n",
       "\n",
       "\n",
       "```\n",
       "Sequence(parts...; kw...)\n",
       "```\n",
       "\n",
       "Parts that are not `::CombinedParser` are converted with [`parser`](@ref).\n",
       "\n",
       "```jldoctest\n",
       "julia> german_street_address = Sequence(!Repeat(AnyChar()), ' ', TextParse.Numeric(Int))\n",
       "🗄 Sequence\n",
       "├─ .* AnyChar |> Repeat |> !\n",
       "├─ \\  \n",
       "└─ Int64\n",
       "Tuple{SubString,Char,Int64}\n",
       "\n",
       "julia> german_street_address\"Some Avenue 42\"\n",
       "(\"Some Avenue\", ' ', 42)\n",
       "```\n",
       "\n",
       "!!! note\n",
       "    Returns a NamedTuple [`Transformation`](@ref) if any part was `Pair{Symbol}`.\n",
       "\n",
       "    ```jldoctest\n",
       "    julia> german_street_address =  Sequence(:street => !Repeat(AnyChar()), \" \", :no => TextParse.Numeric(Int))\n",
       "    🗄 Sequence |> map(ntuple) |> with_name(:german_street_address)\n",
       "    ├─ .* AnyChar |> Repeat |> ! |> with_name(:street)\n",
       "    ├─ \\  \n",
       "    └─ Int64  |> with_name(:no)\n",
       "    ::NamedTuple{(:street, :no),Tuple{SubString,Int64}}\n",
       "\n",
       "    julia> german_street_address\"Some Avenue 42\"\n",
       "    NamedTuple{(:street, :no),Tuple{SubString,Int64}}((\"Some Avenue\", 42))\n",
       "    ```\n",
       "\n",
       "\n",
       "```\n",
       "Sequence(;kw...)\n",
       "```\n",
       "\n",
       "Sequence keyword argument constructors transform the parsing into a named tuple.\n"
      ],
      "text/plain": [
       "\u001b[36m  Sequence{P,S,T}\u001b[39m\n",
       "\n",
       "  of \u001b[36mparts::P\u001b[39m, \u001b[36msequence_state_type\u001b[39m\u001b[36m==S\u001b[39m with \u001b[36msequence_result_type\u001b[39m\u001b[36m==T\u001b[39m.\n",
       "\n",
       "\u001b[36m  Sequence(parts::CombinedParser...; tuplestate=false)\u001b[39m\n",
       "\n",
       "  of \u001b[36mparts\u001b[39m, \u001b[36msequence_state_type\u001b[39m\u001b[36m(p; tuplestate=tuplestate)\u001b[39m with \u001b[36msequence_result_type\u001b[39m.\n",
       "\n",
       "  Sequences can alternatively created with \u001b[36m*\u001b[39m\n",
       "\n",
       "\u001b[36m  julia> german_street_address = !Repeat(AnyChar()) * ' ' * TextParse.Numeric(Int)\u001b[39m\n",
       "\u001b[36m  🗄 Sequence\u001b[39m\n",
       "\u001b[36m  ├─ .* AnyChar |> Repeat |> !\u001b[39m\n",
       "\u001b[36m  ├─ \\  \u001b[39m\n",
       "\u001b[36m  └─ Int64\u001b[39m\n",
       "\u001b[36m  Tuple{SubString,Char,Int64}\u001b[39m\n",
       "\u001b[36m  \u001b[39m\n",
       "\u001b[36m  julia> german_street_address\"Some Avenue 42\"\u001b[39m\n",
       "\u001b[36m  (\"Some Avenue\", ' ', 42)\u001b[39m\n",
       "\n",
       "  Indexing (transformation) can be defined with\n",
       "\n",
       "\u001b[36m  julia> @syntax german_street_in_address = Sequence(!Repeat(AnyChar()), ' ',TextParse.Numeric(Int))[1]\u001b[39m\n",
       "\u001b[36m  🗄 Sequence\u001b[39m\n",
       "\u001b[36m  ├─ .* AnyChar |> Repeat |> !\u001b[39m\n",
       "\u001b[36m  ├─ \\  \u001b[39m\n",
       "\u001b[36m  └─ Int64\u001b[39m\n",
       "\u001b[36m  SubString\u001b[39m\n",
       "\u001b[36m  \u001b[39m\n",
       "\u001b[36m  julia> german_street_in_address\"Some Avenue 42\"\u001b[39m\n",
       "\u001b[36m  \"Some Avenue\"\u001b[39m\n",
       "\n",
       "\u001b[36m\u001b[1m  │ \u001b[22m\u001b[39m\u001b[36m\u001b[1mNote\u001b[22m\u001b[39m\n",
       "\u001b[36m\u001b[1m  │\u001b[22m\u001b[39m\n",
       "\u001b[36m\u001b[1m  │\u001b[22m\u001b[39m  State is managed as \u001b[36msequence_state_type\u001b[39m\u001b[36m(parts; tuplestate)\u001b[39m. Overwrite to optimize state types special cases.\n",
       "\n",
       "\u001b[36m  Sequence(parts...; kw...)\u001b[39m\n",
       "\n",
       "  Parts that are not \u001b[36m::CombinedParser\u001b[39m are converted with \u001b[36mparser\u001b[39m.\n",
       "\n",
       "\u001b[36m  julia> german_street_address = Sequence(!Repeat(AnyChar()), ' ', TextParse.Numeric(Int))\u001b[39m\n",
       "\u001b[36m  🗄 Sequence\u001b[39m\n",
       "\u001b[36m  ├─ .* AnyChar |> Repeat |> !\u001b[39m\n",
       "\u001b[36m  ├─ \\  \u001b[39m\n",
       "\u001b[36m  └─ Int64\u001b[39m\n",
       "\u001b[36m  Tuple{SubString,Char,Int64}\u001b[39m\n",
       "\u001b[36m  \u001b[39m\n",
       "\u001b[36m  julia> german_street_address\"Some Avenue 42\"\u001b[39m\n",
       "\u001b[36m  (\"Some Avenue\", ' ', 42)\u001b[39m\n",
       "\n",
       "\u001b[36m\u001b[1m  │ \u001b[22m\u001b[39m\u001b[36m\u001b[1mNote\u001b[22m\u001b[39m\n",
       "\u001b[36m\u001b[1m  │\u001b[22m\u001b[39m\n",
       "\u001b[36m\u001b[1m  │\u001b[22m\u001b[39m  Returns a NamedTuple \u001b[36mTransformation\u001b[39m if any part was \u001b[36mPair{Symbol}\u001b[39m.\n",
       "\u001b[36m\u001b[1m  │\u001b[22m\u001b[39m\n",
       "\u001b[36m\u001b[1m  │\u001b[22m\u001b[39m\u001b[36m  julia> german_street_address =  Sequence(:street => !Repeat(AnyChar()), \" \", :no => TextParse.Numeric(Int))\u001b[39m\n",
       "\u001b[36m\u001b[1m  │\u001b[22m\u001b[39m\u001b[36m  🗄 Sequence |> map(ntuple) |> with_name(:german_street_address)\u001b[39m\n",
       "\u001b[36m\u001b[1m  │\u001b[22m\u001b[39m\u001b[36m  ├─ .* AnyChar |> Repeat |> ! |> with_name(:street)\u001b[39m\n",
       "\u001b[36m\u001b[1m  │\u001b[22m\u001b[39m\u001b[36m  ├─ \\  \u001b[39m\n",
       "\u001b[36m\u001b[1m  │\u001b[22m\u001b[39m\u001b[36m  └─ Int64  |> with_name(:no)\u001b[39m\n",
       "\u001b[36m\u001b[1m  │\u001b[22m\u001b[39m\u001b[36m  ::NamedTuple{(:street, :no),Tuple{SubString,Int64}}\u001b[39m\n",
       "\u001b[36m\u001b[1m  │\u001b[22m\u001b[39m\u001b[36m  \u001b[39m\n",
       "\u001b[36m\u001b[1m  │\u001b[22m\u001b[39m\u001b[36m  julia> german_street_address\"Some Avenue 42\"\u001b[39m\n",
       "\u001b[36m\u001b[1m  │\u001b[22m\u001b[39m\u001b[36m  NamedTuple{(:street, :no),Tuple{SubString,Int64}}((\"Some Avenue\", 42))\u001b[39m\n",
       "\n",
       "\u001b[36m  Sequence(;kw...)\u001b[39m\n",
       "\n",
       "  Sequence keyword argument constructors transform the parsing into a named tuple."
      ]
     },
     "execution_count": 17,
     "metadata": {},
     "output_type": "execute_result"
    }
   ],
   "source": [
    "@doc Sequence"
   ]
  },
  {
   "cell_type": "markdown",
   "metadata": {},
   "source": [
    "Simplifying sequences is used for flattening `*` operator calls\n",
    "(will probably be refactored to keyword in `Sequence`)"
   ]
  },
  {
   "cell_type": "code",
   "execution_count": 18,
   "metadata": {},
   "outputs": [
    {
     "data": {
      "text/markdown": [
       "```\n",
       "sSequence(x...)\n",
       "```\n",
       "\n",
       "Simplifying `Sequence`, flatten `Sequence`s, remove `Always` assertions.\n",
       "\n",
       "```jldoctest\n",
       "julia> Sequence('a',CharIn(\"AB\")*'b')\n",
       "🗄 Sequence\n",
       "├─ a\n",
       "└─ 🗄 Sequence\n",
       "   ├─ [AB] CharIn\n",
       "   └─ b\n",
       "::Tuple{Char,Tuple{Char,Char}}\n",
       "\n",
       "\n",
       "julia> sSequence('a',CharIn(\"AB\")*'b')\n",
       "🗄 Sequence\n",
       "├─ a\n",
       "├─ [AB] CharIn\n",
       "└─ b\n",
       "::Tuple{Char,Char,Char}\n",
       "```\n",
       "\n",
       "See also [`Sequence`](@ref)\n"
      ],
      "text/plain": [
       "\u001b[36m  sSequence(x...)\u001b[39m\n",
       "\n",
       "  Simplifying \u001b[36mSequence\u001b[39m, flatten \u001b[36mSequence\u001b[39ms, remove \u001b[36mAlways\u001b[39m assertions.\n",
       "\n",
       "\u001b[36m  julia> Sequence('a',CharIn(\"AB\")*'b')\u001b[39m\n",
       "\u001b[36m  🗄 Sequence\u001b[39m\n",
       "\u001b[36m  ├─ a\u001b[39m\n",
       "\u001b[36m  └─ 🗄 Sequence\u001b[39m\n",
       "\u001b[36m     ├─ [AB] CharIn\u001b[39m\n",
       "\u001b[36m     └─ b\u001b[39m\n",
       "\u001b[36m  ::Tuple{Char,Tuple{Char,Char}}\u001b[39m\n",
       "\u001b[36m  \u001b[39m\n",
       "\u001b[36m  \u001b[39m\n",
       "\u001b[36m  julia> sSequence('a',CharIn(\"AB\")*'b')\u001b[39m\n",
       "\u001b[36m  🗄 Sequence\u001b[39m\n",
       "\u001b[36m  ├─ a\u001b[39m\n",
       "\u001b[36m  ├─ [AB] CharIn\u001b[39m\n",
       "\u001b[36m  └─ b\u001b[39m\n",
       "\u001b[36m  ::Tuple{Char,Char,Char}\u001b[39m\n",
       "\n",
       "  See also \u001b[36mSequence\u001b[39m"
      ]
     },
     "execution_count": 18,
     "metadata": {},
     "output_type": "execute_result"
    }
   ],
   "source": [
    "@doc sSequence"
   ]
  },
  {
   "cell_type": "markdown",
   "metadata": {},
   "source": [
    "Flexible `Sequence` state:"
   ]
  },
  {
   "cell_type": "code",
   "execution_count": 19,
   "metadata": {},
   "outputs": [
    {
     "data": {
      "text/markdown": [
       "```\n",
       "sequence_state_type(pts::Type; tuplestate=false)\n",
       "```\n",
       "\n",
       "  * `MatchState` if all `fieldtypes` are `MatchState`,\n",
       "  * otherwise if `tuplestate`, a tuple type with the `state_type` of `parts`,\n",
       "  * or `Vector{Any}` if `!tuplestate`.\n",
       "\n",
       "!!! note\n",
       "    Todo: NCodeunitsState instead of MatchState might increase performance.\n",
       "\n"
      ],
      "text/plain": [
       "\u001b[36m  sequence_state_type(pts::Type; tuplestate=false)\u001b[39m\n",
       "\n",
       "    •    \u001b[36mMatchState\u001b[39m if all \u001b[36mfieldtypes\u001b[39m are \u001b[36mMatchState\u001b[39m, \n",
       "\n",
       "    •    otherwise if \u001b[36mtuplestate\u001b[39m, a tuple type with the \u001b[36mstate_type\u001b[39m of \u001b[36mparts\u001b[39m,\n",
       "\n",
       "    •    or \u001b[36mVector{Any}\u001b[39m if \u001b[36m!tuplestate\u001b[39m.\n",
       "\n",
       "\u001b[36m\u001b[1m  │ \u001b[22m\u001b[39m\u001b[36m\u001b[1mNote\u001b[22m\u001b[39m\n",
       "\u001b[36m\u001b[1m  │\u001b[22m\u001b[39m\n",
       "\u001b[36m\u001b[1m  │\u001b[22m\u001b[39m  Todo: NCodeunitsState instead of MatchState might increase performance."
      ]
     },
     "execution_count": 19,
     "metadata": {},
     "output_type": "execute_result"
    }
   ],
   "source": [
    "@doc CombinedParsers.sequence_state_type"
   ]
  },
  {
   "cell_type": "markdown",
   "metadata": {},
   "source": [
    "`Sequence` results in a `Tuple` by default:"
   ]
  },
  {
   "cell_type": "code",
   "execution_count": 20,
   "metadata": {},
   "outputs": [
    {
     "data": {
      "text/markdown": [
       "```\n",
       "sequence_result_type(::Type{T}) where {T<:Tuple}\n",
       "```\n",
       "\n",
       "`Tuple` type, internally used for `Sequence` result_type.\n"
      ],
      "text/plain": [
       "\u001b[36m  sequence_result_type(::Type{T}) where {T<:Tuple}\u001b[39m\n",
       "\n",
       "  \u001b[36mTuple\u001b[39m type, internally used for \u001b[36mSequence\u001b[39m result_type."
      ]
     },
     "execution_count": 20,
     "metadata": {},
     "output_type": "execute_result"
    }
   ],
   "source": [
    "@doc CombinedParsers.sequence_result_type"
   ]
  },
  {
   "cell_type": "markdown",
   "metadata": {},
   "source": [
    "### Either\n",
    "More later for recursive parsing"
   ]
  },
  {
   "cell_type": "code",
   "execution_count": 21,
   "metadata": {},
   "outputs": [
    {
     "data": {
      "text/markdown": [
       "Parser that tries matching the provided parsers in order, accepting the first match, and fails if all parsers fail.\n",
       "\n",
       "This parser has no `==` and `hash` methods because it can recurse.\n",
       "\n",
       "```jldoctest\n",
       "julia> match(r\"a|bc\",\"bc\")\n",
       "RegexMatch(\"bc\")\n",
       "\n",
       "julia> parse(Either(\"a\",\"bc\"),\"bc\")\n",
       "\"bc\"\n",
       "\n",
       "julia> parse(\"a\" | \"bc\",\"bc\")\n",
       "\"bc\"\n",
       "\n",
       "```\n",
       "\n",
       "```\n",
       "Either(p...)\n",
       "```\n",
       "\n",
       "Create a immutable `Either{<:Tuple}` improved for performance. Arguments `p...` are wrapped in [`parser`](@ref), type parameters are computed with [`either_state_type`](@ref) and [`either_result_type`](@ref).\n",
       "\n",
       "```\n",
       "Either(p::Vector)\n",
       "```\n",
       "\n",
       "Create a mutable `Either{Vector{Any}}` for creating recursive parsers. Arguments `p...` are wrapped in [`parser`](@ref), type parameters are computed with [`either_state_type`](@ref) and [`either_result_type`](@ref).\n",
       "\n",
       "See also [`@syntax`](@ref).\n",
       "\n",
       "!!! note\n",
       "    state type and result type are `Any` which might cost performance.\n",
       "\n",
       "\n",
       "```\n",
       "Either{T}(p...)\n",
       "```\n",
       "\n",
       "Create a mutable `Either{<:Vector{Any}}` for creating recursive parsers. Options can be added with [`push!`](@ref) and [`pushfirst!`](@ref).\n",
       "\n",
       "See also [`@syntax`](@ref).\n",
       "\n",
       "!!! note\n",
       "    state type is `Any` which might cost performance.\n",
       "\n",
       "\n",
       "```\n",
       "Either(transform::Function, x::Vararg)\n",
       "```\n",
       "\n",
       "abbreviation for `map(transform, Either(x...))`.\n"
      ],
      "text/plain": [
       "  Parser that tries matching the provided parsers in order, accepting the first match, and fails if all parsers fail.\n",
       "\n",
       "  This parser has no \u001b[36m==\u001b[39m and \u001b[36mhash\u001b[39m methods because it can recurse.\n",
       "\n",
       "\u001b[36m  julia> match(r\"a|bc\",\"bc\")\u001b[39m\n",
       "\u001b[36m  RegexMatch(\"bc\")\u001b[39m\n",
       "\u001b[36m  \u001b[39m\n",
       "\u001b[36m  julia> parse(Either(\"a\",\"bc\"),\"bc\")\u001b[39m\n",
       "\u001b[36m  \"bc\"\u001b[39m\n",
       "\u001b[36m  \u001b[39m\n",
       "\u001b[36m  julia> parse(\"a\" | \"bc\",\"bc\")\u001b[39m\n",
       "\u001b[36m  \"bc\"\u001b[39m\n",
       "\u001b[36m  \u001b[39m\n",
       "\n",
       "\u001b[36m  Either(p...)\u001b[39m\n",
       "\n",
       "  Create a immutable \u001b[36mEither{<:Tuple}\u001b[39m improved for performance. Arguments \u001b[36mp...\u001b[39m are wrapped in \u001b[36mparser\u001b[39m, type parameters are computed with \u001b[36meither_state_type\u001b[39m and\n",
       "  \u001b[36meither_result_type\u001b[39m.\n",
       "\n",
       "\u001b[36m  Either(p::Vector)\u001b[39m\n",
       "\n",
       "  Create a mutable \u001b[36mEither{Vector{Any}}\u001b[39m for creating recursive parsers. Arguments \u001b[36mp...\u001b[39m are wrapped in \u001b[36mparser\u001b[39m, type parameters are computed with\n",
       "  \u001b[36meither_state_type\u001b[39m and \u001b[36meither_result_type\u001b[39m.\n",
       "\n",
       "  See also \u001b[36m@syntax\u001b[39m.\n",
       "\n",
       "\u001b[36m\u001b[1m  │ \u001b[22m\u001b[39m\u001b[36m\u001b[1mNote\u001b[22m\u001b[39m\n",
       "\u001b[36m\u001b[1m  │\u001b[22m\u001b[39m\n",
       "\u001b[36m\u001b[1m  │\u001b[22m\u001b[39m  state type and result type are \u001b[36mAny\u001b[39m which might cost performance.\n",
       "\n",
       "\u001b[36m  Either{T}(p...)\u001b[39m\n",
       "\n",
       "  Create a mutable \u001b[36mEither{<:Vector{Any}}\u001b[39m for creating recursive parsers. Options can be added with \u001b[36mpush!\u001b[39m and \u001b[36mpushfirst!\u001b[39m.\n",
       "\n",
       "  See also \u001b[36m@syntax\u001b[39m.\n",
       "\n",
       "\u001b[36m\u001b[1m  │ \u001b[22m\u001b[39m\u001b[36m\u001b[1mNote\u001b[22m\u001b[39m\n",
       "\u001b[36m\u001b[1m  │\u001b[22m\u001b[39m\n",
       "\u001b[36m\u001b[1m  │\u001b[22m\u001b[39m  state type is \u001b[36mAny\u001b[39m which might cost performance.\n",
       "\n",
       "\u001b[36m  Either(transform::Function, x::Vararg)\u001b[39m\n",
       "\n",
       "  abbreviation for \u001b[36mmap(transform, Either(x...))\u001b[39m."
      ]
     },
     "execution_count": 21,
     "metadata": {},
     "output_type": "execute_result"
    }
   ],
   "source": [
    "@doc Either"
   ]
  },
  {
   "cell_type": "markdown",
   "metadata": {},
   "source": [
    "### Assertions"
   ]
  },
  {
   "cell_type": "code",
   "execution_count": 22,
   "metadata": {},
   "outputs": [
    {
     "data": {
      "text/markdown": [
       "```\n",
       "AtStart()\n",
       "```\n",
       "\n",
       "Parser succeding if and only if at index 1 with `result_type` `AtStart`.\n",
       "\n",
       "```jldoctest\n",
       "julia> AtStart()\n",
       "re\"^\"\n",
       "\n",
       "```\n"
      ],
      "text/plain": [
       "\u001b[36m  AtStart()\u001b[39m\n",
       "\n",
       "  Parser succeding if and only if at index 1 with \u001b[36mresult_type\u001b[39m \u001b[36mAtStart\u001b[39m.\n",
       "\n",
       "\u001b[36m  julia> AtStart()\u001b[39m\n",
       "\u001b[36m  re\"^\"\u001b[39m\n",
       "\u001b[36m  \u001b[39m"
      ]
     },
     "execution_count": 22,
     "metadata": {},
     "output_type": "execute_result"
    }
   ],
   "source": [
    "@doc AtStart"
   ]
  },
  {
   "cell_type": "code",
   "execution_count": 23,
   "metadata": {},
   "outputs": [
    {
     "data": {
      "text/markdown": [
       "```\n",
       "AtEnd()\n",
       "```\n",
       "\n",
       "Parser succeding if and only if at last index with `result_type` `AtEnd`.\n",
       "\n",
       "```jldoctest\n",
       "julia> AtEnd()\n",
       "re\"$\"\n",
       "\n",
       "```\n"
      ],
      "text/plain": [
       "\u001b[36m  AtEnd()\u001b[39m\n",
       "\n",
       "  Parser succeding if and only if at last index with \u001b[36mresult_type\u001b[39m \u001b[36mAtEnd\u001b[39m.\n",
       "\n",
       "\u001b[36m  julia> AtEnd()\u001b[39m\n",
       "\u001b[36m  re\"$\"\u001b[39m\n",
       "\u001b[36m  \u001b[39m"
      ]
     },
     "execution_count": 23,
     "metadata": {},
     "output_type": "execute_result"
    }
   ],
   "source": [
    "@doc AtEnd"
   ]
  },
  {
   "cell_type": "code",
   "execution_count": 24,
   "metadata": {},
   "outputs": [
    {
     "data": {
      "text/markdown": [
       "```\n",
       "Always()\n",
       "```\n",
       "\n",
       "Assertion parser matching always and not consuming any input. Returns `Always()`.\n",
       "\n",
       "```jldoctest\n",
       "julia> Always()\n",
       "re\"\"\n",
       "\n",
       "```\n"
      ],
      "text/plain": [
       "\u001b[36m  Always()\u001b[39m\n",
       "\n",
       "  Assertion parser matching always and not consuming any input. Returns \u001b[36mAlways()\u001b[39m.\n",
       "\n",
       "\u001b[36m  julia> Always()\u001b[39m\n",
       "\u001b[36m  re\"\"\u001b[39m\n",
       "\u001b[36m  \u001b[39m"
      ]
     },
     "execution_count": 24,
     "metadata": {},
     "output_type": "execute_result"
    }
   ],
   "source": [
    "@doc Always"
   ]
  },
  {
   "cell_type": "code",
   "execution_count": 25,
   "metadata": {},
   "outputs": [
    {
     "data": {
      "text/markdown": [
       "```\n",
       "Never()\n",
       "```\n",
       "\n",
       "Assertion parser matching never.\n",
       "\n",
       "```jldoctest\n",
       "julia> Never()\n",
       "re\"(*FAIL)\"\n",
       "\n",
       "```\n"
      ],
      "text/plain": [
       "\u001b[36m  Never()\u001b[39m\n",
       "\n",
       "  Assertion parser matching never.\n",
       "\n",
       "\u001b[36m  julia> Never()\u001b[39m\n",
       "\u001b[36m  re\"(*FAIL)\"\u001b[39m\n",
       "\u001b[36m  \u001b[39m"
      ]
     },
     "execution_count": 25,
     "metadata": {},
     "output_type": "execute_result"
    }
   ],
   "source": [
    "@doc Never"
   ]
  },
  {
   "cell_type": "markdown",
   "metadata": {},
   "source": [
    "#### Look behind"
   ]
  },
  {
   "cell_type": "code",
   "execution_count": 26,
   "metadata": {},
   "outputs": [
    {
     "data": {
      "text/markdown": [
       "```\n",
       "PositiveLookbehind(parser)\n",
       "```\n",
       "\n",
       "Parser that succeeds if and only if `parser` succeeds **before cursor**. Consumes no input. The match is returned. Useful for checks like \"must be preceded by `parser`, don't consume its match\".\n"
      ],
      "text/plain": [
       "\u001b[36m  PositiveLookbehind(parser)\u001b[39m\n",
       "\n",
       "  Parser that succeeds if and only if \u001b[36mparser\u001b[39m succeeds \u001b[1mbefore cursor\u001b[22m. Consumes no input. The match is returned. Useful for checks like \"must be preceded by\n",
       "  \u001b[36mparser\u001b[39m, don't consume its match\"."
      ]
     },
     "execution_count": 26,
     "metadata": {},
     "output_type": "execute_result"
    }
   ],
   "source": [
    "@doc PositiveLookbehind"
   ]
  },
  {
   "cell_type": "code",
   "execution_count": 27,
   "metadata": {},
   "outputs": [
    {
     "data": {
      "text/markdown": [
       "```\n",
       "NegativeLookbehind(parser)\n",
       "```\n",
       "\n",
       "Parser that succeeds if and only if `parser` does not succeed **before cursor**.  Consumes no input. `nothing` is returned as match. Useful for checks like \"must not be preceded by `parser`, don't consume its match\".\n",
       "\n",
       "```jldoctest\n",
       "julia> la=NegativeLookbehind(\"keep\")\n",
       "re\"(?<!keep)\"\n",
       "\n",
       "julia> parse(\"peek\"*la,\"peek\")\n",
       "(\"peek\", re\"(?<!keep)\")\n",
       "```\n"
      ],
      "text/plain": [
       "\u001b[36m  NegativeLookbehind(parser)\u001b[39m\n",
       "\n",
       "  Parser that succeeds if and only if \u001b[36mparser\u001b[39m does not succeed \u001b[1mbefore cursor\u001b[22m. Consumes no input. \u001b[36mnothing\u001b[39m is returned as match. Useful for checks like \"must\n",
       "  not be preceded by \u001b[36mparser\u001b[39m, don't consume its match\".\n",
       "\n",
       "\u001b[36m  julia> la=NegativeLookbehind(\"keep\")\u001b[39m\n",
       "\u001b[36m  re\"(?<!keep)\"\u001b[39m\n",
       "\u001b[36m  \u001b[39m\n",
       "\u001b[36m  julia> parse(\"peek\"*la,\"peek\")\u001b[39m\n",
       "\u001b[36m  (\"peek\", re\"(?<!keep)\")\u001b[39m"
      ]
     },
     "execution_count": 27,
     "metadata": {},
     "output_type": "execute_result"
    }
   ],
   "source": [
    "@doc NegativeLookbehind"
   ]
  },
  {
   "cell_type": "markdown",
   "metadata": {},
   "source": [
    "#### Look ahead"
   ]
  },
  {
   "cell_type": "code",
   "execution_count": 28,
   "metadata": {},
   "outputs": [
    {
     "data": {
      "text/markdown": [
       "```\n",
       "PositiveLookahead(parser)\n",
       "```\n",
       "\n",
       "Parser that succeeds if and only if `parser` succeeds, but consumes no input. The match is returned. Useful for checks like \"must be followed by `parser`, but don't consume its match\".\n",
       "\n",
       "```jldoctest\n",
       "julia> la=PositiveLookahead(\"peek\")\n",
       "re\"(?=peek)\"\n",
       "\n",
       "julia> parse(la*AnyChar(),\"peek\")\n",
       "(\"peek\", 'p')\n",
       "\n",
       "```\n"
      ],
      "text/plain": [
       "\u001b[36m  PositiveLookahead(parser)\u001b[39m\n",
       "\n",
       "  Parser that succeeds if and only if \u001b[36mparser\u001b[39m succeeds, but consumes no input. The match is returned. Useful for checks like \"must be followed by \u001b[36mparser\u001b[39m, but\n",
       "  don't consume its match\".\n",
       "\n",
       "\u001b[36m  julia> la=PositiveLookahead(\"peek\")\u001b[39m\n",
       "\u001b[36m  re\"(?=peek)\"\u001b[39m\n",
       "\u001b[36m  \u001b[39m\n",
       "\u001b[36m  julia> parse(la*AnyChar(),\"peek\")\u001b[39m\n",
       "\u001b[36m  (\"peek\", 'p')\u001b[39m\n",
       "\u001b[36m  \u001b[39m"
      ]
     },
     "execution_count": 28,
     "metadata": {},
     "output_type": "execute_result"
    }
   ],
   "source": [
    "@doc PositiveLookahead"
   ]
  },
  {
   "cell_type": "code",
   "execution_count": 29,
   "metadata": {},
   "outputs": [
    {
     "data": {
      "text/markdown": [
       "```\n",
       "NegativeLookahead(parser)\n",
       "```\n",
       "\n",
       "Parser that succeeds if and only if `parser` does not succeed, but consumes no input. `parser` is returned as match. Useful for checks like \"must not be followed by `parser`, don't consume its match\".\n",
       "\n",
       "```jldoctest\n",
       "julia> la = NegativeLookahead(\"peek\")\n",
       "re\"(?!peek)\"\n",
       "\n",
       "julia> parse(la*AnyChar(),\"seek\")\n",
       "(re\"(?!peek)\", 's')\n",
       "\n",
       "```\n"
      ],
      "text/plain": [
       "\u001b[36m  NegativeLookahead(parser)\u001b[39m\n",
       "\n",
       "  Parser that succeeds if and only if \u001b[36mparser\u001b[39m does not succeed, but consumes no input. \u001b[36mparser\u001b[39m is returned as match. Useful for checks like \"must not be\n",
       "  followed by \u001b[36mparser\u001b[39m, don't consume its match\".\n",
       "\n",
       "\u001b[36m  julia> la = NegativeLookahead(\"peek\")\u001b[39m\n",
       "\u001b[36m  re\"(?!peek)\"\u001b[39m\n",
       "\u001b[36m  \u001b[39m\n",
       "\u001b[36m  julia> parse(la*AnyChar(),\"seek\")\u001b[39m\n",
       "\u001b[36m  (re\"(?!peek)\", 's')\u001b[39m\n",
       "\u001b[36m  \u001b[39m"
      ]
     },
     "execution_count": 29,
     "metadata": {},
     "output_type": "execute_result"
    }
   ],
   "source": [
    "@doc NegativeLookahead"
   ]
  },
  {
   "cell_type": "markdown",
   "metadata": {},
   "source": [
    "### Logging and Side-Effects"
   ]
  },
  {
   "cell_type": "code",
   "execution_count": 30,
   "metadata": {},
   "outputs": [
    {
     "data": {
      "text/markdown": [
       "```\n",
       "with_name(name::Symbol,x; doc=\"\")\n",
       "```\n",
       "\n",
       "A parser labelled with `name`. Labels are useful in printing and logging.\n",
       "\n",
       "See also: [`@with_names`](@ref), [`with_name`](@ref), [`log_names`](@ref)\n"
      ],
      "text/plain": [
       "\u001b[36m  with_name(name::Symbol,x; doc=\"\")\u001b[39m\n",
       "\n",
       "  A parser labelled with \u001b[36mname\u001b[39m. Labels are useful in printing and logging.\n",
       "\n",
       "  See also: \u001b[36m@with_names\u001b[39m, \u001b[36mwith_name\u001b[39m, \u001b[36mlog_names\u001b[39m"
      ]
     },
     "execution_count": 30,
     "metadata": {},
     "output_type": "execute_result"
    }
   ],
   "source": [
    "@doc with_name"
   ]
  },
  {
   "cell_type": "code",
   "execution_count": 31,
   "metadata": {},
   "outputs": [
    {
     "data": {
      "text/markdown": [
       "```\n",
       "@with_names\n",
       "```\n",
       "\n",
       "Sets names of parsers within begin/end block to match the variables they are asigned to.\n",
       "\n",
       "so, for example\n",
       "\n",
       "```jldoctest\n",
       "julia> @with_names foo = AnyChar()\n",
       ". AnyChar |> with_name(:foo)\n",
       "::Char\n",
       "\n",
       "julia> parse(log_names(foo),\"ab\")\n",
       "   match foo@1-2: ab\n",
       "                  ^\n",
       "'a': ASCII/Unicode U+0061 (category Ll: Letter, lowercase)\n",
       "```\n",
       "\n",
       "See also [`log_names(parser)`](@ref), [`@syntax`](@ref).\n"
      ],
      "text/plain": [
       "\u001b[36m  @with_names\u001b[39m\n",
       "\n",
       "  Sets names of parsers within begin/end block to match the variables they are asigned to.\n",
       "\n",
       "  so, for example\n",
       "\n",
       "\u001b[36m  julia> @with_names foo = AnyChar()\u001b[39m\n",
       "\u001b[36m  . AnyChar |> with_name(:foo)\u001b[39m\n",
       "\u001b[36m  ::Char\u001b[39m\n",
       "\u001b[36m  \u001b[39m\n",
       "\u001b[36m  julia> parse(log_names(foo),\"ab\")\u001b[39m\n",
       "\u001b[36m     match foo@1-2: ab\u001b[39m\n",
       "\u001b[36m                    ^\u001b[39m\n",
       "\u001b[36m  'a': ASCII/Unicode U+0061 (category Ll: Letter, lowercase)\u001b[39m\n",
       "\n",
       "  See also \u001b[36mlog_names(parser)\u001b[39m, \u001b[36m@syntax\u001b[39m."
      ]
     },
     "execution_count": 31,
     "metadata": {},
     "output_type": "execute_result"
    }
   ],
   "source": [
    "@doc @with_names"
   ]
  },
  {
   "cell_type": "code",
   "execution_count": 32,
   "metadata": {},
   "outputs": [
    {
     "data": {
      "text/markdown": [
       "```\n",
       "log_names(x,names=true; exclude=nothing)\n",
       "```\n",
       "\n",
       "Rebuild parser replacing `NamedParser` instances with `with_log` parsers. Log all `NamedParser` instanses if `names==true` or `name in names` and not `name in exclude`.\n",
       "\n",
       "See also: [`with_log`](@ref), [`deepmap_parser`](@ref)\n"
      ],
      "text/plain": [
       "\u001b[36m  log_names(x,names=true; exclude=nothing)\u001b[39m\n",
       "\n",
       "  Rebuild parser replacing \u001b[36mNamedParser\u001b[39m instances with \u001b[36mwith_log\u001b[39m parsers. Log all \u001b[36mNamedParser\u001b[39m instanses if \u001b[36mnames==true\u001b[39m or \u001b[36mname in names\u001b[39m and not \u001b[36mname in\n",
       "  exclude\u001b[39m.\n",
       "\n",
       "  See also: \u001b[36mwith_log\u001b[39m, \u001b[36mdeepmap_parser\u001b[39m"
      ]
     },
     "execution_count": 32,
     "metadata": {},
     "output_type": "execute_result"
    }
   ],
   "source": [
    "@doc log_names"
   ]
  },
  {
   "cell_type": "code",
   "execution_count": 33,
   "metadata": {},
   "outputs": [
    {
     "data": {
      "text/markdown": [
       "```\n",
       "with_log(s::AbstractString,p, delta=5;nomatch=false)\n",
       "```\n",
       "\n",
       "Log matching process of parser `p`, displaying `delta` characters left of and right of match.\n",
       "\n",
       "If `nomatch==true`, also log when parser does not match.\n",
       "\n",
       "See also: [`log_names`](@ref), [`with_effect`](@ref)\n"
      ],
      "text/plain": [
       "\u001b[36m  with_log(s::AbstractString,p, delta=5;nomatch=false)\u001b[39m\n",
       "\n",
       "  Log matching process of parser \u001b[36mp\u001b[39m, displaying \u001b[36mdelta\u001b[39m characters left of and right of match.\n",
       "\n",
       "  If \u001b[36mnomatch==true\u001b[39m, also log when parser does not match.\n",
       "\n",
       "  See also: \u001b[36mlog_names\u001b[39m, \u001b[36mwith_effect\u001b[39m"
      ]
     },
     "execution_count": 33,
     "metadata": {},
     "output_type": "execute_result"
    }
   ],
   "source": [
    "@doc with_log"
   ]
  },
  {
   "cell_type": "code",
   "execution_count": 34,
   "metadata": {},
   "outputs": [
    {
     "data": {
      "text/markdown": [
       "```\n",
       "with_effect(f::Function,p,a...)\n",
       "```\n",
       "\n",
       "Call `f(sequence,before_i,after_i,state,a...)` if `p` matches,  `f(sequence,before_i,before_i,nothing,a...)` otherwise.\n"
      ],
      "text/plain": [
       "\u001b[36m  with_effect(f::Function,p,a...)\u001b[39m\n",
       "\n",
       "  Call \u001b[36mf(sequence,before_i,after_i,state,a...)\u001b[39m if \u001b[36mp\u001b[39m matches, \u001b[36mf(sequence,before_i,before_i,nothing,a...)\u001b[39m otherwise."
      ]
     },
     "execution_count": 34,
     "metadata": {},
     "output_type": "execute_result"
    }
   ],
   "source": [
    "@doc with_effect"
   ]
  },
  {
   "cell_type": "markdown",
   "metadata": {},
   "source": [
    "### Caching match states"
   ]
  },
  {
   "cell_type": "code",
   "execution_count": 35,
   "metadata": {},
   "outputs": [
    {
     "data": {
      "text/markdown": [
       "```\n",
       "WithMemory(x) <: AbstractString\n",
       "```\n",
       "\n",
       "String wrapper with memoization of next match states for parsers at indices. Memoization is sometimes recommended as a way of improving the performance of parser combinators (like state machine optimization and compilation for regular languages).\n",
       "\n",
       "!!! note\n",
       "    A snappy performance gain could not be demonstrated so far, probably because the costs of state memory allocation for caching are often greater than recomputing a match.  If you have a case where your performance benefits with this, let me know!\n",
       "\n",
       "\n",
       "```\n"
      ],
      "text/plain": [
       "\u001b[36m  WithMemory(x) <: AbstractString\u001b[39m\n",
       "\n",
       "  String wrapper with memoization of next match states for parsers at indices. Memoization is sometimes recommended as a way of improving the performance of\n",
       "  parser combinators (like state machine optimization and compilation for regular languages).\n",
       "\n",
       "\u001b[36m\u001b[1m  │ \u001b[22m\u001b[39m\u001b[36m\u001b[1mNote\u001b[22m\u001b[39m\n",
       "\u001b[36m\u001b[1m  │\u001b[22m\u001b[39m\n",
       "\u001b[36m\u001b[1m  │\u001b[22m\u001b[39m  A snappy performance gain could not be demonstrated so far, probably because the costs of state memory allocation for caching are often greater\n",
       "\u001b[36m\u001b[1m  │\u001b[22m\u001b[39m  than recomputing a match. If you have a case where your performance benefits with this, let me know!\n",
       "\n",
       "  ```"
      ]
     },
     "execution_count": 35,
     "metadata": {},
     "output_type": "execute_result"
    }
   ],
   "source": [
    "@doc CombinedParsers.WithMemory"
   ]
  },
  {
   "cell_type": "markdown",
   "metadata": {},
   "source": [
    "## Recursive Parsers"
   ]
  },
  {
   "cell_type": "markdown",
   "metadata": {},
   "source": [
    "# Arithmetical terms for rational numbers\n",
    "Parsing is reading and transforming a sequence of characters.\n",
    "This example reads and evaluates arithmetical terms for rational numbers.\n",
    "Subterms can use algebraic operators `+-*/` that will be evaluated with"
   ]
  },
  {
   "cell_type": "code",
   "execution_count": 1,
   "metadata": {},
   "outputs": [
    {
     "data": {
      "text/plain": [
       "(2//1, 6//1)"
      ]
     },
     "execution_count": 1,
     "metadata": {},
     "output_type": "execute_result"
    }
   ],
   "source": [
    "function evaluate( (start, operation_values) )\n",
    "    aggregated_value::Rational{Int} = start\n",
    "    for (op,val) in operation_values\n",
    "        aggregated_value = eval( Expr(:call, Symbol(op),\n",
    "\t\t\t              aggregated_value, val\n",
    "\t\t\t              ))\n",
    "    end\n",
    "    return aggregated_value\n",
    "end\n",
    "evaluate( (0, [ ('+',1), ('+',1) ]) ),\n",
    "evaluate( (1, [ ('*',2), ('*',3) ]) )"
   ]
  },
  {
   "cell_type": "markdown",
   "metadata": {},
   "source": [
    "Term expressions are sequences of subterms interleaved with operators.\n",
    "\n",
    "Sub terms can be several things, and recursively nested. `Either` is used for recursion. "
   ]
  },
  {
   "cell_type": "code",
   "execution_count": 37,
   "metadata": {},
   "outputs": [],
   "source": [
    "subterm = Either{Rational{Int}}(Any[]);"
   ]
  },
  {
   "cell_type": "markdown",
   "metadata": {},
   "source": [
    "A term can be an addition/subtraction of a multiplication/division of subterms.\n",
    "\n",
    "A subterm is either an integer or a nested term in parentheses."
   ]
  },
  {
   "cell_type": "code",
   "execution_count": 6,
   "metadata": {},
   "outputs": [
    {
     "data": {
      "text/plain": [
       "3//5"
      ]
     },
     "execution_count": 6,
     "metadata": {},
     "output_type": "execute_result"
    }
   ],
   "source": [
    "mult = map(evaluate, join(subterm, CharIn(\"*/\"), infix=:prefix ))\n",
    "term = map(evaluate, join(mult,    CharIn(\"+-\"), infix=:prefix ))\n",
    "parenthesis = Sequence(2,'(',term,')')\n",
    "\n",
    "push!(subterm, parenthesis)\n",
    "push!(subterm, TextParse.Numeric(Int))\n",
    "\n",
    "\n",
    "term(\"(1+2)/5\")"
   ]
  },
  {
   "cell_type": "markdown",
   "metadata": {},
   "source": [
    "Term expressions are sequences of subterms interleaved with operators.\n",
    "Sub terms are `Either` fast `TextParse.Numeric(Int)` integer numbers, converted to `Rational{Int}`,"
   ]
  },
  {
   "cell_type": "code",
   "execution_count": 8,
   "metadata": {},
   "outputs": [
    {
     "data": {
      "text/plain": [
       "\u001b[36m\u001b[1m|\u001b[22m\u001b[39m\u001b[0m\u001b[1m🗄\u001b[22m\u001b[0m Either |> with_name(:\u001b[31m\u001b[1msubterm\u001b[22m\u001b[39m)\n",
       "└─ \u001b[0m <Int64> |> map(\u001b[34mRational{Int64}\u001b[39m)\n",
       "::Rational{Int64}\n"
      ]
     },
     "execution_count": 8,
     "metadata": {},
     "output_type": "execute_result"
    }
   ],
   "source": [
    "@syntax subterm = Either{Rational{Int}}(\n",
    "        Any[map(Rational{Int},\n",
    "                parser(TextParse.Numeric(Int)))])"
   ]
  },
  {
   "cell_type": "markdown",
   "metadata": {},
   "source": [
    "A subterm can also be a nested term in parentheses"
   ]
  },
  {
   "cell_type": "code",
   "execution_count": 9,
   "metadata": {},
   "outputs": [
    {
     "data": {
      "text/plain": [
       "\u001b[36m\u001b[1m|\u001b[22m\u001b[39m\u001b[0m\u001b[1m🗄\u001b[22m\u001b[0m Either |> with_name(:\u001b[31m\u001b[1msubterm\u001b[22m\u001b[39m)\n",
       "├─ \u001b[0m\u001b[1m🗄\u001b[22m\u001b[0m Sequence |> map(\u001b[34m#55\u001b[39m) |> with_name(:\u001b[31m\u001b[1mparenthesis\u001b[22m\u001b[39m)\n",
       "│  ├─ \u001b[36m\u001b[1m\\(\u001b[22m\u001b[39m\u001b[0m \n",
       "│  ├─ \u001b[0m\u001b[1m🗄\u001b[22m\u001b[0m Sequence |> map(\u001b[34mevaluate\u001b[39m)\n",
       "│  │  ├─ \u001b[0m\u001b[1m🗄\u001b[22m\u001b[0m Sequence |> map(\u001b[34mevaluate\u001b[39m)\n",
       "│  │  │  ├─ \u001b[36m\u001b[1m|\u001b[22m\u001b[39m\u001b[0m\u001b[1m🗄\u001b[22m\u001b[0m Either |> with_name(:\u001b[31m\u001b[1msubterm\u001b[22m\u001b[39m)\u001b[90m # branches hidden\u001b[39m\n",
       "│  │  │  └─ \u001b[0m\u001b[1m🗄\u001b[22m\u001b[36m\u001b[1m*\u001b[22m\u001b[39m\u001b[0m Sequence |> Repeat\n",
       "│  │  │     ├─ \u001b[36m\u001b[1m[\\*/]\u001b[22m\u001b[39m\u001b[0m CharIn\n",
       "│  │  │     └─ \u001b[36m\u001b[1m|\u001b[22m\u001b[39m\u001b[0m\u001b[1m🗄\u001b[22m\u001b[0m Either |> with_name(:\u001b[31m\u001b[1msubterm\u001b[22m\u001b[39m)\u001b[90m # branches hidden\u001b[39m\n",
       "│  │  └─ \u001b[0m\u001b[1m🗄\u001b[22m\u001b[36m\u001b[1m*\u001b[22m\u001b[39m\u001b[0m Sequence |> Repeat\n",
       "│  │     ├─ \u001b[36m\u001b[1m[\\+\\-]\u001b[22m\u001b[39m\u001b[0m CharIn\n",
       "│  │     └─ \u001b[0m\u001b[1m🗄\u001b[22m\u001b[0m Sequence |> map(\u001b[34mevaluate\u001b[39m)\u001b[90m # branches hidden\u001b[39m\n",
       "│  └─ \u001b[36m\u001b[1m\\)\u001b[22m\u001b[39m\u001b[0m \n",
       "└─ \u001b[0m <Int64> |> map(\u001b[34mRational{Int64}\u001b[39m)\n",
       "::Rational{Int64}\n"
      ]
     },
     "execution_count": 9,
     "metadata": {},
     "output_type": "execute_result"
    }
   ],
   "source": [
    "@syntax for parenthesis in subterm\n",
    "    mult = evaluate |> join(subterm, CharIn(\"*/\"), infix=:prefix )\n",
    "    adds = evaluate |> join(mult,    CharIn(\"+-\"), infix=:prefix )\n",
    "    Sequence(2,'(',adds,')')\n",
    "end;\n",
    "subterm"
   ]
  },
  {
   "cell_type": "markdown",
   "metadata": {},
   "source": [
    "This `CombinedParser` definition in a few lines is sufficient for doing arithmetics:\n",
    "`Base.join(x,infix; infix=:prefix)` is shorthand for `x * Repeat( infix * x  )`,\n",
    "and `f |> parser` is shorthand for `map(f,parser)`."
   ]
  },
  {
   "cell_type": "code",
   "execution_count": 11,
   "metadata": {},
   "outputs": [],
   "source": [
    "@syntax term = adds;"
   ]
  },
  {
   "cell_type": "markdown",
   "metadata": {},
   "source": [
    "registers a `@term_string` macro for parsing and transforming."
   ]
  },
  {
   "cell_type": "code",
   "execution_count": 42,
   "metadata": {},
   "outputs": [
    {
     "data": {
      "text/plain": [
       "3//5"
      ]
     },
     "execution_count": 42,
     "metadata": {},
     "output_type": "execute_result"
    }
   ],
   "source": [
    "term\"(1+2)/5\""
   ]
  },
  {
   "cell_type": "markdown",
   "metadata": {},
   "source": [
    "The defined `CombinedParser` `term` can be used as a function for colorful logging of the parsing process."
   ]
  },
  {
   "cell_type": "code",
   "execution_count": 12,
   "metadata": {},
   "outputs": [
    {
     "name": "stdout",
     "output_type": "stream",
     "text": [
      "   \u001b[4mmatch\u001b[24m \u001b[32mparenthesis\u001b[39m@4-9: \u001b[0m\u001b[1m1/(\u001b[22m\u001b[4m\u001b[1m(1+2)\u001b[22m\u001b[24m\u001b[39m*4+3*(\u001b[39m\n",
      "   \u001b[4mmatch\u001b[24m \u001b[32mparenthesis\u001b[39m@14-19: \u001b[0m\u001b[1m*4+3*\u001b[22m\u001b[4m\u001b[1m(5*2)\u001b[22m\u001b[24m\u001b[39m)\u001b[39m\n",
      "   \u001b[4mmatch\u001b[24m \u001b[32mparenthesis\u001b[39m@3-20: \u001b[0m\u001b[1m1/\u001b[22m\u001b[4m\u001b[1m((1+2)*4+3*(5*2))\u001b[22m\u001b[24m\n"
     ]
    },
    {
     "data": {
      "text/plain": [
       "1//42"
      ]
     },
     "execution_count": 12,
     "metadata": {},
     "output_type": "execute_result"
    }
   ],
   "source": [
    "term(\"1/((1+2)*4+3*(5*2))\",log = [:parenthesis])"
   ]
  },
  {
   "cell_type": "markdown",
   "metadata": {},
   "source": [
    "[Is every rational answer ultimately the inverse of a universal question in life?](https://en.wikipedia.org/wiki/Phrases_from_The_Hitchhiker%27s_Guide_to_the_Galaxy#Answer_to_the_Ultimate_Question_of_Life,_the_Universe,_and_Everything_(42))\n",
    "\n",
    "The parser representation can be printed as a tree"
   ]
  },
  {
   "cell_type": "code",
   "execution_count": 13,
   "metadata": {},
   "outputs": [
    {
     "data": {
      "text/plain": [
       "\u001b[0m\u001b[1m🗄\u001b[22m\u001b[0m Sequence |> map(\u001b[34mevaluate\u001b[39m) |> with_name(:\u001b[31m\u001b[1mterm\u001b[22m\u001b[39m)\n",
       "├─ \u001b[0m\u001b[1m🗄\u001b[22m\u001b[0m Sequence |> map(\u001b[34mevaluate\u001b[39m)\n",
       "│  ├─ \u001b[36m\u001b[1m|\u001b[22m\u001b[39m\u001b[0m\u001b[1m🗄\u001b[22m\u001b[0m Either |> with_name(:\u001b[31m\u001b[1msubterm\u001b[22m\u001b[39m)\n",
       "│  │  ├─ \u001b[0m\u001b[1m🗄\u001b[22m\u001b[0m Sequence |> map(\u001b[34m#55\u001b[39m) |> with_name(:\u001b[31m\u001b[1mparenthesis\u001b[22m\u001b[39m)\n",
       "│  │  │  ├─ \u001b[36m\u001b[1m\\(\u001b[22m\u001b[39m\u001b[0m \n",
       "│  │  │  ├─ \u001b[0m\u001b[1m🗄\u001b[22m\u001b[0m Sequence |> map(\u001b[34mevaluate\u001b[39m)\n",
       "│  │  │  │  ├─ \u001b[0m\u001b[1m🗄\u001b[22m\u001b[0m Sequence |> map(\u001b[34mevaluate\u001b[39m)\u001b[90m # branches hidden\u001b[39m\n",
       "│  │  │  │  └─ \u001b[0m\u001b[1m🗄\u001b[22m\u001b[36m\u001b[1m*\u001b[22m\u001b[39m\u001b[0m Sequence |> Repeat\u001b[90m # branches hidden\u001b[39m\n",
       "│  │  │  └─ \u001b[36m\u001b[1m\\)\u001b[22m\u001b[39m\u001b[0m \n",
       "│  │  └─ \u001b[0m <Int64> |> map(\u001b[34mRational{Int64}\u001b[39m)\n",
       "│  └─ \u001b[0m\u001b[1m🗄\u001b[22m\u001b[36m\u001b[1m*\u001b[22m\u001b[39m\u001b[0m Sequence |> Repeat\n",
       "│     ├─ \u001b[36m\u001b[1m[\\*/]\u001b[22m\u001b[39m\u001b[0m CharIn\n",
       "│     └─ \u001b[36m\u001b[1m|\u001b[22m\u001b[39m\u001b[0m\u001b[1m🗄\u001b[22m\u001b[0m Either |> with_name(:\u001b[31m\u001b[1msubterm\u001b[22m\u001b[39m)\u001b[90m # branches hidden\u001b[39m\n",
       "└─ \u001b[0m\u001b[1m🗄\u001b[22m\u001b[36m\u001b[1m*\u001b[22m\u001b[39m\u001b[0m Sequence |> Repeat\n",
       "   ├─ \u001b[36m\u001b[1m[\\+\\-]\u001b[22m\u001b[39m\u001b[0m CharIn\n",
       "   └─ \u001b[0m\u001b[1m🗄\u001b[22m\u001b[0m Sequence |> map(\u001b[34mevaluate\u001b[39m)\u001b[90m # branches hidden\u001b[39m\n",
       "::Rational{Int64}\n"
      ]
     },
     "execution_count": 13,
     "metadata": {},
     "output_type": "execute_result"
    }
   ],
   "source": [
    "term"
   ]
  },
  {
   "cell_type": "markdown",
   "metadata": {},
   "source": [
    "### Benchmarks\n",
    "Parsing times for Int, operators, brackets are"
   ]
  },
  {
   "cell_type": "code",
   "execution_count": 45,
   "metadata": {},
   "outputs": [
    {
     "data": {
      "text/plain": [
       "BenchmarkTools.Trial: 10000 samples with 9 evaluations.\n",
       " Range \u001b[90m(\u001b[39m\u001b[36m\u001b[1mmin\u001b[22m\u001b[39m … \u001b[35mmax\u001b[39m\u001b[90m):  \u001b[39m\u001b[36m\u001b[1m2.228 μs\u001b[22m\u001b[39m … \u001b[35m 1.224 ms\u001b[39m  \u001b[90m┊\u001b[39m GC \u001b[90m(\u001b[39mmin … max\u001b[90m): \u001b[39m 0.00% … 99.64%\n",
       " Time  \u001b[90m(\u001b[39m\u001b[34m\u001b[1mmedian\u001b[22m\u001b[39m\u001b[90m):     \u001b[39m\u001b[34m\u001b[1m2.377 μs              \u001b[22m\u001b[39m\u001b[90m┊\u001b[39m GC \u001b[90m(\u001b[39mmedian\u001b[90m):    \u001b[39m 0.00%\n",
       " Time  \u001b[90m(\u001b[39m\u001b[32m\u001b[1mmean\u001b[22m\u001b[39m ± \u001b[32mσ\u001b[39m\u001b[90m):   \u001b[39m\u001b[32m\u001b[1m3.083 μs\u001b[22m\u001b[39m ± \u001b[32m26.653 μs\u001b[39m  \u001b[90m┊\u001b[39m GC \u001b[90m(\u001b[39mmean ± σ\u001b[90m):  \u001b[39m19.30% ±  2.23%\n",
       "\n",
       "  \u001b[39m \u001b[39m▂\u001b[39m█\u001b[39m▆\u001b[39m▂\u001b[34m \u001b[39m\u001b[39m \u001b[39m \u001b[39m \u001b[39m \u001b[39m \u001b[39m \u001b[39m \u001b[39m \u001b[39m \u001b[39m \u001b[39m \u001b[39m \u001b[39m \u001b[39m \u001b[39m \u001b[39m \u001b[39m \u001b[39m \u001b[39m \u001b[39m \u001b[32m \u001b[39m\u001b[39m \u001b[39m \u001b[39m \u001b[39m \u001b[39m \u001b[39m \u001b[39m \u001b[39m \u001b[39m \u001b[39m \u001b[39m \u001b[39m \u001b[39m \u001b[39m \u001b[39m \u001b[39m \u001b[39m \u001b[39m \u001b[39m \u001b[39m \u001b[39m \u001b[39m \u001b[39m \u001b[39m \u001b[39m \u001b[39m \u001b[39m \u001b[39m \u001b[39m \u001b[39m \u001b[39m \u001b[39m \u001b[39m \n",
       "  \u001b[39m▂\u001b[39m█\u001b[39m█\u001b[39m█\u001b[39m█\u001b[34m▆\u001b[39m\u001b[39m▄\u001b[39m▄\u001b[39m▄\u001b[39m▄\u001b[39m▄\u001b[39m▅\u001b[39m▄\u001b[39m▃\u001b[39m▂\u001b[39m▂\u001b[39m▃\u001b[39m▂\u001b[39m▂\u001b[39m▂\u001b[39m▂\u001b[39m▁\u001b[39m▁\u001b[39m▁\u001b[39m▁\u001b[39m▁\u001b[32m▁\u001b[39m\u001b[39m▁\u001b[39m▁\u001b[39m▁\u001b[39m▁\u001b[39m▁\u001b[39m▁\u001b[39m▁\u001b[39m▁\u001b[39m▁\u001b[39m▁\u001b[39m▁\u001b[39m▁\u001b[39m▁\u001b[39m▁\u001b[39m▁\u001b[39m▁\u001b[39m▁\u001b[39m▁\u001b[39m▁\u001b[39m▁\u001b[39m▁\u001b[39m▁\u001b[39m▁\u001b[39m▁\u001b[39m▁\u001b[39m▁\u001b[39m▁\u001b[39m▁\u001b[39m▁\u001b[39m▁\u001b[39m▁\u001b[39m \u001b[39m▂\n",
       "  2.23 μs\u001b[90m        Histogram: frequency by time\u001b[39m         4.1 μs \u001b[0m\u001b[1m<\u001b[22m\n",
       "\n",
       " Memory estimate\u001b[90m: \u001b[39m\u001b[33m2.50 KiB\u001b[39m, allocs estimate\u001b[90m: \u001b[39m\u001b[33m47\u001b[39m."
      ]
     },
     "execution_count": 45,
     "metadata": {},
     "output_type": "execute_result"
    }
   ],
   "source": [
    "using BenchmarkTools\n",
    "@benchmark match(term,\"(1+2)/5\")"
   ]
  },
  {
   "cell_type": "markdown",
   "metadata": {},
   "source": [
    "in unfair benchmark-comparison with the more expressive Julia syntax parser"
   ]
  },
  {
   "cell_type": "code",
   "execution_count": 46,
   "metadata": {},
   "outputs": [
    {
     "data": {
      "text/plain": [
       "BenchmarkTools.Trial: 10000 samples with 1 evaluation.\n",
       " Range \u001b[90m(\u001b[39m\u001b[36m\u001b[1mmin\u001b[22m\u001b[39m … \u001b[35mmax\u001b[39m\u001b[90m):  \u001b[39m\u001b[36m\u001b[1m57.041 μs\u001b[22m\u001b[39m … \u001b[35m  4.472 ms\u001b[39m  \u001b[90m┊\u001b[39m GC \u001b[90m(\u001b[39mmin … max\u001b[90m): \u001b[39m0.00% … 0.00%\n",
       " Time  \u001b[90m(\u001b[39m\u001b[34m\u001b[1mmedian\u001b[22m\u001b[39m\u001b[90m):     \u001b[39m\u001b[34m\u001b[1m58.611 μs               \u001b[22m\u001b[39m\u001b[90m┊\u001b[39m GC \u001b[90m(\u001b[39mmedian\u001b[90m):    \u001b[39m0.00%\n",
       " Time  \u001b[90m(\u001b[39m\u001b[32m\u001b[1mmean\u001b[22m\u001b[39m ± \u001b[32mσ\u001b[39m\u001b[90m):   \u001b[39m\u001b[32m\u001b[1m69.708 μs\u001b[22m\u001b[39m ± \u001b[32m191.040 μs\u001b[39m  \u001b[90m┊\u001b[39m GC \u001b[90m(\u001b[39mmean ± σ\u001b[90m):  \u001b[39m0.00% ± 0.00%\n",
       "\n",
       "  \u001b[39m▃\u001b[39m█\u001b[34m█\u001b[39m\u001b[39m▅\u001b[39m▁\u001b[39m \u001b[39m \u001b[39m \u001b[39m \u001b[39m▁\u001b[39m▂\u001b[39m \u001b[39m \u001b[39m \u001b[39m \u001b[39m \u001b[39m \u001b[39m \u001b[32m \u001b[39m\u001b[39m▁\u001b[39m \u001b[39m \u001b[39m \u001b[39m \u001b[39m \u001b[39m \u001b[39m \u001b[39m \u001b[39m \u001b[39m \u001b[39m \u001b[39m \u001b[39m \u001b[39m \u001b[39m \u001b[39m \u001b[39m \u001b[39m \u001b[39m \u001b[39m \u001b[39m \u001b[39m \u001b[39m \u001b[39m \u001b[39m \u001b[39m \u001b[39m \u001b[39m \u001b[39m \u001b[39m \u001b[39m \u001b[39m \u001b[39m \u001b[39m \u001b[39m \u001b[39m \u001b[39m \u001b[39m \u001b[39m \u001b[39m \u001b[39m \u001b[39m▁\n",
       "  \u001b[39m█\u001b[39m█\u001b[34m█\u001b[39m\u001b[39m█\u001b[39m█\u001b[39m▇\u001b[39m█\u001b[39m█\u001b[39m█\u001b[39m█\u001b[39m█\u001b[39m▇\u001b[39m█\u001b[39m█\u001b[39m█\u001b[39m▇\u001b[39m▇\u001b[39m▇\u001b[32m█\u001b[39m\u001b[39m█\u001b[39m█\u001b[39m▇\u001b[39m▆\u001b[39m▆\u001b[39m▅\u001b[39m▆\u001b[39m▄\u001b[39m▅\u001b[39m▆\u001b[39m▄\u001b[39m▅\u001b[39m▅\u001b[39m▄\u001b[39m▅\u001b[39m▄\u001b[39m▅\u001b[39m▅\u001b[39m▄\u001b[39m▃\u001b[39m▄\u001b[39m▄\u001b[39m▄\u001b[39m▃\u001b[39m▃\u001b[39m▃\u001b[39m▄\u001b[39m▆\u001b[39m▅\u001b[39m▆\u001b[39m▇\u001b[39m█\u001b[39m▇\u001b[39m▅\u001b[39m▄\u001b[39m▃\u001b[39m▂\u001b[39m▂\u001b[39m▂\u001b[39m▄\u001b[39m▃\u001b[39m \u001b[39m█\n",
       "  57 μs\u001b[90m         \u001b[39m\u001b[90mHistogram: \u001b[39m\u001b[90m\u001b[1mlog(\u001b[22m\u001b[39m\u001b[90mfrequency\u001b[39m\u001b[90m\u001b[1m)\u001b[22m\u001b[39m\u001b[90m by time\u001b[39m      98.4 μs \u001b[0m\u001b[1m<\u001b[22m\n",
       "\n",
       " Memory estimate\u001b[90m: \u001b[39m\u001b[33m624 bytes\u001b[39m, allocs estimate\u001b[90m: \u001b[39m\u001b[33m14\u001b[39m."
      ]
     },
     "execution_count": 46,
     "metadata": {},
     "output_type": "execute_result"
    }
   ],
   "source": [
    "@benchmark Meta.parse(\"(1+2)/5\")"
   ]
  },
  {
   "cell_type": "markdown",
   "metadata": {},
   "source": [
    "Parsing and transforming (here `eval`)"
   ]
  },
  {
   "cell_type": "code",
   "execution_count": 47,
   "metadata": {},
   "outputs": [
    {
     "data": {
      "text/plain": [
       "BenchmarkTools.Trial: 10000 samples with 1 evaluation.\n",
       " Range \u001b[90m(\u001b[39m\u001b[36m\u001b[1mmin\u001b[22m\u001b[39m … \u001b[35mmax\u001b[39m\u001b[90m):  \u001b[39m\u001b[36m\u001b[1m176.684 μs\u001b[22m\u001b[39m … \u001b[35m 11.133 ms\u001b[39m  \u001b[90m┊\u001b[39m GC \u001b[90m(\u001b[39mmin … max\u001b[90m): \u001b[39m0.00% … 97.30%\n",
       " Time  \u001b[90m(\u001b[39m\u001b[34m\u001b[1mmedian\u001b[22m\u001b[39m\u001b[90m):     \u001b[39m\u001b[34m\u001b[1m180.931 μs               \u001b[22m\u001b[39m\u001b[90m┊\u001b[39m GC \u001b[90m(\u001b[39mmedian\u001b[90m):    \u001b[39m0.00%\n",
       " Time  \u001b[90m(\u001b[39m\u001b[32m\u001b[1mmean\u001b[22m\u001b[39m ± \u001b[32mσ\u001b[39m\u001b[90m):   \u001b[39m\u001b[32m\u001b[1m218.908 μs\u001b[22m\u001b[39m ± \u001b[32m381.599 μs\u001b[39m  \u001b[90m┊\u001b[39m GC \u001b[90m(\u001b[39mmean ± σ\u001b[90m):  \u001b[39m1.44% ±  1.69%\n",
       "\n",
       "  \u001b[39m▃\u001b[39m█\u001b[34m▇\u001b[39m\u001b[39m▅\u001b[39m▄\u001b[39m▃\u001b[39m▃\u001b[39m▂\u001b[39m▁\u001b[39m▁\u001b[39m▁\u001b[39m▁\u001b[39m▁\u001b[39m▁\u001b[39m \u001b[39m \u001b[39m▁\u001b[39m \u001b[39m \u001b[39m▁\u001b[39m \u001b[32m \u001b[39m\u001b[39m \u001b[39m \u001b[39m \u001b[39m \u001b[39m \u001b[39m \u001b[39m \u001b[39m \u001b[39m \u001b[39m \u001b[39m \u001b[39m \u001b[39m \u001b[39m \u001b[39m \u001b[39m \u001b[39m \u001b[39m \u001b[39m \u001b[39m \u001b[39m \u001b[39m \u001b[39m \u001b[39m \u001b[39m \u001b[39m \u001b[39m \u001b[39m \u001b[39m \u001b[39m \u001b[39m \u001b[39m \u001b[39m \u001b[39m \u001b[39m \u001b[39m \u001b[39m \u001b[39m \u001b[39m \u001b[39m \u001b[39m▂\n",
       "  \u001b[39m█\u001b[39m█\u001b[34m█\u001b[39m\u001b[39m█\u001b[39m█\u001b[39m█\u001b[39m█\u001b[39m█\u001b[39m█\u001b[39m█\u001b[39m█\u001b[39m█\u001b[39m█\u001b[39m█\u001b[39m█\u001b[39m█\u001b[39m█\u001b[39m█\u001b[39m█\u001b[39m█\u001b[39m█\u001b[32m█\u001b[39m\u001b[39m█\u001b[39m█\u001b[39m▇\u001b[39m▇\u001b[39m▇\u001b[39m▇\u001b[39m▇\u001b[39m▆\u001b[39m▅\u001b[39m▄\u001b[39m▅\u001b[39m▅\u001b[39m▆\u001b[39m▅\u001b[39m▄\u001b[39m▅\u001b[39m▅\u001b[39m▅\u001b[39m▅\u001b[39m▅\u001b[39m▄\u001b[39m▄\u001b[39m▄\u001b[39m▅\u001b[39m▅\u001b[39m▄\u001b[39m▆\u001b[39m▅\u001b[39m▅\u001b[39m▅\u001b[39m▄\u001b[39m▅\u001b[39m▆\u001b[39m▅\u001b[39m▄\u001b[39m▁\u001b[39m▃\u001b[39m▄\u001b[39m▅\u001b[39m \u001b[39m█\n",
       "  177 μs\u001b[90m        \u001b[39m\u001b[90mHistogram: \u001b[39m\u001b[90m\u001b[1mlog(\u001b[22m\u001b[39m\u001b[90mfrequency\u001b[39m\u001b[90m\u001b[1m)\u001b[22m\u001b[39m\u001b[90m by time\u001b[39m        301 μs \u001b[0m\u001b[1m<\u001b[22m\n",
       "\n",
       " Memory estimate\u001b[90m: \u001b[39m\u001b[33m14.59 KiB\u001b[39m, allocs estimate\u001b[90m: \u001b[39m\u001b[33m262\u001b[39m."
      ]
     },
     "execution_count": 47,
     "metadata": {},
     "output_type": "execute_result"
    }
   ],
   "source": [
    "@benchmark term(\"(1+2)/5\")"
   ]
  },
  {
   "cell_type": "markdown",
   "metadata": {},
   "source": [
    "compared to Julia"
   ]
  },
  {
   "cell_type": "code",
   "execution_count": 48,
   "metadata": {},
   "outputs": [
    {
     "data": {
      "text/plain": [
       "BenchmarkTools.Trial: 10000 samples with 1 evaluation.\n",
       " Range \u001b[90m(\u001b[39m\u001b[36m\u001b[1mmin\u001b[22m\u001b[39m … \u001b[35mmax\u001b[39m\u001b[90m):  \u001b[39m\u001b[36m\u001b[1m140.329 μs\u001b[22m\u001b[39m … \u001b[35m  7.099 ms\u001b[39m  \u001b[90m┊\u001b[39m GC \u001b[90m(\u001b[39mmin … max\u001b[90m): \u001b[39m0.00% … 0.00%\n",
       " Time  \u001b[90m(\u001b[39m\u001b[34m\u001b[1mmedian\u001b[22m\u001b[39m\u001b[90m):     \u001b[39m\u001b[34m\u001b[1m167.133 μs               \u001b[22m\u001b[39m\u001b[90m┊\u001b[39m GC \u001b[90m(\u001b[39mmedian\u001b[90m):    \u001b[39m0.00%\n",
       " Time  \u001b[90m(\u001b[39m\u001b[32m\u001b[1mmean\u001b[22m\u001b[39m ± \u001b[32mσ\u001b[39m\u001b[90m):   \u001b[39m\u001b[32m\u001b[1m213.659 μs\u001b[22m\u001b[39m ± \u001b[32m373.456 μs\u001b[39m  \u001b[90m┊\u001b[39m GC \u001b[90m(\u001b[39mmean ± σ\u001b[90m):  \u001b[39m0.00% ± 0.00%\n",
       "\n",
       "  \u001b[39m█\u001b[39m \u001b[39m \u001b[39m \u001b[39m \u001b[39m \u001b[39m \u001b[39m \u001b[39m \u001b[34m \u001b[39m\u001b[39m \u001b[39m \u001b[39m \u001b[39m \u001b[39m \u001b[39m \u001b[39m \u001b[39m \u001b[39m \u001b[39m \u001b[39m \u001b[39m \u001b[39m \u001b[39m \u001b[39m \u001b[39m \u001b[32m \u001b[39m\u001b[39m \u001b[39m \u001b[39m \u001b[39m \u001b[39m \u001b[39m \u001b[39m \u001b[39m \u001b[39m \u001b[39m \u001b[39m \u001b[39m \u001b[39m \u001b[39m \u001b[39m \u001b[39m \u001b[39m \u001b[39m \u001b[39m \u001b[39m \u001b[39m \u001b[39m \u001b[39m \u001b[39m \u001b[39m \u001b[39m \u001b[39m \u001b[39m \u001b[39m \u001b[39m \u001b[39m \u001b[39m \u001b[39m \u001b[39m \u001b[39m \u001b[39m \n",
       "  \u001b[39m█\u001b[39m▄\u001b[39m▂\u001b[39m▂\u001b[39m▂\u001b[39m▅\u001b[39m▅\u001b[39m█\u001b[39m▅\u001b[34m▅\u001b[39m\u001b[39m▄\u001b[39m▃\u001b[39m▂\u001b[39m▂\u001b[39m▂\u001b[39m▃\u001b[39m▃\u001b[39m▂\u001b[39m▂\u001b[39m▂\u001b[39m▂\u001b[39m▂\u001b[39m▂\u001b[39m▂\u001b[39m▁\u001b[39m▂\u001b[32m▂\u001b[39m\u001b[39m▂\u001b[39m▂\u001b[39m▂\u001b[39m▂\u001b[39m▂\u001b[39m▂\u001b[39m▂\u001b[39m▂\u001b[39m▂\u001b[39m▂\u001b[39m▂\u001b[39m▂\u001b[39m▂\u001b[39m▂\u001b[39m▂\u001b[39m▂\u001b[39m▁\u001b[39m▁\u001b[39m▁\u001b[39m▁\u001b[39m▁\u001b[39m▁\u001b[39m▁\u001b[39m▁\u001b[39m▁\u001b[39m▁\u001b[39m▁\u001b[39m▁\u001b[39m▁\u001b[39m▁\u001b[39m▁\u001b[39m▁\u001b[39m▁\u001b[39m▁\u001b[39m \u001b[39m▂\n",
       "  140 μs\u001b[90m           Histogram: frequency by time\u001b[39m          315 μs \u001b[0m\u001b[1m<\u001b[22m\n",
       "\n",
       " Memory estimate\u001b[90m: \u001b[39m\u001b[33m3.14 KiB\u001b[39m, allocs estimate\u001b[90m: \u001b[39m\u001b[33m52\u001b[39m."
      ]
     },
     "execution_count": 48,
     "metadata": {},
     "output_type": "execute_result"
    }
   ],
   "source": [
    "@benchmark eval(Meta.parse(\"(1+2)/5\"))"
   ]
  },
  {
   "cell_type": "markdown",
   "metadata": {},
   "source": [
    "recursive parsers can be built with Either"
   ]
  },
  {
   "cell_type": "code",
   "execution_count": 49,
   "metadata": {},
   "outputs": [
    {
     "data": {
      "text/markdown": [
       "```\n",
       "push!(collection, items...) -> collection\n",
       "```\n",
       "\n",
       "Insert one or more `items` in `collection`. If `collection` is an ordered container, the items are inserted at the end (in the given order).\n",
       "\n",
       "# Examples\n",
       "\n",
       "```jldoctest\n",
       "julia> push!([1, 2, 3], 4, 5, 6)\n",
       "6-element Array{Int64,1}:\n",
       " 1\n",
       " 2\n",
       " 3\n",
       " 4\n",
       " 5\n",
       " 6\n",
       "```\n",
       "\n",
       "If `collection` is ordered, use [`append!`](@ref) to add all the elements of another collection to it. The result of the preceding example is equivalent to `append!([1, 2, 3], [4, 5, 6])`. For `AbstractSet` objects, [`union!`](@ref) can be used instead.\n",
       "\n",
       "```\n",
       "push!(q::Deque{T}, x)\n",
       "```\n",
       "\n",
       "Add an element to the back\n",
       "\n",
       "```\n",
       "push!(s::IntDisjointSets{T})\n",
       "```\n",
       "\n",
       "Make a new subset with an automatically chosen new element x. Returns the new element. Throw an `ArgumentError` if the capacity of the set would be exceeded.\n",
       "\n",
       "```\n",
       "push!(s::DisjointSets{T}, x::T)\n",
       "```\n",
       "\n",
       "Make a new subset with an automatically chosen new element x. Returns the new element.\n",
       "\n",
       "```\n",
       "push!(h::BinaryHeap, value)\n",
       "```\n",
       "\n",
       "Adds the `value` element to the heap `h`.\n",
       "\n",
       "```\n",
       "push!(sc, k=>v)\n",
       "```\n",
       "\n",
       "Argument `sc` is a SortedDict or SortedMultiDict and `k=>v` is a key-value pair. This inserts the key-value pair into the container. If the key is already present, this overwrites the old value. The return value is `sc`. Time: O(*c* log *n*)\n",
       "\n",
       "```\n",
       "push!(sc, k=>v)\n",
       "```\n",
       "\n",
       "Argument `sc` is a SortedDict or SortedMultiDict and `k=>v` is a key-value pair. This inserts the key-value pair into the container. If the key is already present, this overwrites the old value. The return value is `sc`. Time: O(*c* log *n*)\n",
       "\n",
       "```\n",
       "push!(sc, k)\n",
       "```\n",
       "\n",
       "Argument `sc` is a SortedSet and `k` is a key. This inserts the key into the container. If the key is already present, this overwrites the old value. (This is not necessarily a no-op; see below for remarks about the customizing the sort order.) The return value is `sc`. Time: O(*c* log *n*)\n",
       "\n",
       "```\n",
       "push!(cb::CircularBuffer, data)\n",
       "```\n",
       "\n",
       "Add an element to the back and overwrite front if full.\n",
       "\n",
       "```\n",
       "push!(tree, key)\n",
       "```\n",
       "\n",
       "Inserts `key` in the `tree` if it is not present.\n",
       "\n",
       "```\n",
       "Base.push!(x::Either, option)\n",
       "```\n",
       "\n",
       "Push `option` to `x.options` as parser tried next if `x` fails.\n",
       "\n",
       "Recursive parsers can be built with `push!` to `Either`.\n",
       "\n",
       "See also [`pushfirst!`](@ref) and [`@syntax`](@ref).\n",
       "\n",
       "```\n",
       "Base.push!(x::WrappedParser{<:Either}, option)\n",
       "```\n",
       "\n",
       "Push `option` to `x.options` of repeated inner parser.\n"
      ],
      "text/plain": [
       "\u001b[36m  push!(collection, items...) -> collection\u001b[39m\n",
       "\n",
       "  Insert one or more \u001b[36mitems\u001b[39m in \u001b[36mcollection\u001b[39m. If \u001b[36mcollection\u001b[39m is an ordered container, the items are inserted at the end (in the given order).\n",
       "\n",
       "\u001b[1m  Examples\u001b[22m\n",
       "\u001b[1m  ≡≡≡≡≡≡≡≡≡≡\u001b[22m\n",
       "\n",
       "\u001b[36m  julia> push!([1, 2, 3], 4, 5, 6)\u001b[39m\n",
       "\u001b[36m  6-element Array{Int64,1}:\u001b[39m\n",
       "\u001b[36m   1\u001b[39m\n",
       "\u001b[36m   2\u001b[39m\n",
       "\u001b[36m   3\u001b[39m\n",
       "\u001b[36m   4\u001b[39m\n",
       "\u001b[36m   5\u001b[39m\n",
       "\u001b[36m   6\u001b[39m\n",
       "\n",
       "  If \u001b[36mcollection\u001b[39m is ordered, use \u001b[36mappend!\u001b[39m to add all the elements of another collection to it. The result of the preceding example is equivalent to \u001b[36mappend!([1,\n",
       "  2, 3], [4, 5, 6])\u001b[39m. For \u001b[36mAbstractSet\u001b[39m objects, \u001b[36munion!\u001b[39m can be used instead.\n",
       "\n",
       "\u001b[36m  push!(q::Deque{T}, x)\u001b[39m\n",
       "\n",
       "  Add an element to the back\n",
       "\n",
       "\u001b[36m  push!(s::IntDisjointSets{T})\u001b[39m\n",
       "\n",
       "  Make a new subset with an automatically chosen new element x. Returns the new element. Throw an \u001b[36mArgumentError\u001b[39m if the capacity of the set would be exceeded.\n",
       "\n",
       "\u001b[36m  push!(s::DisjointSets{T}, x::T)\u001b[39m\n",
       "\n",
       "  Make a new subset with an automatically chosen new element x. Returns the new element.\n",
       "\n",
       "\u001b[36m  push!(h::BinaryHeap, value)\u001b[39m\n",
       "\n",
       "  Adds the \u001b[36mvalue\u001b[39m element to the heap \u001b[36mh\u001b[39m.\n",
       "\n",
       "\u001b[36m  push!(sc, k=>v)\u001b[39m\n",
       "\n",
       "  Argument \u001b[36msc\u001b[39m is a SortedDict or SortedMultiDict and \u001b[36mk=>v\u001b[39m is a key-value pair. This inserts the key-value pair into the container. If the key is already\n",
       "  present, this overwrites the old value. The return value is \u001b[36msc\u001b[39m. Time: O(\u001b[4mc\u001b[24m log \u001b[4mn\u001b[24m)\n",
       "\n",
       "\u001b[36m  push!(sc, k=>v)\u001b[39m\n",
       "\n",
       "  Argument \u001b[36msc\u001b[39m is a SortedDict or SortedMultiDict and \u001b[36mk=>v\u001b[39m is a key-value pair. This inserts the key-value pair into the container. If the key is already\n",
       "  present, this overwrites the old value. The return value is \u001b[36msc\u001b[39m. Time: O(\u001b[4mc\u001b[24m log \u001b[4mn\u001b[24m)\n",
       "\n",
       "\u001b[36m  push!(sc, k)\u001b[39m\n",
       "\n",
       "  Argument \u001b[36msc\u001b[39m is a SortedSet and \u001b[36mk\u001b[39m is a key. This inserts the key into the container. If the key is already present, this overwrites the old value. (This is\n",
       "  not necessarily a no-op; see below for remarks about the customizing the sort order.) The return value is \u001b[36msc\u001b[39m. Time: O(\u001b[4mc\u001b[24m log \u001b[4mn\u001b[24m)\n",
       "\n",
       "\u001b[36m  push!(cb::CircularBuffer, data)\u001b[39m\n",
       "\n",
       "  Add an element to the back and overwrite front if full.\n",
       "\n",
       "\u001b[36m  push!(tree, key)\u001b[39m\n",
       "\n",
       "  Inserts \u001b[36mkey\u001b[39m in the \u001b[36mtree\u001b[39m if it is not present.\n",
       "\n",
       "\u001b[36m  Base.push!(x::Either, option)\u001b[39m\n",
       "\n",
       "  Push \u001b[36moption\u001b[39m to \u001b[36mx.options\u001b[39m as parser tried next if \u001b[36mx\u001b[39m fails.\n",
       "\n",
       "  Recursive parsers can be built with \u001b[36mpush!\u001b[39m to \u001b[36mEither\u001b[39m.\n",
       "\n",
       "  See also \u001b[36mpushfirst!\u001b[39m and \u001b[36m@syntax\u001b[39m.\n",
       "\n",
       "\u001b[36m  Base.push!(x::WrappedParser{<:Either}, option)\u001b[39m\n",
       "\n",
       "  Push \u001b[36moption\u001b[39m to \u001b[36mx.options\u001b[39m of repeated inner parser."
      ]
     },
     "execution_count": 49,
     "metadata": {},
     "output_type": "execute_result"
    }
   ],
   "source": [
    "@doc push!"
   ]
  },
  {
   "cell_type": "markdown",
   "metadata": {},
   "source": [
    "new options can also take precendence"
   ]
  },
  {
   "cell_type": "code",
   "execution_count": 50,
   "metadata": {},
   "outputs": [
    {
     "data": {
      "text/markdown": [
       "```\n",
       "pushfirst!(collection, items...) -> collection\n",
       "```\n",
       "\n",
       "Insert one or more `items` at the beginning of `collection`.\n",
       "\n",
       "# Examples\n",
       "\n",
       "```jldoctest\n",
       "julia> pushfirst!([1, 2, 3, 4], 5, 6)\n",
       "6-element Array{Int64,1}:\n",
       " 5\n",
       " 6\n",
       " 1\n",
       " 2\n",
       " 3\n",
       " 4\n",
       "```\n",
       "\n",
       "```\n",
       "pushfirst!(q::Deque{T}, x)\n",
       "```\n",
       "\n",
       "Add an element to the front\n",
       "\n",
       "```\n",
       "pushfirst!(D::CircularDeque, v)\n",
       "```\n",
       "\n",
       "Add an element to the front.\n",
       "\n",
       "```\n",
       "pushfirst!(cb::CircularBuffer, data)\n",
       "```\n",
       "\n",
       "Insert one or more items at the beginning of CircularBuffer and overwrite back if full.\n",
       "\n",
       "```\n",
       "Base.pushfirst!(x::Either, option)\n",
       "```\n",
       "\n",
       "Push `option` to `x.options` as parser tried first, and trying `x` if `option` fails.\n",
       "\n",
       "Recursive parsers can be built with `pushfirst!` to `Either`.\n",
       "\n",
       "See also [`push!`](@ref) and [`@syntax`](@ref).\n",
       "\n",
       "```\n",
       "Base.pushfirst!(x::WrappedParser{<:Either}, option)\n",
       "```\n",
       "\n",
       "Push `option` as first `x.options` of repeated inner parser.\n"
      ],
      "text/plain": [
       "\u001b[36m  pushfirst!(collection, items...) -> collection\u001b[39m\n",
       "\n",
       "  Insert one or more \u001b[36mitems\u001b[39m at the beginning of \u001b[36mcollection\u001b[39m.\n",
       "\n",
       "\u001b[1m  Examples\u001b[22m\n",
       "\u001b[1m  ≡≡≡≡≡≡≡≡≡≡\u001b[22m\n",
       "\n",
       "\u001b[36m  julia> pushfirst!([1, 2, 3, 4], 5, 6)\u001b[39m\n",
       "\u001b[36m  6-element Array{Int64,1}:\u001b[39m\n",
       "\u001b[36m   5\u001b[39m\n",
       "\u001b[36m   6\u001b[39m\n",
       "\u001b[36m   1\u001b[39m\n",
       "\u001b[36m   2\u001b[39m\n",
       "\u001b[36m   3\u001b[39m\n",
       "\u001b[36m   4\u001b[39m\n",
       "\n",
       "\u001b[36m  pushfirst!(q::Deque{T}, x)\u001b[39m\n",
       "\n",
       "  Add an element to the front\n",
       "\n",
       "\u001b[36m  pushfirst!(D::CircularDeque, v)\u001b[39m\n",
       "\n",
       "  Add an element to the front.\n",
       "\n",
       "\u001b[36m  pushfirst!(cb::CircularBuffer, data)\u001b[39m\n",
       "\n",
       "  Insert one or more items at the beginning of CircularBuffer and overwrite back if full.\n",
       "\n",
       "\u001b[36m  Base.pushfirst!(x::Either, option)\u001b[39m\n",
       "\n",
       "  Push \u001b[36moption\u001b[39m to \u001b[36mx.options\u001b[39m as parser tried first, and trying \u001b[36mx\u001b[39m if \u001b[36moption\u001b[39m fails.\n",
       "\n",
       "  Recursive parsers can be built with \u001b[36mpushfirst!\u001b[39m to \u001b[36mEither\u001b[39m.\n",
       "\n",
       "  See also \u001b[36mpush!\u001b[39m and \u001b[36m@syntax\u001b[39m.\n",
       "\n",
       "\u001b[36m  Base.pushfirst!(x::WrappedParser{<:Either}, option)\u001b[39m\n",
       "\n",
       "  Push \u001b[36moption\u001b[39m as first \u001b[36mx.options\u001b[39m of repeated inner parser."
      ]
     },
     "execution_count": 50,
     "metadata": {},
     "output_type": "execute_result"
    }
   ],
   "source": [
    "@doc pushfirst!"
   ]
  },
  {
   "cell_type": "markdown",
   "metadata": {},
   "source": [
    "The `@syntax for option in either` can also be used"
   ]
  },
  {
   "cell_type": "code",
   "execution_count": 51,
   "metadata": {},
   "outputs": [
    {
     "data": {
      "text/markdown": [
       "```\n",
       "@syntax name = expr\n",
       "```\n",
       "\n",
       "Convenience macro defining a CombinedParser `name=expr` and custom parsing macro `@name_str`.\n",
       "\n",
       "```jldoctest\n",
       "julia> @syntax a = AnyChar()\n",
       "\n",
       "julia> a\"char\"\n",
       "\n",
       "```\n",
       "\n",
       "```\n",
       "@syntax for name in either; expr; end\n",
       "```\n",
       "\n",
       "Parser `expr` is [`pushfirst!`](@ref) to `either`. If `either` is undefined, it will be created. If `either == :text || either == Symbol(:)` the parser will be added to `CombinedParser_globals` variable in your module.\n",
       "\n",
       "```jldoctest\n",
       "julia> @syntax street_address = Either(Any[]);\n",
       "\n",
       "julia> @syntax for german_street_address in street_address\n",
       "            Sequence(!!Repeat(AnyChar()),\n",
       "                     \" \",\n",
       "                     TextParse.Numeric(Int)) do v\n",
       "                (street = v[1], no=v[3])\n",
       "            end\n",
       "       end\n",
       "🗄 Sequence |> map(#50) |> with_name(:german_street_address)\n",
       "├─ .* AnyChar |> Repeat |> ! |> map(intern) |> map(String)\n",
       "├─ \\  \n",
       "└─  <Int64>\n",
       "::NamedTuple{(:street, :no),Tuple{String,Int64}}\n",
       "\n",
       "julia> german_street_address\"Some Avenue 42\"\n",
       "NamedTuple{(:street, :no),Tuple{SubString,Int64}}((\"Some Avenue\", 42))\n",
       "\n",
       "\n",
       "julia> @syntax for us_street_address in street_address\n",
       "            Sequence(TextParse.Numeric(Int),\n",
       "                     \" \",\n",
       "                     !!Repeat(AnyChar())) do v\n",
       "                (street = v[3], no=v[1])\n",
       "            end\n",
       "       end\n",
       "🗄 Sequence |> map(#52) |> with_name(:us_street_address)\n",
       "├─  <Int64>\n",
       "├─ \\  \n",
       "└─ .* AnyChar |> Repeat |> ! |> map(intern) |> map(String)\n",
       "::NamedTuple{(:street, :no),Tuple{String,Int64}}\n",
       "\n",
       "julia> street_address\"50 Oakland Ave\"\n",
       "(street = \"Oakland Ave\", no = 50)\n",
       "\n",
       "julia> street_address\"Oakland Ave 50\"\n",
       "(street = \"Oakland Ave\", no = 50)\n",
       "```\n"
      ],
      "text/plain": [
       "\u001b[36m  @syntax name = expr\u001b[39m\n",
       "\n",
       "  Convenience macro defining a CombinedParser \u001b[36mname=expr\u001b[39m and custom parsing macro \u001b[36m@name_str\u001b[39m.\n",
       "\n",
       "\u001b[36m  julia> @syntax a = AnyChar()\u001b[39m\n",
       "\u001b[36m  \u001b[39m\n",
       "\u001b[36m  julia> a\"char\"\u001b[39m\n",
       "\u001b[36m  \u001b[39m\n",
       "\n",
       "\u001b[36m  @syntax for name in either; expr; end\u001b[39m\n",
       "\n",
       "  Parser \u001b[36mexpr\u001b[39m is \u001b[36mpushfirst!\u001b[39m to \u001b[36meither\u001b[39m. If \u001b[36meither\u001b[39m is undefined, it will be created. If \u001b[36meither == :text || either == Symbol(:)\u001b[39m the parser will be added to\n",
       "  \u001b[36mCombinedParser_globals\u001b[39m variable in your module.\n",
       "\n",
       "\u001b[36m  julia> @syntax street_address = Either(Any[]);\u001b[39m\n",
       "\u001b[36m  \u001b[39m\n",
       "\u001b[36m  julia> @syntax for german_street_address in street_address\u001b[39m\n",
       "\u001b[36m              Sequence(!!Repeat(AnyChar()),\u001b[39m\n",
       "\u001b[36m                       \" \",\u001b[39m\n",
       "\u001b[36m                       TextParse.Numeric(Int)) do v\u001b[39m\n",
       "\u001b[36m                  (street = v[1], no=v[3])\u001b[39m\n",
       "\u001b[36m              end\u001b[39m\n",
       "\u001b[36m         end\u001b[39m\n",
       "\u001b[36m  🗄 Sequence |> map(#50) |> with_name(:german_street_address)\u001b[39m\n",
       "\u001b[36m  ├─ .* AnyChar |> Repeat |> ! |> map(intern) |> map(String)\u001b[39m\n",
       "\u001b[36m  ├─ \\  \u001b[39m\n",
       "\u001b[36m  └─  <Int64>\u001b[39m\n",
       "\u001b[36m  ::NamedTuple{(:street, :no),Tuple{String,Int64}}\u001b[39m\n",
       "\u001b[36m  \u001b[39m\n",
       "\u001b[36m  julia> german_street_address\"Some Avenue 42\"\u001b[39m\n",
       "\u001b[36m  NamedTuple{(:street, :no),Tuple{SubString,Int64}}((\"Some Avenue\", 42))\u001b[39m\n",
       "\u001b[36m  \u001b[39m\n",
       "\u001b[36m  \u001b[39m\n",
       "\u001b[36m  julia> @syntax for us_street_address in street_address\u001b[39m\n",
       "\u001b[36m              Sequence(TextParse.Numeric(Int),\u001b[39m\n",
       "\u001b[36m                       \" \",\u001b[39m\n",
       "\u001b[36m                       !!Repeat(AnyChar())) do v\u001b[39m\n",
       "\u001b[36m                  (street = v[3], no=v[1])\u001b[39m\n",
       "\u001b[36m              end\u001b[39m\n",
       "\u001b[36m         end\u001b[39m\n",
       "\u001b[36m  🗄 Sequence |> map(#52) |> with_name(:us_street_address)\u001b[39m\n",
       "\u001b[36m  ├─  <Int64>\u001b[39m\n",
       "\u001b[36m  ├─ \\  \u001b[39m\n",
       "\u001b[36m  └─ .* AnyChar |> Repeat |> ! |> map(intern) |> map(String)\u001b[39m\n",
       "\u001b[36m  ::NamedTuple{(:street, :no),Tuple{String,Int64}}\u001b[39m\n",
       "\u001b[36m  \u001b[39m\n",
       "\u001b[36m  julia> street_address\"50 Oakland Ave\"\u001b[39m\n",
       "\u001b[36m  (street = \"Oakland Ave\", no = 50)\u001b[39m\n",
       "\u001b[36m  \u001b[39m\n",
       "\u001b[36m  julia> street_address\"Oakland Ave 50\"\u001b[39m\n",
       "\u001b[36m  (street = \"Oakland Ave\", no = 50)\u001b[39m"
      ]
     },
     "execution_count": 51,
     "metadata": {},
     "output_type": "execute_result"
    }
   ],
   "source": [
    "@doc @syntax"
   ]
  },
  {
   "cell_type": "markdown",
   "metadata": {},
   "source": [
    "## EBNF support\n",
    "BNF parser draft:\n",
    "- left recursion draft not published\n",
    "If you want to invest time or resources I am very happy to collaborate."
   ]
  },
  {
   "cell_type": "markdown",
   "metadata": {
    "slideshow": {
     "slide_type": "notes"
    }
   },
   "source": [
    "Left-recursion is a pattern in metalanguages, a pattern when defining what texts are valid in languages.\n",
    "For example in the language of arithmetic, of e.g. addition of numbers:\n",
    "\n",
    "    1+3+8+2\n",
    "\n",
    "A language for such expressions is defined with\n",
    "\n",
    "    expression: expression \"+\" expression | number\n",
    "    number: [0-9]+\n",
    "\n",
    "written in the popular EBNF format for metalanguages.\n",
    "In this representation expressions can contain expressions and so on.\n",
    "\n",
    "In this representation expressions can contain expressions and so on.\n",
    "\n",
    "    1+3\n",
    "       +8\n",
    "         +2\n",
    "\n",
    "This would also be a valid parsing (if precedence is not enforced):\n",
    "\n",
    "    1+\n",
    "      3+\n",
    "        8+2\n",
    "\n",
    "ParserCombinators resort to a `Either/Delayed` function for recursion,\n",
    "as does `CombinedParsers.jl`.\n",
    "Personally I found this an intuitive and complete alternative.\n",
    "\n",
    "Such left recursion is a problem for creating a Parser Combinator with julia parser package CombinedParsers.jl.\n",
    "A parser combinator descends into functions that check for a match at a position, in the expression check, for the first decision, such a function descends, and an infinite call stack overflow results.\n",
    "\n",
    "Most of the time it is possible to prevent left recursion by reformulating the parser.\n",
    "\n",
    "A left recursive CombinedParsers will throw a StackOverflowError.\n",
    "Left-recursive parsers can be rewritten nestedly CombinedParsers, similar to inserting log statements, with the `deepmap_parser` heuristic, inserting a Memoization parser that blocks recursion.\n",
    "\n",
    "However, implementation is not yet complete.\n",
    "One of `CombinedParsers` strengths is to iterate all matches, if ambigous.\n",
    "\n",
    "\n",
    "A CombinedParser syntax draft for parsing BNF: <https://github.com/gkappler/CombinedParsers.jl/blob/master/test/bnf.jl> \n",
    "\n",
    "Happy if you want to get involved!"
   ]
  },
  {
   "cell_type": "markdown",
   "metadata": {
    "slideshow": {
     "slide_type": "slide"
    }
   },
   "source": [
    "# Regular Expressions\n",
    "the standard to parse (`Base.PCRE` C library).\n",
    "#### **Construct** `CombinedParsers` from `Regex` string:"
   ]
  },
  {
   "cell_type": "code",
   "execution_count": 52,
   "metadata": {},
   "outputs": [
    {
     "data": {
      "text/plain": [
       "\u001b[0m\u001b[1m🗄\u001b[22m\u001b[0m Sequence |> regular expression combinator with 3 capturing groups\n",
       "├─ \u001b[36m\u001b[1m(?<name>\u001b[22m\u001b[39m\u001b[36m\u001b[1m[\\ \\ \\u180e\\ \\ \\ \\ \\ \\ \\ \\ \\ \\ \\ \\　\\ \\ \\t_\\ \\p{1:5}\\p{9:11}]\u001b[22m\u001b[39m\u001b[36m\u001b[1m+)\u001b[22m\u001b[39m\u001b[0m CharIn |> Repeat |> Capture 1 |> with_name(:\u001b[31m\u001b[1mname\u001b[22m\u001b[39m)\n",
       "├─ \u001b[36m\u001b[1m[\\h]\u001b[22m\u001b[39m\u001b[36m\u001b[1m+\u001b[22m\u001b[39m\u001b[0m CharIn |> Repeat\n",
       "├─ \u001b[36m\u001b[1m(?<lastname>\u001b[22m\u001b[39m\u001b[36m\u001b[1m[\\w]\u001b[22m\u001b[39m\u001b[36m\u001b[1m+)\u001b[22m\u001b[39m\u001b[0m CharIn |> Repeat |> Capture 2 |> with_name(:\u001b[31m\u001b[1mlastname\u001b[22m\u001b[39m)\n",
       "├─ \u001b[36m\u001b[1m\\n\u001b[22m\u001b[39m\u001b[0m \n",
       "└─ \u001b[36m\u001b[1m(?<background>\u001b[22m\u001b[39m\u001b[36m\u001b[1m[\\ \\ \\u180e\\ \\ \\ \\ \\ \\ \\ \\ \\ \\ \\ \\　\\ \\ \\t_\\ \\p{1:5}\\p{9:11}]\u001b[22m\u001b[39m\u001b[36m\u001b[1m+)\u001b[22m\u001b[39m\u001b[0m CharIn |> Repeat |> Capture 3 |> with_name(:\u001b[31m\u001b[1mbackground\u001b[22m\u001b[39m)\n",
       "::Tuple{Array{Char,1},Array{Char,1},Array{Char,1},Char,Array{Char,1}}\n"
      ]
     },
     "execution_count": 52,
     "metadata": {},
     "output_type": "execute_result"
    }
   ],
   "source": [
    "speaker = \"Gregor Kappler\n",
    "psychometric scientist and programmer, independent\";\n",
    "\n",
    "using CombinedParsers.Regexp\n",
    "\n",
    "import CombinedParsers.Regexp: word, words, whitespace # hide\n",
    "\n",
    "person_background = Sequence(\n",
    "    :name => !words, whitespace, :lastname => !word, \"\\n\",\n",
    "    :background => !words)\n",
    "\n",
    "r = re\"(?<name>[\\w\\h]+)\\h+(?<lastname>\\w+)\\n(?<background>[\\w\\h]+)\""
   ]
  },
  {
   "cell_type": "markdown",
   "metadata": {},
   "source": [
    "#### **Understand structure** of `Regex` side-by-side with `CombinedParsers` API."
   ]
  },
  {
   "cell_type": "markdown",
   "metadata": {
    "name": "`match` ",
    "slideshow": {
     "slide_type": "subslide"
    }
   },
   "source": [
    "## PCRE compliance: `match` API\n",
    "Use `CombinedParsers`\n",
    "like `Base.RegexMatch`"
   ]
  },
  {
   "cell_type": "code",
   "execution_count": 53,
   "metadata": {},
   "outputs": [
    {
     "data": {
      "text/plain": [
       "(\"Gregor\", 53)"
      ]
     },
     "execution_count": 53,
     "metadata": {},
     "output_type": "execute_result"
    }
   ],
   "source": [
    "m = match(r, speaker)\n",
    "m[:name], m.stop"
   ]
  },
  {
   "cell_type": "markdown",
   "metadata": {},
   "source": [
    "Transform strings into any Julia type e.g. `NamedTuple`"
   ]
  },
  {
   "cell_type": "code",
   "execution_count": 54,
   "metadata": {},
   "outputs": [
    {
     "data": {
      "text/plain": [
       "(name = \"Gregor\", lastname = \"Kappler\", background = \"psychometric scientist and programmer\")"
      ]
     },
     "execution_count": 54,
     "metadata": {},
     "output_type": "execute_result"
    }
   ],
   "source": [
    "parse(person_background, speaker)"
   ]
  },
  {
   "cell_type": "markdown",
   "metadata": {
    "slideshow": {
     "slide_type": "notes"
    }
   },
   "source": [
    "When captures in `Regex` repeatedly match, only the last match is captured.\n",
    "\n",
    "With `CombinedParsers` you can\n",
    "transform  with `map` a String into any Julia representation with nesting and capturing all repeated values.\n",
    "\n",
    "Julia `result_type` inference does make\n",
    "parsers brief without redundant type definitions.\n",
    "In fact, a CombinedParser defines the types of a data domain from the syntax definition."
   ]
  },
  {
   "cell_type": "markdown",
   "metadata": {
    "slideshow": {
     "slide_type": "slide"
    }
   },
   "source": [
    "## PCRE compliance: Features"
   ]
  },
  {
   "cell_type": "markdown",
   "metadata": {
    "cell_style": "split"
   },
   "source": [
    "✅ 3071 on 972 patterns,<br/>\n",
    "❌ 25 on 17 patterns <br/>\n",
    "(PCRE C library unit tests)."
   ]
  },
  {
   "cell_type": "markdown",
   "metadata": {
    "cell_style": "split",
    "slideshow": {
     "slide_type": "fragment"
    }
   },
   "source": [
    "**not supported**<br/>\n",
    "❌ `ACCEPT, SKIP, COMMIT, THEN, PRUNE, \\K`\n",
    "<br/>\n",
    "❌ capture, lookaheads in lookbehinds"
   ]
  },
  {
   "cell_type": "markdown",
   "metadata": {
    "cell_style": "split"
   },
   "source": [
    "**Characters**<br/>\n",
    "✅ escapes, character types\n",
    "<br/>\n",
    "✅ character ranges (`[]`)\n",
    "\n",
    "**Basics**<br/>\n",
    "✅ sequences, `|`, `?`\n",
    "<br/>\n",
    "✅ (lazy) repetitions\n",
    "<br/>\n",
    "✅ atomic groups\n",
    "<br/>\n",
    "✅ options"
   ]
  },
  {
   "cell_type": "markdown",
   "metadata": {
    "cell_style": "split"
   },
   "source": [
    "**Groups**<br/>\n",
    "✅ non-capturing `(?:)`\n",
    "<br/>\n",
    "✅ capturing groups `()`\n",
    "<br/>\n",
    "✅ backreferences `\\1` & subroutines `(?1)`\n",
    "<br/>\n",
    "✅ conditional expressions\n",
    "\n",
    "**Assertions**<br/>\n",
    "✅ assertions `\\z\\Z\\b\\B^$`...\n",
    "<br/>\n",
    "✅ look-aheads & -behinds"
   ]
  },
  {
   "cell_type": "markdown",
   "metadata": {
    "slideshow": {
     "slide_type": "slide"
    }
   },
   "source": [
    "# Regex ↔ Building Blocks\n",
    "#### `@re_str::CombinedParser` conforming with `Base.PCRE` [spec](https://www.pcre.org/original/doc/html/pcrepattern.html)\n",
    "- reading PCRE regular expressions and\n",
    "- resulting in a `CombinedParser` usable as plug-in `Regex` replacement"
   ]
  },
  {
   "cell_type": "markdown",
   "metadata": {
    "name": "Design and Standards ",
    "slideshow": {
     "slide_type": "slide"
    }
   },
   "source": [
    "# Brevity\n",
    "Julia's type inference\n",
    "saves you time and inconsistencies of writing type information repeatedly during data-preparation."
   ]
  },
  {
   "cell_type": "markdown",
   "metadata": {
    "slideshow": {
     "slide_type": "notes"
    }
   },
   "source": [
    "For me parsing was often tedious, involving redundant definitions.\n",
    "Even fluent, parsing stays some sort pain, yes or no?\n",
    "`CombinedParsers` feel much more fun at greater output.\n",
    "`CombinedParsers` requires very little little repeated information,\n",
    "Julia type inference is so useful!"
   ]
  },
  {
   "cell_type": "markdown",
   "metadata": {
    "name": "Design and Standards ",
    "slideshow": {
     "slide_type": "slide"
    }
   },
   "source": [
    "# Iteration combinatorics\n",
    "#### lazy `parse_all`"
   ]
  },
  {
   "cell_type": "code",
   "execution_count": 55,
   "metadata": {},
   "outputs": [
    {
     "data": {
      "text/plain": [
       "4-element Array{Tuple{AtStart,Array{Union{Char, Tuple{Char,Char}},1},AtEnd},1}:\n",
       " (re\"^\", ['a', 'b', 'a', 'b'], re\"$\")\n",
       " (re\"^\", ['a', 'b', ('a', 'b')], re\"$\")\n",
       " (re\"^\", [('a', 'b'), 'a', 'b'], re\"$\")\n",
       " (re\"^\", [('a', 'b'), ('a', 'b')], re\"$\")"
      ]
     },
     "execution_count": 55,
     "metadata": {},
     "output_type": "execute_result"
    }
   ],
   "source": [
    "[ e for e in parse_all(re\"^(a|ab|b)+$\",\"abab\") ]"
   ]
  },
  {
   "cell_type": "markdown",
   "metadata": {
    "slideshow": {
     "slide_type": "notes"
    }
   },
   "source": [
    "If a parsing is not uniquely defined\n",
    "Julia's `iterate` API lazily `parse`s with backtracking combinatorics,"
   ]
  },
  {
   "cell_type": "markdown",
   "metadata": {},
   "source": [
    "#### lazy `match_all`"
   ]
  },
  {
   "cell_type": "code",
   "execution_count": 56,
   "metadata": {},
   "outputs": [
    {
     "data": {
      "text/plain": [
       "4-element Array{Tuple{Int64,Array{Union{Char, Tuple{Char,Char}},1}},1}:\n",
       " (1, ['a', 'b'])\n",
       " (1, ['a'])\n",
       " (1, [('a', 'b')])\n",
       " (2, ['b'])"
      ]
     },
     "execution_count": 56,
     "metadata": {},
     "output_type": "execute_result"
    }
   ],
   "source": [
    "[ (e.start,get(e)) for e in match_all(re\"(a|ab|b)+\",\"ab\") ]"
   ]
  },
  {
   "cell_type": "markdown",
   "metadata": {
    "slideshow": {
     "slide_type": "slide"
    }
   },
   "source": [
    "## Parametric Types & Dispatch Optimization\n",
    "Parsers and states have custom types.\n",
    "This allows method dispatch\n",
    "to insert fast matching code for special-cases.\n",
    "\n",
    "This is used in lazy construction of results based on an appropriate (sub-)state.\n",
    "\n",
    "Supports currently"
   ]
  },
  {
   "cell_type": "code",
   "execution_count": 57,
   "metadata": {},
   "outputs": [
    {
     "data": {
      "text/plain": [
       "7"
      ]
     },
     "execution_count": 57,
     "metadata": {},
     "output_type": "execute_result"
    }
   ],
   "source": [
    "rp = Repeat(AnyChar())\n",
    "match(rp,\"0.1.2.3\").state"
   ]
  },
  {
   "cell_type": "markdown",
   "metadata": {},
   "source": [
    "State is just the chars matched"
   ]
  },
  {
   "cell_type": "code",
   "execution_count": 58,
   "metadata": {},
   "outputs": [
    {
     "data": {
      "text/plain": [
       "ParseMatch(\"1\")"
      ]
     },
     "execution_count": 58,
     "metadata": {},
     "output_type": "execute_result"
    }
   ],
   "source": [
    "match(rp,\"0.1.2.3\")[3]"
   ]
  },
  {
   "cell_type": "markdown",
   "metadata": {},
   "source": [
    "and"
   ]
  },
  {
   "cell_type": "code",
   "execution_count": 59,
   "metadata": {},
   "outputs": [
    {
     "data": {
      "text/plain": [
       "∘"
      ]
     },
     "execution_count": 59,
     "metadata": {},
     "output_type": "execute_result"
    }
   ],
   "source": [
    "sp = Sequence(AnyChar(),AnyChar(),AnyChar(),AnyChar())\n",
    "match(sp,\"0.1.2.3\").state"
   ]
  },
  {
   "cell_type": "markdown",
   "metadata": {},
   "source": [
    "State is `MatchState`"
   ]
  },
  {
   "cell_type": "code",
   "execution_count": 60,
   "metadata": {},
   "outputs": [
    {
     "data": {
      "text/plain": [
       "ParseMatch(\"1\")"
      ]
     },
     "execution_count": 60,
     "metadata": {},
     "output_type": "execute_result"
    }
   ],
   "source": [
    "match(sp,\"0.1.2.3\")[3]"
   ]
  },
  {
   "cell_type": "markdown",
   "metadata": {},
   "source": [
    "The implementation shows how state is managed in CombinedParsers: <https://github.com/gkappler/CombinedParsers.jl/blob/master/src/lazy.jl>"
   ]
  },
  {
   "cell_type": "markdown",
   "metadata": {},
   "source": [
    "Another Example: custom palindrome parser API in [docs](https://gkappler.github.io/CombinedParsers.jl/dev/man/example-palindromes/)."
   ]
  },
  {
   "cell_type": "markdown",
   "metadata": {},
   "source": [
    "Optimization is ongoing."
   ]
  },
  {
   "cell_type": "markdown",
   "metadata": {
    "name": "Optimizing ",
    "slideshow": {
     "slide_type": "slide"
    }
   },
   "source": [
    "# Prefix Trees"
   ]
  },
  {
   "cell_type": "code",
   "execution_count": 61,
   "metadata": {
    "slideshow": {
     "slide_type": "notes"
    }
   },
   "outputs": [],
   "source": [
    "using Random\n",
    "using BenchmarkTools\n",
    "s = [ randstring(5) for _ in 1:5000 ];"
   ]
  },
  {
   "cell_type": "markdown",
   "metadata": {
    "slideshow": {
     "slide_type": "notes"
    }
   },
   "source": [
    "Matching one of 5000 `String`s in `s` is slow in PCRE (5 characters each):"
   ]
  },
  {
   "cell_type": "code",
   "execution_count": 62,
   "metadata": {},
   "outputs": [
    {
     "data": {
      "text/plain": [
       "BenchmarkTools.TrialEstimate: \n",
       "  time:             24.405 μs\n",
       "  gctime:           0.000 ns (0.00%)\n",
       "  memory:           224 bytes\n",
       "  allocs:           3"
      ]
     },
     "execution_count": 62,
     "metadata": {},
     "output_type": "execute_result"
    }
   ],
   "source": [
    "re = Regex(join(s,\"|\"));\n",
    "median(@benchmark match($re,$s[end]))"
   ]
  },
  {
   "cell_type": "markdown",
   "metadata": {
    "slideshow": {
     "slide_type": "notes"
    }
   },
   "source": [
    "PCRE fails when matching any of 10000 Strings.\n",
    "`CombinedParsers` dispatches `Either(::Vector{<:AbstractString})`\n",
    "to create an `Either{Trie{Char}}` (no state machines)\n",
    "with a fast `_iterate` implementation, and no limit to the number of strings."
   ]
  },
  {
   "cell_type": "code",
   "execution_count": 63,
   "metadata": {},
   "outputs": [
    {
     "data": {
      "text/plain": [
       "BenchmarkTools.TrialEstimate: \n",
       "  time:             111.052 ns\n",
       "  gctime:           0.000 ns (0.00%)\n",
       "  memory:           256 bytes\n",
       "  allocs:           3"
      ]
     },
     "execution_count": 63,
     "metadata": {},
     "output_type": "execute_result"
    }
   ],
   "source": [
    "pc = Either(s);\n",
    "median(@benchmark match($pc,$s[end]))"
   ]
  },
  {
   "cell_type": "markdown",
   "metadata": {
    "cell_style": "split",
    "name": "Outline "
   },
   "source": [
    "## Summary\n",
    "#### 1. Regular Expressions\n",
    "- PCRE-compliance\n",
    "- building blocks\n",
    "- inter-operability\n",
    "\n",
    "#### 2. Design and Standards\n",
    "- brevity ← type inference\n",
    "- iteration combinatorics\n",
    "- custom parser API\n",
    "\n",
    "#### 3. Performance\n",
    "- PCRE benchmarks\n",
    "- parametric types\n",
    "- dispatch optimization\n",
    "- prefix trees\n",
    "- memoization"
   ]
  },
  {
   "cell_type": "markdown",
   "metadata": {
    "slideshow": {
     "slide_type": "slide"
    }
   },
   "source": [
    "# CombinedParsers Packages\n",
    "- [Tries.jl](https://github.com/gkappler/Tries.jl) backend of fast prefix-tree matching (see [docs](https://gkappler.github.io/CombinedParsers.jl/dev/man/example-either-trie/))\n",
    "- [CombinedParserTools.jl](https://github.com/gkappler/CombinedParserTools.jl) for re-useable parsers, markup and annotation types.\n",
    "- [WikitextParser.jl](https://github.com/gkappler/WikitextParser.jl) for [wikitext syntax](https://en.wikipedia.org/wiki/Help:Wikitext), with markup types.\n",
    "- OrgmodeParser.jl for [org mode](https://orgmode.org/) syntax."
   ]
  },
  {
   "cell_type": "markdown",
   "metadata": {
    "slideshow": {
     "slide_type": "notes"
    }
   },
   "source": [
    "If you want to invest in creating a message broker with `CombinedParsers`, I will gladly collaborate.\n",
    "If you want to work with `CombinedParsers`, I will gladly provide professional support.\n",
    "If you are writing your own recursive `CombinedParser` and seek inspiration, you might find these comprehensive examples interesting."
   ]
  },
  {
   "cell_type": "markdown",
   "metadata": {
    "slideshow": {
     "slide_type": "slide"
    }
   },
   "source": [
    "# `CombinedParsers` Design\n",
    "- **fast**: optimizable with Julia method dispatch, generated functions,\n",
    "- **brief**: type-inference defines the domain data types,\n",
    "- **inter-operable**: composable with `Regex`, `TextParse`...\n",
    "- **general**: provides flexible public API for matching, parsing, iteration"
   ]
  },
  {
   "cell_type": "markdown",
   "metadata": {
    "slideshow": {
     "slide_type": "fragment"
    }
   },
   "source": [
    "### Next\n",
    "- Syntax freeze (no `Char`)\n",
    "- Optimization experiments\n",
    "- error tracing (debugging?)"
   ]
  },
  {
   "cell_type": "markdown",
   "metadata": {},
   "source": [
    "---\n",
    "\n",
    "*This notebook was generated using [Literate.jl](https://github.com/fredrikekre/Literate.jl).*"
   ]
  }
 ],
 "metadata": {
  "kernelspec": {
   "display_name": "Julia 1.5.4",
   "language": "julia",
   "name": "julia-1.5"
  },
  "language_info": {
   "file_extension": ".jl",
   "mimetype": "application/julia",
   "name": "julia",
   "version": "1.5.4"
  }
 },
 "nbformat": 4,
 "nbformat_minor": 3
}
