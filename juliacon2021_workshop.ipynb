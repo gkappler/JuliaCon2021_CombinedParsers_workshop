{
 "cells": [
  {
   "cell_type": "markdown",
   "metadata": {
    "name": "CombinedParsers ",
    "slideshow": {
     "slide_type": "slide"
    }
   },
   "source": [
    "# Parse and Broker Messages with CombinedParsers\n",
    "Faster write fast parsers"
   ]
  },
  {
   "cell_type": "code",
   "execution_count": 1,
   "metadata": {},
   "outputs": [],
   "source": [
    "using CombinedParsers                   ## JuliaCon 2021\n",
    "\n",
    "\n",
    "speaker = \"Gregor Kappler\n",
    "psychometric scientist and programmer, independent\";\n",
    "\n",
    "\n",
    "\n",
    "import CombinedParsers.Regexp: word, words, whitespace # hide"
   ]
  },
  {
   "cell_type": "markdown",
   "metadata": {},
   "source": [
    "This workshop is about using the julia package CombinedParsers."
   ]
  },
  {
   "cell_type": "code",
   "execution_count": 2,
   "metadata": {},
   "outputs": [
    {
     "data": {
      "text/plain": [
       "(name = \"Gregor\", lastname = \"Kappler\", background = \"psychometric scientist and programmer\")"
      ]
     },
     "execution_count": 2,
     "metadata": {},
     "output_type": "execute_result"
    }
   ],
   "source": [
    "person_background = Sequence(\n",
    "    :name => !words, whitespace, :lastname => !word, \"\\n\",\n",
    "    :background => !words)\n",
    "\n",
    "person_background(speaker)"
   ]
  },
  {
   "cell_type": "markdown",
   "metadata": {
    "slideshow": {
     "slide_type": "notes"
    }
   },
   "source": [
    "## Parsing\n",
    "*converting vectors (strings/binary) to any type with julia*\n",
    "and CombinedParsers\n",
    "\n",
    "Are julia types cool for parsing?"
   ]
  },
  {
   "cell_type": "markdown",
   "metadata": {},
   "source": [
    "## Workshop questions\n",
    "\n",
    "Are Julia types & method dispatch suited\n",
    "\n",
    "-   for converting Strings to anything fast?\n",
    "-   to build efficient string/message processing systems?"
   ]
  },
  {
   "cell_type": "markdown",
   "metadata": {},
   "source": [
    "## Workshop Outline:\n",
    "1.  Message Broker like Kafka\n",
    "2.  Writing recursive CombinedParsers (ENBF)\n",
    "3.  CombinedParsers internals: States and optimization\n",
    "    Contributers welcome."
   ]
  },
  {
   "cell_type": "markdown",
   "metadata": {},
   "source": [
    "# Part 1: Julia for message brokering?\n",
    "\n",
    "Julia\n",
    "\n",
    "-   established in distributed scientific computing.\n",
    "-   parametric types interesting for compiled parsers\n",
    "-   growing adoption\n",
    "-   opportunities in industry?\n",
    "\n",
    "Workshop notebook online at <https://github.com/gkappler/JuliaCon2021_CombinedParsers_workshop>.\n",
    "\n",
    "**Please use julia 1.5** (1.6 issues with generated functions for long sequences).\n",
    "\n",
    "And please update `CombinedParsers.jl` to v0.1.7"
   ]
  },
  {
   "cell_type": "markdown",
   "metadata": {},
   "source": [
    "## Usecase Example: Webserver Message Brokering\n",
    "\n",
    "Big Picture:\n",
    "\n",
    "-   Event streaming is big business,\n",
    "-   Confluence uses Apache Kafka,\n",
    "    <img src=\"https://dz2cdn3.dzone.com/storage/article-thumb/12418930-thumb.jpg\" width=\"200\"/>\n",
    "    not hadoop, but another java elephant in solution zoo\n",
    "    <img src=\"https://cdn.worldvectorlogo.com/logos/hadoop.svg\" width=\"200\"/>\n",
    "\n",
    "Are Julia types & method dispatch\n",
    "suited to build an efficient distributed message broker/parser?"
   ]
  },
  {
   "cell_type": "markdown",
   "metadata": {
    "slideshow": {
     "slide_type": "slide"
    }
   },
   "source": [
    "## Compiledparsers Performance: PCRE Benchmarks\n",
    "- `Regex` benchmarks: 86.0ns-521.0ns.\n",
    "- `Regcomb` benchmarks: 34.0ns-19704.0ns.\n",
    "- average ratio of `time_Recomb/time_Regex`: 1.26.\n",
    "- 59.0% of benchmarks faster with `Regcomb?`\n",
    "![](https://gkappler.github.io/CombinedParsers.jl/dev/man/log_btimes.png)"
   ]
  },
  {
   "cell_type": "markdown",
   "metadata": {},
   "source": [
    "### Know/interested in Kafka?\n",
    "\n",
    "Kafka terminology:\n",
    "\n",
    "#### Message Broker\n",
    "\n",
    "##### Producer\n",
    "> The producer sends data directly to the broker that is the leader for the partition without any intervening routing tier.\n",
    "\n",
    "<https://kafka.apache.org/documentation/#theproducer>\n",
    "\n",
    "##### Consumer\n",
    "> The Kafka consumer works by issuing \"fetch\" requests to the brokers leading the partitions it wants to consume. The consumer specifies its offset in the log with each request and receives back a chunk of log beginning from that position. The consumer thus has significant control over this position and can rewind it to re-consume data if need be.\n",
    "\n",
    "<https://kafka.apache.org/documentation/#theconsumer>"
   ]
  },
  {
   "cell_type": "markdown",
   "metadata": {},
   "source": [
    "##### How can Message Broker processing be done in julia?\n",
    "> Push vs. pull\n",
    ">\n",
    "> An initial question we considered is whether consumers should pull data from brokers or brokers should push data to the consumer. In this respect Kafka follows a more traditional design, shared by most messaging systems, where data is pushed to the broker from the producer and pulled from the broker by the consumer.\n",
    "<https://kafka.apache.org/documentation/#design_pull>\n",
    "\n",
    "Julia `RemoteChannel` has same design, compiled and distributed.\n",
    "(Julia Channels oriented at jobs/tasks/parallelism <https://docs.julialang.org/en/v1/manual/asynchronous-programming/#More-on-Channels>)"
   ]
  },
  {
   "cell_type": "code",
   "execution_count": 3,
   "metadata": {},
   "outputs": [],
   "source": [
    "using Distributed"
   ]
  },
  {
   "cell_type": "markdown",
   "metadata": {},
   "source": [
    "addprocs(2); # add worker processes"
   ]
  },
  {
   "cell_type": "code",
   "execution_count": 4,
   "metadata": {},
   "outputs": [
    {
     "data": {
      "text/plain": [
       "RemoteChannel{Channel{Any}}(1, 1, 28)"
      ]
     },
     "execution_count": 4,
     "metadata": {},
     "output_type": "execute_result"
    }
   ],
   "source": [
    "webserver_logs = RemoteChannel()"
   ]
  },
  {
   "cell_type": "markdown",
   "metadata": {},
   "source": [
    "### POC Focus:\n",
    "distributed compiled processing/parsing.\n",
    "\n",
    "### POC limitation:\n",
    "in memory (no stream persistence in `RemoteChannel`)."
   ]
  },
  {
   "cell_type": "markdown",
   "metadata": {},
   "source": [
    "## Example data: log file\n",
    "Webserver logs <https://github.com/elastic/examples/tree/master/Common%20Data%20Formats>"
   ]
  },
  {
   "cell_type": "code",
   "execution_count": 5,
   "metadata": {},
   "outputs": [
    {
     "data": {
      "text/plain": [
       "false"
      ]
     },
     "execution_count": 5,
     "metadata": {},
     "output_type": "execute_result"
    }
   ],
   "source": [
    "false && let logpath = \"https://github.com/elastic/examples/raw/master/Common%20Data%20Formats\"\n",
    "    download(\"$logpath/apache_logs/apache_logs\", \"./apache_logs\")\n",
    "    download(\"$logpath/nginx_logs/nginx_logs\", \"./nginx_logs\")\n",
    "end"
   ]
  },
  {
   "cell_type": "markdown",
   "metadata": {},
   "source": [
    "### Producers\n",
    "<https://stackoverflow.com/questions/67348301/julia-iterator-which-parses-each-line-in-file>\n",
    "1. read line by line\n",
    "2. parse a NamedTuple\n",
    "3. geoip\n",
    "\n",
    "#### Waiting file line iterator:\n",
    "\n",
    "Modified from `Base.EachLine`"
   ]
  },
  {
   "cell_type": "code",
   "execution_count": 6,
   "metadata": {},
   "outputs": [],
   "source": [
    "@everywhere struct EachLineFollow{IOT <: IO}\n",
    "    stream::IOT\n",
    "    ondone::Function\n",
    "    keep::Bool\n",
    "    wait::Float64\n",
    "    EachLineFollow(stream::IO=stdin; wait=1.0, ondone::Function=()->nothing, keep::Bool=false) =\n",
    "        new{typeof(stream)}(stream, ondone, keep, wait)\n",
    "end\n",
    "\n",
    "@everywhere function Base.iterate(itr::EachLineFollow, state=nothing)\n",
    "    while eof(itr.stream)\n",
    "        # nicely waiting itr.wait sec when eof\n",
    "        sleep(itr.wait)\n",
    "    end\n",
    "    (readline(itr.stream, keep=itr.keep), nothing)\n",
    "end\n",
    "\n",
    "@everywhere Base.eltype(::Type{<:EachLineFollow}) = String\n",
    "\n",
    "@everywhere Base.IteratorSize(::Type{<:EachLineFollow}) = SizeUnknown()"
   ]
  },
  {
   "cell_type": "markdown",
   "metadata": {},
   "source": [
    "#### produce log lines\n",
    "`make_jobs(n)` Following similar to example in <https://docs.julialang.org/en/v1/manual/distributed-computing/>\n",
    "More on distributed computing:\n",
    "<https://docs.julialang.org/en/v1/stdlib/Distributed/#Distributed.RemoteChannel>"
   ]
  },
  {
   "cell_type": "code",
   "execution_count": 7,
   "metadata": {},
   "outputs": [
    {
     "data": {
      "text/plain": [
       "(\"83.149.9.216 - - [17/May/2015:10:05:03 +0000] \\\"GET /presentations/logstash-monitorama-2013/images/kibana-search.png HTTP/1.1\\\" 200 203023 \\\"http://semicomplete.com/presentations/logstash-monitorama-2013/\\\" \\\"Mozilla/5.0 (Macintosh; Intel Mac OS X 10_9_1) AppleWebKit/537.36 (KHTML, like Gecko) Chrome/32.0.1700.77 Safari/537.36\\\"\\n\", \"apache\")"
      ]
     },
     "execution_count": 7,
     "metadata": {},
     "output_type": "execute_result"
    }
   ],
   "source": [
    "@everywhere function put_lines!(f::IO, broker, a...)\n",
    "    for l in EachLineFollow(f)\n",
    "        put!(broker, (l,a...))\n",
    "    end\n",
    "end\n",
    "@everywhere put_lines!(f::String, broker, a...) =\n",
    "    put_lines!(open(f), broker, f, a...)\n",
    "\n",
    "@async put_lines!(\"./apache_logs\", webserver_logs)\n",
    "@async put_lines!(\"./nginx_logs\", webserver_logs)\n",
    "\n",
    "logline, source = (\"\"\"\n",
    "83.149.9.216 - - [17/May/2015:10:05:03 +0000] \"GET /presentations/logstash-monitorama-2013/images/kibana-search.png HTTP/1.1\" 200 203023 \"http://semicomplete.com/presentations/logstash-monitorama-2013/\" \"Mozilla/5.0 (Macintosh; Intel Mac OS X 10_9_1) AppleWebKit/537.36 (KHTML, like Gecko) Chrome/32.0.1700.77 Safari/537.36\"\n",
    "\"\"\", \"apache\") # "
   ]
  },
  {
   "cell_type": "code",
   "execution_count": 27,
   "metadata": {},
   "outputs": [
    {
     "data": {
      "text/plain": [
       "(\"83.149.9.216 - - [17/May/2015:10:05:34 +0000] \\\"GET /presentations/logstash-monitorama-2013/images/sad-medic.png HTTP/1.1\\\" 200 430406 \\\"http://semicomplete.com/presentations/logstash-monitorama-2013/\\\" \\\"Mozilla/5.0 (Macintosh; Intel Mac OS X 10_9_1) AppleWebKit/537.36 (KHTML, like Gecko) Chrome/32.0.1700.77 Safari/537.36\\\"\", \"./apache_logs\")"
      ]
     },
     "execution_count": 27,
     "metadata": {},
     "output_type": "execute_result"
    }
   ],
   "source": [
    "logline, source = take!(webserver_logs)"
   ]
  },
  {
   "cell_type": "markdown",
   "metadata": {},
   "source": [
    "### Transformation\n",
    "Consumer of `event::String` and producer of parsings, similar to\n",
    "<https://kafka.apache.org/documentation/#connect_transforms>"
   ]
  },
  {
   "cell_type": "code",
   "execution_count": 8,
   "metadata": {},
   "outputs": [],
   "source": [
    "using CombinedParsers"
   ]
  },
  {
   "cell_type": "markdown",
   "metadata": {},
   "source": [
    "can be combined with"
   ]
  },
  {
   "cell_type": "code",
   "execution_count": 9,
   "metadata": {},
   "outputs": [
    {
     "data": {
      "text/plain": [
       "(0x0a, Dates.DateTime(\"2015-05-17T10:05:43\"))"
      ]
     },
     "execution_count": 9,
     "metadata": {},
     "output_type": "execute_result"
    }
   ],
   "source": [
    "using TextParse\n",
    "\n",
    "decimal_byte = parser(TextParse.Numeric(UInt8))\n",
    "datetime = parser(TextParse.DateTimeToken(TextParse.DateFormat(\"d/u/Y:H:M:S\")))\n",
    "decimal_byte(\"10\"), datetime(\"17/May/2015:10:05:43\")"
   ]
  },
  {
   "cell_type": "markdown",
   "metadata": {},
   "source": [
    "##### Matching IP Adresses"
   ]
  },
  {
   "cell_type": "code",
   "execution_count": 10,
   "metadata": {},
   "outputs": [
    {
     "data": {
      "text/plain": [
       "\u001b[0m\u001b[1m🗄\u001b[22m\u001b[0m Sequence |> map(\u001b[34m#73\u001b[39m)\n",
       "├─ \u001b[36m\u001b[1m[[:xdigit:]]\u001b[22m\u001b[39m\u001b[36m\u001b[1m*\u001b[22m\u001b[39m\u001b[0m CharIn |> Repeat\u001b[34m |> !\u001b[39m |> map(\u001b[34m#146\u001b[39m)\n",
       "└─ \u001b[0m\u001b[1m🗄\u001b[22m\u001b[36m\u001b[1m{7}\u001b[22m\u001b[39m\u001b[0m Sequence |> map(\u001b[34m#55\u001b[39m) |> Repeat\n",
       "   ├─ \u001b[36m\u001b[1m\\:\u001b[22m\u001b[39m\u001b[0m \n",
       "   └─ \u001b[36m\u001b[1m[[:xdigit:]]\u001b[22m\u001b[39m\u001b[36m\u001b[1m*\u001b[22m\u001b[39m\u001b[0m CharIn |> Repeat\u001b[34m |> !\u001b[39m |> map(\u001b[34m#146\u001b[39m)\n",
       "::Array{Int64,1}\n"
      ]
     },
     "execution_count": 10,
     "metadata": {},
     "output_type": "execute_result"
    }
   ],
   "source": [
    "ipv4 = join(Repeat(4,4,decimal_byte),'.')\n",
    "ipv6 = join(Repeat(8,8,integer_base(16)),':')"
   ]
  },
  {
   "cell_type": "code",
   "execution_count": 12,
   "metadata": {},
   "outputs": [
    {
     "name": "stdout",
     "output_type": "stream",
     "text": [
      "  11.457 μs (91 allocations: 4.08 KiB)\n"
     ]
    },
    {
     "data": {
      "text/plain": [
       "8-element Array{Int64,1}:\n",
       "  8195\n",
       "   239\n",
       " 10026\n",
       " 22784\n",
       "  5002\n",
       " 31969\n",
       "   749\n",
       "  3282"
      ]
     },
     "execution_count": 12,
     "metadata": {},
     "output_type": "execute_result"
    }
   ],
   "source": [
    "using BenchmarkTools\n",
    "\n",
    "m = match(ipv6, \"2003:ef:272a:5900:138a:7ce1:2ed:cd2\")\n",
    "@btime get(m)"
   ]
  },
  {
   "cell_type": "markdown",
   "metadata": {},
   "source": [
    "`!` is for capturing matched `SubString` (Syntax inspired by scala fastparse)\n",
    "Either: format alternatives"
   ]
  },
  {
   "cell_type": "code",
   "execution_count": 11,
   "metadata": {},
   "outputs": [
    {
     "data": {
      "text/plain": [
       "\u001b[36m\u001b[1m|\u001b[22m\u001b[39m\u001b[0m\u001b[1m🗄\u001b[22m\u001b[0m Either\u001b[34m |> !\u001b[39m\n",
       "├─ \u001b[0m\u001b[1m🗄\u001b[22m\u001b[0m Sequence |> map(\u001b[34m#73\u001b[39m)\n",
       "│  ├─ \u001b[0m <UInt8>\n",
       "│  └─ \u001b[0m\u001b[1m🗄\u001b[22m\u001b[36m\u001b[1m{3}\u001b[22m\u001b[39m\u001b[0m Sequence |> map(\u001b[34m#55\u001b[39m) |> Repeat\n",
       "│     ├─ \u001b[36m\u001b[1m\\.\u001b[22m\u001b[39m\u001b[0m \n",
       "│     └─ \u001b[0m <UInt8>\n",
       "└─ \u001b[0m\u001b[1m🗄\u001b[22m\u001b[0m Sequence |> map(\u001b[34m#73\u001b[39m)\n",
       "   ├─ \u001b[36m\u001b[1m[[:xdigit:]]\u001b[22m\u001b[39m\u001b[36m\u001b[1m*\u001b[22m\u001b[39m\u001b[0m CharIn |> Repeat\u001b[34m |> !\u001b[39m |> map(\u001b[34m#146\u001b[39m)\n",
       "   └─ \u001b[0m\u001b[1m🗄\u001b[22m\u001b[36m\u001b[1m{7}\u001b[22m\u001b[39m\u001b[0m Sequence |> map(\u001b[34m#55\u001b[39m) |> Repeat\n",
       "      ├─ \u001b[36m\u001b[1m\\:\u001b[22m\u001b[39m\u001b[0m \n",
       "      └─ \u001b[36m\u001b[1m[[:xdigit:]]\u001b[22m\u001b[39m\u001b[36m\u001b[1m*\u001b[22m\u001b[39m\u001b[0m CharIn |> Repeat\u001b[34m |> !\u001b[39m |> map(\u001b[34m#146\u001b[39m)\n",
       "::SubString{String}\n"
      ]
     },
     "execution_count": 11,
     "metadata": {},
     "output_type": "execute_result"
    }
   ],
   "source": [
    "ip = !Either(ipv4, ipv6)"
   ]
  },
  {
   "cell_type": "markdown",
   "metadata": {},
   "source": [
    "Matching an ip pattern as `SubString` is faster:"
   ]
  },
  {
   "cell_type": "code",
   "execution_count": 13,
   "metadata": {},
   "outputs": [
    {
     "name": "stdout",
     "output_type": "stream",
     "text": [
      "  29.636 ns (1 allocation: 32 bytes)\n"
     ]
    },
    {
     "data": {
      "text/plain": [
       "\"2003:ef:272a:5900:138a:7ce1:2ed:cd2\""
      ]
     },
     "execution_count": 13,
     "metadata": {},
     "output_type": "execute_result"
    }
   ],
   "source": [
    "m = match(ip, \"2003:ef:272a:5900:138a:7ce1:2ed:cd2\")\n",
    "@btime get(m)"
   ]
  },
  {
   "cell_type": "markdown",
   "metadata": {},
   "source": [
    "Defining parsers without syntax gives less (default) logging.\n",
    "\n",
    "`@syntax name = expr` is a convenience macro defining `name=with_name(name,expr)` and custom parsing macro `@name_str`."
   ]
  },
  {
   "cell_type": "code",
   "execution_count": 14,
   "metadata": {},
   "outputs": [
    {
     "data": {
      "text/plain": [
       "\u001b[0m\u001b[1m🗄\u001b[22m\u001b[0m Sequence |> map(\u001b[34mntuple\u001b[39m) |> with_name(:\u001b[31m\u001b[1mapache_logline\u001b[22m\u001b[39m)\n",
       "├─ \u001b[36m\u001b[1m|\u001b[22m\u001b[39m\u001b[0m\u001b[1m🗄\u001b[22m\u001b[0m Either\u001b[34m |> !\u001b[39m |> with_name(:\u001b[31m\u001b[1mip\u001b[22m\u001b[39m)\n",
       "│  ├─ \u001b[0m\u001b[1m🗄\u001b[22m\u001b[0m Sequence |> map(\u001b[34m#73\u001b[39m)\n",
       "│  │  ├─ \u001b[0m <UInt8>\n",
       "│  │  └─ \u001b[0m\u001b[1m🗄\u001b[22m\u001b[36m\u001b[1m{3}\u001b[22m\u001b[39m\u001b[0m Sequence |> map(\u001b[34m#55\u001b[39m) |> Repeat\n",
       "│  │     ├─ \u001b[36m\u001b[1m\\.\u001b[22m\u001b[39m\u001b[0m \n",
       "│  │     └─ \u001b[0m <UInt8>\n",
       "│  └─ \u001b[0m\u001b[1m🗄\u001b[22m\u001b[0m Sequence |> map(\u001b[34m#73\u001b[39m)\n",
       "│     ├─ \u001b[36m\u001b[1m[[:xdigit:]]\u001b[22m\u001b[39m\u001b[36m\u001b[1m*\u001b[22m\u001b[39m\u001b[0m CharIn |> Repeat\u001b[34m |> !\u001b[39m |> map(\u001b[34m#146\u001b[39m)\n",
       "│     └─ \u001b[0m\u001b[1m🗄\u001b[22m\u001b[36m\u001b[1m{7}\u001b[22m\u001b[39m\u001b[0m Sequence |> map(\u001b[34m#55\u001b[39m) |> Repeat\n",
       "│        ├─ \u001b[36m\u001b[1m\\:\u001b[22m\u001b[39m\u001b[0m \n",
       "│        └─ \u001b[36m\u001b[1m[[:xdigit:]]\u001b[22m\u001b[39m\u001b[36m\u001b[1m*\u001b[22m\u001b[39m\u001b[0m CharIn |> Repeat\u001b[34m |> !\u001b[39m |> map(\u001b[34m#146\u001b[39m)\n",
       "├─ \u001b[36m\u001b[1m\\ \u001b[22m\u001b[39m\u001b[0m \n",
       "├─ \u001b[36m\u001b[1m|\u001b[22m\u001b[39m\u001b[0m\u001b[1m🗄\u001b[22m\u001b[0m Either |> with_name(:\u001b[31m\u001b[1midentd\u001b[22m\u001b[39m)\n",
       "│  ├─ \u001b[36m\u001b[1m\\-\u001b[22m\u001b[39m\u001b[0m \u001b[34m => missing\u001b[39m\n",
       "│  └─ \u001b[36m\u001b[1m[^\\ ]\u001b[22m\u001b[39m\u001b[36m\u001b[1m*\u001b[22m\u001b[39m\u001b[0m CharNotIn |> Repeat\u001b[34m |> !\u001b[39m\n",
       "├─ \u001b[36m\u001b[1m\\ \u001b[22m\u001b[39m\u001b[0m \n",
       "├─ \u001b[36m\u001b[1m|\u001b[22m\u001b[39m\u001b[0m\u001b[1m🗄\u001b[22m\u001b[0m Either |> with_name(:\u001b[31m\u001b[1muser\u001b[22m\u001b[39m)\n",
       "│  ├─ \u001b[36m\u001b[1m\\-\u001b[22m\u001b[39m\u001b[0m \u001b[34m => missing\u001b[39m\n",
       "│  └─ \u001b[36m\u001b[1m[^\\ ]\u001b[22m\u001b[39m\u001b[36m\u001b[1m*\u001b[22m\u001b[39m\u001b[0m CharNotIn |> Repeat\u001b[34m |> !\u001b[39m\n",
       "├─ \u001b[36m\u001b[1m\\ \\[\u001b[22m\u001b[39m\u001b[0m \n",
       "├─ \u001b[0m TextParse.DateTimeToken{Dates.DateTime,Dates.DateFormat{Symbol(\"d/u/Y:H:M:S\"),Tuple{Dates.DatePart{'d'},Dates.Delim{Char,1},Dates.DatePart{'u'},Dates.Delim{Char,1},Dates.DatePart{'Y'},Dates.Delim{Char,1},Dates.DatePart{'H'},Dates.Delim{Char,1},Dates.DatePart{'M'},Dates.Delim{Char,1},Dates.DatePart{'S'}}}}(dateformat\"d/u/Y:H:M:S\") |> with_name(:\u001b[31m\u001b[1mdate\u001b[22m\u001b[39m)\n",
       "├─ \u001b[36m\u001b[1m\\ \\+\u001b[22m\u001b[39m\u001b[0m \n",
       "├─ \u001b[0m <Int64> |> with_name(:\u001b[31m\u001b[1mtimezone\u001b[22m\u001b[39m)\n",
       "├─ \u001b[36m\u001b[1m\\]\\ \\\"\u001b[22m\u001b[39m\u001b[0m \n",
       "├─ \u001b[36m\u001b[1m|\u001b[22m\u001b[39m\u001b[0m\u001b[1m🗄\u001b[22m\u001b[0m Either |> map(\u001b[34mintern\u001b[39m) |> map(\u001b[34mString\u001b[39m) |> with_name(:\u001b[31m\u001b[1mreq_method\u001b[22m\u001b[39m)\n",
       "│  ├─ \u001b[36m\u001b[1mGET\u001b[22m\u001b[39m\u001b[0m \n",
       "│  ├─ \u001b[36m\u001b[1mPOST\u001b[22m\u001b[39m\u001b[0m \n",
       "│  ├─ \u001b[36m\u001b[1mHEAD\u001b[22m\u001b[39m\u001b[0m \n",
       "│  └─ \u001b[36m\u001b[1mOPTIONS\u001b[22m\u001b[39m\u001b[0m \n",
       "├─ \u001b[36m\u001b[1m\\ \u001b[22m\u001b[39m\u001b[0m \n",
       "├─ \u001b[36m\u001b[1m[^\\ ]\u001b[22m\u001b[39m\u001b[36m\u001b[1m*\u001b[22m\u001b[39m\u001b[0m CharNotIn |> Repeat\u001b[34m |> !\u001b[39m |> with_name(:\u001b[31m\u001b[1mreq_url\u001b[22m\u001b[39m)\n",
       "├─ \u001b[36m\u001b[1m\\ HTTP/\u001b[22m\u001b[39m\u001b[0m \n",
       "├─ \u001b[0m <Float64> |> with_name(:\u001b[31m\u001b[1mreq_http_version\u001b[22m\u001b[39m)\n",
       "├─ \u001b[36m\u001b[1m\\\"\\ \u001b[22m\u001b[39m\u001b[0m \n",
       "├─ \u001b[0m <Int64> |> with_name(:\u001b[31m\u001b[1mstatus\u001b[22m\u001b[39m)\n",
       "├─ \u001b[36m\u001b[1m\\ \u001b[22m\u001b[39m\u001b[0m \n",
       "├─ \u001b[36m\u001b[1m|\u001b[22m\u001b[39m\u001b[0m\u001b[1m🗄\u001b[22m\u001b[0m Either |> with_name(:\u001b[31m\u001b[1msize\u001b[22m\u001b[39m)\n",
       "│  ├─ \u001b[0m <Int64>\n",
       "│  └─ \u001b[36m\u001b[1m\\-\u001b[22m\u001b[39m\u001b[0m \u001b[34m => 0\u001b[39m\n",
       "├─ \u001b[36m\u001b[1m\\ \u001b[22m\u001b[39m\u001b[0m \n",
       "├─ \u001b[36m\u001b[1m\\\"\u001b[22m\u001b[39m\u001b[0m \n",
       "├─ \u001b[36m\u001b[1m|\u001b[22m\u001b[39m\u001b[0m\u001b[1m🗄\u001b[22m\u001b[36m\u001b[1m*\u001b[22m\u001b[39m\u001b[0m Either |> Repeat\u001b[34m |> !\u001b[39m |> with_name(:\u001b[31m\u001b[1murl\u001b[22m\u001b[39m)\n",
       "│  ├─ \u001b[36m\u001b[1m\\\\\\\"\u001b[22m\u001b[39m\u001b[0m \n",
       "│  └─ \u001b[36m\u001b[1m[^\\\"]\u001b[22m\u001b[39m\u001b[0m CharNotIn\n",
       "├─ \u001b[36m\u001b[1m\\\"\\ \\\"\u001b[22m\u001b[39m\u001b[0m \n",
       "├─ \u001b[36m\u001b[1m|\u001b[22m\u001b[39m\u001b[0m\u001b[1m🗄\u001b[22m\u001b[36m\u001b[1m*\u001b[22m\u001b[39m\u001b[0m Either |> Repeat\u001b[34m |> !\u001b[39m |> with_name(:\u001b[31m\u001b[1mbrowser\u001b[22m\u001b[39m)\n",
       "│  ├─ \u001b[36m\u001b[1m\\\\\\\"\u001b[22m\u001b[39m\u001b[0m \n",
       "│  └─ \u001b[36m\u001b[1m[^\\\"]\u001b[22m\u001b[39m\u001b[0m CharNotIn\n",
       "└─ \u001b[36m\u001b[1m\\\"\u001b[22m\u001b[39m\u001b[0m \n",
       "::NamedTuple{(:ip, :identd, :user, :date, :timezone, :req_method, :req_url, :req_http_version, :status, :size, :url, :browser),Tuple{SubString{String},Union{Missing, SubString{String}},Union{Missing, SubString{String}},Dates.DateTime,Int64,String,SubString{String},Float64,Int64,Int64,SubString{String},SubString{String}}}\n"
      ]
     },
     "execution_count": 14,
     "metadata": {},
     "output_type": "execute_result"
    }
   ],
   "source": [
    "number = TextParse.Numeric(Int)\n",
    "nospace = !Repeat(CharNotIn(' '))\n",
    "escapedquotes = !Repeat(Either(\"\\\\\\\"\", CharNotIn('\"')))\n",
    "\n",
    "@syntax apache_logline = Sequence(\n",
    "    :ip               => ip,\n",
    "    \" \",\n",
    "    :identd           => Either(\"-\" => missing, nospace),\n",
    "    \" \",\n",
    "    :user             => Either(\"-\" => missing, nospace),\n",
    "    \" [\",\n",
    "    :date             => datetime, \" +\", :timezone => number,\n",
    "    \"] \\\"\",\n",
    "    :req_method       => !Either(\"GET\", \"POST\", \"HEAD\", \"OPTIONS\"),\n",
    "    ' ',\n",
    "    :req_url          => nospace,\n",
    "    \" HTTP/\",\n",
    "    :req_http_version => TextParse.Numeric(Float64),\n",
    "    \"\\\" \",\n",
    "    :status           => number,\n",
    "    ' ',\n",
    "    :size             => Either(number, '-' =>0 ) ,\n",
    "    ' ',\n",
    "    '\"',\n",
    "    :url              => escapedquotes,\n",
    "    \"\\\" \\\"\",\n",
    "    :browser          => escapedquotes, '\"'\n",
    ")"
   ]
  },
  {
   "cell_type": "markdown",
   "metadata": {},
   "source": [
    "#### Logging\n",
    "can be done selectively"
   ]
  },
  {
   "cell_type": "code",
   "execution_count": 30,
   "metadata": {},
   "outputs": [
    {
     "name": "stdout",
     "output_type": "stream",
     "text": [
      "   \u001b[4mmatch\u001b[24m \u001b[32mip\u001b[39m@1-13: \u001b[4m\u001b[1m83.149.9.216\u001b[22m\u001b[24m\u001b[39m - - [\u001b[39m\n"
     ]
    }
   ],
   "source": [
    "apache_logline(logline, log=[:ip]);"
   ]
  },
  {
   "cell_type": "markdown",
   "metadata": {},
   "source": [
    "and fully"
   ]
  },
  {
   "cell_type": "code",
   "execution_count": 29,
   "metadata": {},
   "outputs": [
    {
     "name": "stdout",
     "output_type": "stream",
     "text": [
      "   \u001b[4mmatch\u001b[24m \u001b[32mip\u001b[39m@1-13: \u001b[4m\u001b[1m83.149.9.216\u001b[22m\u001b[24m\u001b[39m - - [\u001b[39m\n",
      "   \u001b[4mmatch\u001b[24m \u001b[32midentd\u001b[39m@14-15: \u001b[0m\u001b[1m.216 \u001b[22m\u001b[4m\u001b[1m-\u001b[22m\u001b[24m\u001b[39m - [17\u001b[39m\n",
      "   \u001b[4mmatch\u001b[24m \u001b[32muser\u001b[39m@16-17: \u001b[0m\u001b[1m16 - \u001b[22m\u001b[4m\u001b[1m-\u001b[22m\u001b[24m\u001b[39m [17/M\u001b[39m\n",
      "   \u001b[4mmatch\u001b[24m \u001b[32mdate\u001b[39m@19-39: \u001b[0m\u001b[1m- - [\u001b[22m\u001b[4m\u001b[1m17/May/2015:10:05:34\u001b[22m\u001b[24m\u001b[39m +0000\u001b[39m\n",
      "   \u001b[4mmatch\u001b[24m \u001b[32mtimezone\u001b[39m@41-45: \u001b[0m\u001b[1m:34 +\u001b[22m\u001b[4m\u001b[1m0000\u001b[22m\u001b[24m\u001b[39m] \\\"GET\u001b[39m\n",
      "   \u001b[4mmatch\u001b[24m \u001b[32mreq_method\u001b[39m@48-51: \u001b[0m\u001b[1m00] \\\"\u001b[22m\u001b[4m\u001b[1mGET\u001b[22m\u001b[24m\u001b[39m /pres\u001b[39m\n",
      "   \u001b[4mmatch\u001b[24m \u001b[32mreq_url\u001b[39m@52-112: \u001b[0m\u001b[1m\\\"GET \u001b[22m\u001b[4m\u001b[1m/presentations/logstash-monitorama-2013/images/sad-medic.png\u001b[22m\u001b[24m\u001b[39m HTTP/\u001b[39m\n",
      "   \u001b[4mmatch\u001b[24m \u001b[32mreq_http_version\u001b[39m@118-121: \u001b[0m\u001b[1mHTTP/\u001b[22m\u001b[4m\u001b[1m1.1\u001b[22m\u001b[24m\u001b[39m\\\" 200 \u001b[39m\n",
      "   \u001b[4mmatch\u001b[24m \u001b[32mstatus\u001b[39m@123-126: \u001b[0m\u001b[1m1.1\\\" \u001b[22m\u001b[4m\u001b[1m200\u001b[22m\u001b[24m\u001b[39m 43040\u001b[39m\n",
      "   \u001b[4mmatch\u001b[24m \u001b[32msize\u001b[39m@127-133: \u001b[0m\u001b[1m 200 \u001b[22m\u001b[4m\u001b[1m430406\u001b[22m\u001b[24m\u001b[39m \\\"http\u001b[39m\n",
      "   \u001b[4mmatch\u001b[24m \u001b[32murl\u001b[39m@135-198: \u001b[0m\u001b[1m406 \\\"\u001b[22m\u001b[4m\u001b[1mhttp://semicomplete.com/presentations/logstash-monitorama-2013/\u001b[22m\u001b[24m\u001b[39m\\\" \\\"Moz\u001b[39m\n",
      "   \u001b[4mmatch\u001b[24m \u001b[32mbrowser\u001b[39m@201-320: \u001b[0m\u001b[1m3/\\\" \\\"\u001b[22m\u001b[4m\u001b[1mMozilla/5.0 (Macintos[...]1700.77 Safari/537.36\u001b[22m\u001b[24m\u001b[39m\\\"\u001b[39m\n",
      "   \u001b[4mmatch\u001b[24m \u001b[32mapache_logline\u001b[39m@1-321: \u001b[4m\u001b[1m83.149.9.216 - - [17/[...]00.77 Safari/537.36\\\"\u001b[22m\u001b[24m\n"
     ]
    },
    {
     "data": {
      "text/plain": [
       "NamedTuple{(:ip, :identd, :user, :date, :timezone, :req_method, :req_url, :req_http_version, :status, :size, :url, :browser),Tuple{SubString{String},Union{Missing, SubString{String}},Union{Missing, SubString{String}},Dates.DateTime,Int64,String,SubString{String},Float64,Int64,Int64,SubString{String},SubString{String}}}((\"83.149.9.216\", missing, missing, Dates.DateTime(\"2015-05-17T10:05:34\"), 0, \"GET\", \"/presentations/logstash-monitorama-2013/images/sad-medic.png\", 1.1, 200, 430406, \"http://semicomplete.com/presentations/logstash-monitorama-2013/\", \"Mozilla/5.0 (Macintosh; Intel Mac OS X 10_9_1) AppleWebKit/537.36 (KHTML, like Gecko) Chrome/32.0.1700.77 Safari/537.36\"))"
      ]
     },
     "execution_count": 29,
     "metadata": {},
     "output_type": "execute_result"
    }
   ],
   "source": [
    "apache_logline(logline, log=true)"
   ]
  },
  {
   "cell_type": "code",
   "execution_count": 28,
   "metadata": {},
   "outputs": [
    {
     "data": {
      "text/plain": [
       "(NamedTuple{(:ip, :identd, :user, :date, :timezone, :req_method, :req_url, :req_http_version, :status, :size, :url, :browser),Tuple{SubString{String},Union{Missing, SubString{String}},Union{Missing, SubString{String}},Dates.DateTime,Int64,String,SubString{String},Float64,Int64,Int64,SubString{String},SubString{String}}}((\"83.149.9.216\", missing, missing, Dates.DateTime(\"2015-05-17T10:05:34\"), 0, \"GET\", \"/presentations/logstash-monitorama-2013/images/sad-medic.png\", 1.1, 200, 430406, \"http://semicomplete.com/presentations/logstash-monitorama-2013/\", \"Mozilla/5.0 (Macintosh; Intel Mac OS X 10_9_1) AppleWebKit/537.36 (KHTML, like Gecko) Chrome/32.0.1700.77 Safari/537.36\")), \"./apache_logs\")"
      ]
     },
     "execution_count": 28,
     "metadata": {},
     "output_type": "execute_result"
    }
   ],
   "source": [
    "function parse_logline((event,file), parser, producer)\n",
    "    tevent = tryparse(parser, event)\n",
    "    if tevent === nothing\n",
    "        tryparse(parser, event, log=true)\n",
    "        println(event)\n",
    "    else\n",
    "        put!(producer,(tevent, file))\n",
    "        tevent, file\n",
    "    end\n",
    "end\n",
    "\n",
    "logtable_rows = RemoteChannel()\n",
    "parse_logline((logline, source), apache_logline, logtable_rows)"
   ]
  },
  {
   "cell_type": "markdown",
   "metadata": {},
   "source": [
    "Now lets connect `webserver_logs::RemoteChannel` with `logtable_rows::RemoteChannel` with the `parse_logline` function.\n",
    "\n",
    "Note: this could emit any other type too!"
   ]
  },
  {
   "cell_type": "code",
   "execution_count": 17,
   "metadata": {},
   "outputs": [
    {
     "data": {
      "text/plain": [
       "Task (runnable) @0x00007f3699640280"
      ]
     },
     "execution_count": 17,
     "metadata": {},
     "output_type": "execute_result"
    }
   ],
   "source": [
    "function take_map!(f::Function, broker, a...; kw...)\n",
    "    while true\n",
    "        event = take!(broker)\n",
    "        f(event, a...; kw...)\n",
    "    end\n",
    "end\n",
    "\n",
    "\n",
    "\n",
    "@async take_map!(parse_logline,  # map function\n",
    "                 webserver_logs, # input\n",
    "                 apache_logline, # further arguments to parse_logline...\n",
    "                 logtable_rows)"
   ]
  },
  {
   "cell_type": "markdown",
   "metadata": {},
   "source": [
    "### Transformation: IP Geolocation (privacy obfuscation)\n",
    "<https://www.maketecheasier.com/ip-address-geolocation-lookups-linux/>\n",
    "no city level"
   ]
  },
  {
   "cell_type": "code",
   "execution_count": 18,
   "metadata": {},
   "outputs": [
    {
     "name": "stdout",
     "output_type": "stream",
     "text": [
      "GeoIP Country Edition: DE, Germany\n",
      "GeoIP City Edition, Rev 0: IP Address not found\n"
     ]
    },
    {
     "data": {
      "text/plain": [
       "Process(`\u001b[4mgeoiplookup\u001b[24m \u001b[4m162.158.91.43\u001b[24m`, ProcessExited(0))"
      ]
     },
     "execution_count": 18,
     "metadata": {},
     "output_type": "execute_result"
    }
   ],
   "source": [
    "`geoiplookup 162.158.91.43` |> run"
   ]
  },
  {
   "cell_type": "code",
   "execution_count": 31,
   "metadata": {},
   "outputs": [
    {
     "name": "stdout",
     "output_type": "stream",
     "text": [
      "GeoIP Country Edition: US, United States\n",
      "GeoIP City Edition, Rev 0: US, CO, Colorado, Broomfield, 80021, 39.893799, -105.114403\n"
     ]
    },
    {
     "data": {
      "text/plain": [
       "Process(`\u001b[4mgeoiplookup\u001b[24m \u001b[4m8.8.8.8\u001b[24m`, ProcessExited(0))"
      ]
     },
     "execution_count": 31,
     "metadata": {},
     "output_type": "execute_result"
    }
   ],
   "source": [
    "`geoiplookup 8.8.8.8` |> run"
   ]
  },
  {
   "cell_type": "markdown",
   "metadata": {},
   "source": [
    "We parse the `geoiplookup` output (on city level, if available)"
   ]
  },
  {
   "cell_type": "code",
   "execution_count": 32,
   "metadata": {},
   "outputs": [
    {
     "data": {
      "text/plain": [
       "(\"DE, Germany\", \"US, CO, Colorado, Broomfield, 80021, 39.893799, -105.114403\")"
      ]
     },
     "execution_count": 32,
     "metadata": {},
     "output_type": "execute_result"
    }
   ],
   "source": [
    "geoiplookup_out = Either(\n",
    "    Sequence(6,\n",
    "             \"GeoIP Country Edition: \", inline, newline,\n",
    "             \"GeoIP City Edition, Rev 0: \", NegativeLookahead(\"IP Address not found\"), !inline, newline),\n",
    "    Sequence(2,\n",
    "             \"GeoIP Country Edition: \", !inline, newline)\n",
    ")\n",
    "\n",
    "function geoip(ip::AbstractString)\n",
    "    read(`geoiplookup $ip`, String) |> geoiplookup_out\n",
    "end\n",
    "iplookup = Either(map(geoip, !ipv4),\n",
    "                  ipv6 => \"no GeoIP for IPv6\")\n",
    "\n",
    "geoip(\"162.158.91.43\"), geoip(\"8.8.8.8\")"
   ]
  },
  {
   "cell_type": "markdown",
   "metadata": {},
   "source": [
    "IPv6 is not supported by geoiplookup.\n",
    "\n",
    "Using method dispatch again (sloppily assuming a `:ip` property)."
   ]
  },
  {
   "cell_type": "code",
   "execution_count": 20,
   "metadata": {},
   "outputs": [
    {
     "data": {
      "text/plain": [
       "geoip (generic function with 4 methods)"
      ]
     },
     "execution_count": 20,
     "metadata": {},
     "output_type": "execute_result"
    }
   ],
   "source": [
    "function geoip(x::NamedTuple)\n",
    "    (; geoip=iplookup(x.ip),\n",
    "     ( p => getproperty(x,p)\n",
    "       for p in propertynames(x)\n",
    "           if p != :ip)... )\n",
    "end\n",
    "geoip((ip=\"162.158.91.43\", some=1))\n",
    "\n",
    "geoip(x::Tuple{<:NamedTuple,<:AbstractString}) =\n",
    "    (geoip(x[1]),x[2])\n",
    "\n",
    "geoip(x::Tuple{<:NamedTuple,<:AbstractString}, producer::RemoteChannel) =\n",
    "    put!(producer, geoip(x))"
   ]
  },
  {
   "cell_type": "code",
   "execution_count": 25,
   "metadata": {},
   "outputs": [
    {
     "data": {
      "text/plain": [
       "(NamedTuple{(:ip, :identd, :user, :date, :timezone, :req_method, :req_url, :req_http_version, :status, :size, :url, :browser),Tuple{SubString{String},Union{Missing, SubString{String}},Union{Missing, SubString{String}},Dates.DateTime,Int64,String,SubString{String},Float64,Int64,Int64,SubString{String},SubString{String}}}((\"93.180.71.3\", missing, missing, Dates.DateTime(\"2015-05-17T08:05:23\"), 0, \"GET\", \"/downloads/product_1\", 1.1, 304, 0, \"-\", \"Debian APT-HTTP/1.3 (0.8.16~exp12ubuntu10.21)\")), \"./nginx_logs\")"
      ]
     },
     "execution_count": 25,
     "metadata": {},
     "output_type": "execute_result"
    }
   ],
   "source": [
    "x = take!(logtable_rows)"
   ]
  },
  {
   "cell_type": "code",
   "execution_count": 21,
   "metadata": {},
   "outputs": [
    {
     "data": {
      "text/plain": [
       "Task (runnable) @0x00007f369a457a90"
      ]
     },
     "execution_count": 21,
     "metadata": {},
     "output_type": "execute_result"
    }
   ],
   "source": [
    "geoip_rows = RemoteChannel()\n",
    "\n",
    "@async take_map!(geoip,  # map function\n",
    "                 logtable_rows, # input\n",
    "                 geoip_rows)"
   ]
  },
  {
   "cell_type": "code",
   "execution_count": 26,
   "metadata": {},
   "outputs": [
    {
     "data": {
      "text/plain": [
       "((geoip = \"RU, 48, Moscow City, Moscow, N/A, 55.752201, 37.615601\", identd = missing, user = missing, date = Dates.DateTime(\"2015-05-17T10:05:43\"), timezone = 0, req_method = \"GET\", req_url = \"/presentations/logstash-monitorama-2013/images/kibana-dashboard3.png\", req_http_version = 1.1, status = 200, size = 171717, url = \"http://semicomplete.com/presentations/logstash-monitorama-2013/\", browser = \"Mozilla/5.0 (Macintosh; Intel Mac OS X 10_9_1) AppleWebKit/537.36 (KHTML, like Gecko) Chrome/32.0.1700.77 Safari/537.36\"), \"./apache_logs\")"
      ]
     },
     "execution_count": 26,
     "metadata": {},
     "output_type": "execute_result"
    }
   ],
   "source": [
    "x = take!(geoip_rows)"
   ]
  },
  {
   "cell_type": "markdown",
   "metadata": {},
   "source": [
    "## Consumers and sinks:\n",
    "`RemoteChannel` can be mapped with any julia function, e.g.\n",
    "- store in Database with Lighthouse.jl\n",
    "- log file\n",
    "- dispatched to multiple consumers\n",
    "- gittrie.jl with csv (published soon)"
   ]
  },
  {
   "cell_type": "markdown",
   "metadata": {},
   "source": [
    "### Parallelism\n",
    "Useful for indexing use case with\n",
    "Wiktionary developing wikitext recursive parser <https://github.com/gkappler/WikitextParser.jl>"
   ]
  },
  {
   "cell_type": "markdown",
   "metadata": {},
   "source": [
    "## Message brokering Proof of Concept\n",
    "Comparing julia with java\n",
    "- using function dispatch in julia\n",
    "- java classes for Kafka transformations\n",
    "Julia is slicker (runtime, devtime and concepts)"
   ]
  },
  {
   "cell_type": "markdown",
   "metadata": {},
   "source": [
    "### Prospect for message brokering in julia.\n",
    "#### Kafka Event streams\n",
    "Workshop focus on processing, not handling/storage.\n",
    "\n",
    "> A stream is the most important abstraction provided by Kafka Streams: it represents an unbounded, continuously updating data set.\n",
    "> A stream is an ordered, **replayable**, and **fault-tolerant** sequence of immutable data records, where a data record is defined as a key-value pair.\n",
    "\n",
    "<https://kafka.apache.org/11/documentation/streams/core-concepts#streams_topology>\n",
    "\n",
    "Serializing messages with offset indices, e.g. with <https://docs.julialang.org/en/v1/stdlib/Mmap/>, <https://github.com/JuliaData/MemPool.jl>\n",
    "Kafka streams feature interesting for julia `RemoteChannel`?\n",
    "\n",
    "Current business deal-breakers:\n",
    "-   no [processing guarantee](https://kafka.apache.org/11/documentation/streams/core-concepts#streams_processing_guarantee)\n",
    "\n",
    "No discussion of Kafka events ∈ topics, or partitions."
   ]
  },
  {
   "cell_type": "markdown",
   "metadata": {},
   "source": [
    "---\n",
    "\n",
    "*This notebook was generated using [Literate.jl](https://github.com/fredrikekre/Literate.jl).*"
   ]
  }
 ],
 "metadata": {
  "kernelspec": {
   "display_name": "Julia 1.5.4",
   "language": "julia",
   "name": "julia-1.5"
  },
  "language_info": {
   "file_extension": ".jl",
   "mimetype": "application/julia",
   "name": "julia",
   "version": "1.5.4"
  }
 },
 "nbformat": 4,
 "nbformat_minor": 3
}
